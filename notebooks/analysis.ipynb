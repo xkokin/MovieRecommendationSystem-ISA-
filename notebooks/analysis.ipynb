{
 "cells": [
  {
   "cell_type": "code",
   "execution_count": 1,
   "id": "initial_id",
   "metadata": {
    "collapsed": true
   },
   "outputs": [],
   "source": [
    "import pandas as pd\n",
    "import os\n",
    "import plotly.express as px"
   ]
  },
  {
   "cell_type": "markdown",
   "id": "a722402d",
   "metadata": {},
   "source": [
    "# Preview the raw data and explore structure\n",
    "\n",
    "View the basic structure of the data to figure out a way to load it into a pandas dataframe."
   ]
  },
  {
   "cell_type": "code",
   "execution_count": 2,
   "id": "304f40f7",
   "metadata": {},
   "outputs": [
    {
     "name": "stdout",
     "output_type": "stream",
     "text": [
      "1::F::1::10::48067\n",
      "2::M::56::16::70072\n",
      "3::M::25::15::55117\n",
      "4::M::45::7::02460\n",
      "5::M::25::20::55455\n",
      "6::F::50::9::55117\n",
      "7::M::35::1::06810\n",
      "8::M::25::12::11413\n",
      "9::M::25::17::61614\n",
      "10::F::35::1::95370\n"
     ]
    }
   ],
   "source": [
    "!head ../data/raw/users.dat"
   ]
  },
  {
   "cell_type": "code",
   "execution_count": null,
   "id": "e60a4b5a",
   "metadata": {},
   "outputs": [
    {
     "name": "stdout",
     "output_type": "stream",
     "text": [
      "1::1193::5::978300760\n",
      "1::661::3::978302109\n",
      "1::914::3::978301968\n",
      "1::3408::4::978300275\n",
      "1::2355::5::978824291\n",
      "1::1197::3::978302268\n",
      "1::1287::5::978302039\n",
      "1::2804::5::978300719\n",
      "1::594::4::978302268\n",
      "1::919::4::978301368\n"
     ]
    }
   ],
   "source": [
    "!head ../data/raw/ratings.dat"
   ]
  },
  {
   "cell_type": "code",
   "execution_count": 7,
   "id": "f43c64fe",
   "metadata": {},
   "outputs": [
    {
     "name": "stdout",
     "output_type": "stream",
     "text": [
      "1::Toy Story (1995)::Animation|Children's|Comedy\n",
      "2::Jumanji (1995)::Adventure|Children's|Fantasy\n",
      "3::Grumpier Old Men (1995)::Comedy|Romance\n",
      "4::Waiting to Exhale (1995)::Comedy|Drama\n",
      "5::Father of the Bride Part II (1995)::Comedy\n",
      "6::Heat (1995)::Action|Crime|Thriller\n",
      "7::Sabrina (1995)::Comedy|Romance\n",
      "8::Tom and Huck (1995)::Adventure|Children's\n",
      "9::Sudden Death (1995)::Action\n",
      "10::GoldenEye (1995)::Action|Adventure|Thriller\n"
     ]
    }
   ],
   "source": [
    "!head ../data/raw/movies.dat"
   ]
  },
  {
   "cell_type": "markdown",
   "id": "a5944d89",
   "metadata": {},
   "source": [
    "# File structures and column names\n",
    "\n",
    "The contain `::` separated fields. The columns are not obvious, but the [original source](https://files.grouplens.org/datasets/movielens/ml-1m-README.txt) provides explanation.\n",
    "\n",
    "The columns in\n",
    "\n",
    "  - user.dat    are `UserID::Gender::Age::Occupation::Zip-code`\n",
    "    - where gender is `F` or `M`\n",
    "    - and age is on of `[1, 18, 25, 35, 45, 50, 56]` which divides the users into age groups\n",
    "    - occupation is from the interval `[0,20]`, explanation prvided in the original source\n",
    "  - movies.dat  are `MovieID::Title::Genres`\n",
    "    - where genres are pipe-separated and are one of the listed categories in the original source\n",
    "  - ratings.dat are `UserID::MovieID::Rating::Timestamp`\n",
    "    - where ratings are on the interval `[1,5]` (stars count based, only whole numbers)\n",
    "\n",
    "\n",
    "# Load the data"
   ]
  },
  {
   "cell_type": "code",
   "execution_count": 4,
   "id": "6a79c695",
   "metadata": {},
   "outputs": [],
   "source": [
    "RAW_DATA_DIR = \"../data/raw/\"\n",
    "\n",
    "users_file = os.path.join(RAW_DATA_DIR, \"users.dat\")\n",
    "movies_file = os.path.join(RAW_DATA_DIR, \"movies.dat\")\n",
    "ratings_file = os.path.join(RAW_DATA_DIR, \"ratings.dat\")\n",
    "\n",
    "users = pd.read_csv(users_file, sep=\"::\", engine=\"python\",\n",
    "                    names=[\"UserID\", \"Gender\", \"Age\", \"Occupation\", \"Zip-code\"])\n",
    "\n",
    "# we need to use 'latin1' encoding, since the default 'utf-8' encoding does not work\n",
    "movies = pd.read_csv(movies_file, sep=\"::\", engine=\"python\",\n",
    "                     names=[\"MovieID\", \"Title\", \"Genres\"], encoding=\"latin1\")\n",
    "\n",
    "ratings = pd.read_csv(ratings_file, sep=\"::\", engine=\"python\",\n",
    "                      names=[\"UserID\", \"MovieID\", \"Rating\", \"Timestamp\"])"
   ]
  },
  {
   "cell_type": "markdown",
   "id": "cc646102",
   "metadata": {},
   "source": [
    "# Basic info about the counts, duplicates, missing values and types of data\n",
    "\n",
    "Gather some insights into how many unique users, movies and ratings we have. Do we have any duplicates? Are there any missing values?"
   ]
  },
  {
   "cell_type": "code",
   "execution_count": 31,
   "id": "de48515e",
   "metadata": {},
   "outputs": [
    {
     "name": "stdout",
     "output_type": "stream",
     "text": [
      "---- duplicates ----\n",
      "Number of duplicated user IDs: 0\n",
      "Number of duplicated movie IDs: 0\n",
      "Number of duplicated ratings: 0\n",
      "---- column types ----\n",
      "\t>> users column types <<\n",
      "<class 'pandas.core.frame.DataFrame'>\n",
      "RangeIndex: 6040 entries, 0 to 6039\n",
      "Data columns (total 5 columns):\n",
      " #   Column      Non-Null Count  Dtype \n",
      "---  ------      --------------  ----- \n",
      " 0   UserID      6040 non-null   int64 \n",
      " 1   Gender      6040 non-null   object\n",
      " 2   Age         6040 non-null   int64 \n",
      " 3   Occupation  6040 non-null   int64 \n",
      " 4   Zip-code    6040 non-null   object\n",
      "dtypes: int64(3), object(2)\n",
      "memory usage: 236.1+ KB\n",
      "None\n",
      "\t>> movies column types <<\n",
      "<class 'pandas.core.frame.DataFrame'>\n",
      "RangeIndex: 3883 entries, 0 to 3882\n",
      "Data columns (total 3 columns):\n",
      " #   Column   Non-Null Count  Dtype \n",
      "---  ------   --------------  ----- \n",
      " 0   MovieID  3883 non-null   int64 \n",
      " 1   Title    3883 non-null   object\n",
      " 2   Genres   3883 non-null   object\n",
      "dtypes: int64(1), object(2)\n",
      "memory usage: 91.1+ KB\n",
      "None\n",
      "\t>> ratings column types <<\n",
      "<class 'pandas.core.frame.DataFrame'>\n",
      "RangeIndex: 1000209 entries, 0 to 1000208\n",
      "Data columns (total 4 columns):\n",
      " #   Column     Non-Null Count    Dtype\n",
      "---  ------     --------------    -----\n",
      " 0   UserID     1000209 non-null  int64\n",
      " 1   MovieID    1000209 non-null  int64\n",
      " 2   Rating     1000209 non-null  int64\n",
      " 3   Timestamp  1000209 non-null  int64\n",
      "dtypes: int64(4)\n",
      "memory usage: 30.5 MB\n",
      "None\n"
     ]
    }
   ],
   "source": [
    "# we can omit this since we get this information from df.info()\n",
    "# print(\"---- shapes ----\")\n",
    "# print(\"# of rows and cols in users:\", users.shape)\n",
    "# print(\"# of rows and cols in ratings:\", ratings.shape)\n",
    "# print(\"# of rows and cols in movies:\", movies.shape)\n",
    "\n",
    "# are all the users properly identified? (do we have any duplicates?)\n",
    "print(\"---- duplicates ----\")\n",
    "print(\"Number of duplicated user IDs:\", users[\"UserID\"].duplicated().sum())\n",
    "print(\"Number of duplicated movie IDs:\", movies[\"MovieID\"].duplicated().sum())\n",
    "print(\"Number of duplicated ratings:\", ratings[[\"UserID\", \"MovieID\"]].duplicated().sum())\n",
    "\n",
    "# we can omit this since we get that information from df.info()\n",
    "# print(\"---- missing ----\")\n",
    "# print(\"\\tMissing values in users:\\n\", users.isnull().sum())\n",
    "# print(\"\\tMissing values in movies:\\n\", movies.isnull().sum())\n",
    "# print(\"\\tMissing values in ratings:\\n\", ratings.isnull().sum())\n",
    "\n",
    "print(\"---- column types ----\")\n",
    "print(\"\\t>> users column types <<\")\n",
    "print(users.info())\n",
    "print(\"\\t>> movies column types <<\")\n",
    "print(movies.info())\n",
    "print(\"\\t>> ratings column types <<\")\n",
    "print(ratings.info())"
   ]
  },
  {
   "cell_type": "markdown",
   "id": "c26a9036",
   "metadata": {},
   "source": []
  },
  {
   "cell_type": "markdown",
   "id": "78411039",
   "metadata": {},
   "source": [
    "# Analyze the user base"
   ]
  },
  {
   "cell_type": "code",
   "execution_count": 11,
   "id": "e70df2c2",
   "metadata": {},
   "outputs": [
    {
     "data": {
      "application/vnd.plotly.v1+json": {
       "config": {
        "plotlyServerURL": "https://plot.ly"
       },
       "data": [
        {
         "hovertemplate": "Age=%{x}<br>Count=%{y}<extra></extra>",
         "legendgroup": "",
         "marker": {
          "color": "#636efa",
          "pattern": {
           "shape": ""
          }
         },
         "name": "",
         "orientation": "v",
         "showlegend": false,
         "textposition": "auto",
         "type": "bar",
         "x": [
          "Under 18",
          "18-24",
          "25-34",
          "35-44",
          "45-49",
          "50-55",
          "56+"
         ],
         "xaxis": "x",
         "y": {
          "bdata": "3gBPBDAIqQQmAvABfAE=",
          "dtype": "i2"
         },
         "yaxis": "y"
        }
       ],
       "layout": {
        "barmode": "relative",
        "legend": {
         "tracegroupgap": 0
        },
        "template": {
         "data": {
          "bar": [
           {
            "error_x": {
             "color": "#2a3f5f"
            },
            "error_y": {
             "color": "#2a3f5f"
            },
            "marker": {
             "line": {
              "color": "#E5ECF6",
              "width": 0.5
             },
             "pattern": {
              "fillmode": "overlay",
              "size": 10,
              "solidity": 0.2
             }
            },
            "type": "bar"
           }
          ],
          "barpolar": [
           {
            "marker": {
             "line": {
              "color": "#E5ECF6",
              "width": 0.5
             },
             "pattern": {
              "fillmode": "overlay",
              "size": 10,
              "solidity": 0.2
             }
            },
            "type": "barpolar"
           }
          ],
          "carpet": [
           {
            "aaxis": {
             "endlinecolor": "#2a3f5f",
             "gridcolor": "white",
             "linecolor": "white",
             "minorgridcolor": "white",
             "startlinecolor": "#2a3f5f"
            },
            "baxis": {
             "endlinecolor": "#2a3f5f",
             "gridcolor": "white",
             "linecolor": "white",
             "minorgridcolor": "white",
             "startlinecolor": "#2a3f5f"
            },
            "type": "carpet"
           }
          ],
          "choropleth": [
           {
            "colorbar": {
             "outlinewidth": 0,
             "ticks": ""
            },
            "type": "choropleth"
           }
          ],
          "contour": [
           {
            "colorbar": {
             "outlinewidth": 0,
             "ticks": ""
            },
            "colorscale": [
             [
              0,
              "#0d0887"
             ],
             [
              0.1111111111111111,
              "#46039f"
             ],
             [
              0.2222222222222222,
              "#7201a8"
             ],
             [
              0.3333333333333333,
              "#9c179e"
             ],
             [
              0.4444444444444444,
              "#bd3786"
             ],
             [
              0.5555555555555556,
              "#d8576b"
             ],
             [
              0.6666666666666666,
              "#ed7953"
             ],
             [
              0.7777777777777778,
              "#fb9f3a"
             ],
             [
              0.8888888888888888,
              "#fdca26"
             ],
             [
              1,
              "#f0f921"
             ]
            ],
            "type": "contour"
           }
          ],
          "contourcarpet": [
           {
            "colorbar": {
             "outlinewidth": 0,
             "ticks": ""
            },
            "type": "contourcarpet"
           }
          ],
          "heatmap": [
           {
            "colorbar": {
             "outlinewidth": 0,
             "ticks": ""
            },
            "colorscale": [
             [
              0,
              "#0d0887"
             ],
             [
              0.1111111111111111,
              "#46039f"
             ],
             [
              0.2222222222222222,
              "#7201a8"
             ],
             [
              0.3333333333333333,
              "#9c179e"
             ],
             [
              0.4444444444444444,
              "#bd3786"
             ],
             [
              0.5555555555555556,
              "#d8576b"
             ],
             [
              0.6666666666666666,
              "#ed7953"
             ],
             [
              0.7777777777777778,
              "#fb9f3a"
             ],
             [
              0.8888888888888888,
              "#fdca26"
             ],
             [
              1,
              "#f0f921"
             ]
            ],
            "type": "heatmap"
           }
          ],
          "histogram": [
           {
            "marker": {
             "pattern": {
              "fillmode": "overlay",
              "size": 10,
              "solidity": 0.2
             }
            },
            "type": "histogram"
           }
          ],
          "histogram2d": [
           {
            "colorbar": {
             "outlinewidth": 0,
             "ticks": ""
            },
            "colorscale": [
             [
              0,
              "#0d0887"
             ],
             [
              0.1111111111111111,
              "#46039f"
             ],
             [
              0.2222222222222222,
              "#7201a8"
             ],
             [
              0.3333333333333333,
              "#9c179e"
             ],
             [
              0.4444444444444444,
              "#bd3786"
             ],
             [
              0.5555555555555556,
              "#d8576b"
             ],
             [
              0.6666666666666666,
              "#ed7953"
             ],
             [
              0.7777777777777778,
              "#fb9f3a"
             ],
             [
              0.8888888888888888,
              "#fdca26"
             ],
             [
              1,
              "#f0f921"
             ]
            ],
            "type": "histogram2d"
           }
          ],
          "histogram2dcontour": [
           {
            "colorbar": {
             "outlinewidth": 0,
             "ticks": ""
            },
            "colorscale": [
             [
              0,
              "#0d0887"
             ],
             [
              0.1111111111111111,
              "#46039f"
             ],
             [
              0.2222222222222222,
              "#7201a8"
             ],
             [
              0.3333333333333333,
              "#9c179e"
             ],
             [
              0.4444444444444444,
              "#bd3786"
             ],
             [
              0.5555555555555556,
              "#d8576b"
             ],
             [
              0.6666666666666666,
              "#ed7953"
             ],
             [
              0.7777777777777778,
              "#fb9f3a"
             ],
             [
              0.8888888888888888,
              "#fdca26"
             ],
             [
              1,
              "#f0f921"
             ]
            ],
            "type": "histogram2dcontour"
           }
          ],
          "mesh3d": [
           {
            "colorbar": {
             "outlinewidth": 0,
             "ticks": ""
            },
            "type": "mesh3d"
           }
          ],
          "parcoords": [
           {
            "line": {
             "colorbar": {
              "outlinewidth": 0,
              "ticks": ""
             }
            },
            "type": "parcoords"
           }
          ],
          "pie": [
           {
            "automargin": true,
            "type": "pie"
           }
          ],
          "scatter": [
           {
            "fillpattern": {
             "fillmode": "overlay",
             "size": 10,
             "solidity": 0.2
            },
            "type": "scatter"
           }
          ],
          "scatter3d": [
           {
            "line": {
             "colorbar": {
              "outlinewidth": 0,
              "ticks": ""
             }
            },
            "marker": {
             "colorbar": {
              "outlinewidth": 0,
              "ticks": ""
             }
            },
            "type": "scatter3d"
           }
          ],
          "scattercarpet": [
           {
            "marker": {
             "colorbar": {
              "outlinewidth": 0,
              "ticks": ""
             }
            },
            "type": "scattercarpet"
           }
          ],
          "scattergeo": [
           {
            "marker": {
             "colorbar": {
              "outlinewidth": 0,
              "ticks": ""
             }
            },
            "type": "scattergeo"
           }
          ],
          "scattergl": [
           {
            "marker": {
             "colorbar": {
              "outlinewidth": 0,
              "ticks": ""
             }
            },
            "type": "scattergl"
           }
          ],
          "scattermap": [
           {
            "marker": {
             "colorbar": {
              "outlinewidth": 0,
              "ticks": ""
             }
            },
            "type": "scattermap"
           }
          ],
          "scattermapbox": [
           {
            "marker": {
             "colorbar": {
              "outlinewidth": 0,
              "ticks": ""
             }
            },
            "type": "scattermapbox"
           }
          ],
          "scatterpolar": [
           {
            "marker": {
             "colorbar": {
              "outlinewidth": 0,
              "ticks": ""
             }
            },
            "type": "scatterpolar"
           }
          ],
          "scatterpolargl": [
           {
            "marker": {
             "colorbar": {
              "outlinewidth": 0,
              "ticks": ""
             }
            },
            "type": "scatterpolargl"
           }
          ],
          "scatterternary": [
           {
            "marker": {
             "colorbar": {
              "outlinewidth": 0,
              "ticks": ""
             }
            },
            "type": "scatterternary"
           }
          ],
          "surface": [
           {
            "colorbar": {
             "outlinewidth": 0,
             "ticks": ""
            },
            "colorscale": [
             [
              0,
              "#0d0887"
             ],
             [
              0.1111111111111111,
              "#46039f"
             ],
             [
              0.2222222222222222,
              "#7201a8"
             ],
             [
              0.3333333333333333,
              "#9c179e"
             ],
             [
              0.4444444444444444,
              "#bd3786"
             ],
             [
              0.5555555555555556,
              "#d8576b"
             ],
             [
              0.6666666666666666,
              "#ed7953"
             ],
             [
              0.7777777777777778,
              "#fb9f3a"
             ],
             [
              0.8888888888888888,
              "#fdca26"
             ],
             [
              1,
              "#f0f921"
             ]
            ],
            "type": "surface"
           }
          ],
          "table": [
           {
            "cells": {
             "fill": {
              "color": "#EBF0F8"
             },
             "line": {
              "color": "white"
             }
            },
            "header": {
             "fill": {
              "color": "#C8D4E3"
             },
             "line": {
              "color": "white"
             }
            },
            "type": "table"
           }
          ]
         },
         "layout": {
          "annotationdefaults": {
           "arrowcolor": "#2a3f5f",
           "arrowhead": 0,
           "arrowwidth": 1
          },
          "autotypenumbers": "strict",
          "coloraxis": {
           "colorbar": {
            "outlinewidth": 0,
            "ticks": ""
           }
          },
          "colorscale": {
           "diverging": [
            [
             0,
             "#8e0152"
            ],
            [
             0.1,
             "#c51b7d"
            ],
            [
             0.2,
             "#de77ae"
            ],
            [
             0.3,
             "#f1b6da"
            ],
            [
             0.4,
             "#fde0ef"
            ],
            [
             0.5,
             "#f7f7f7"
            ],
            [
             0.6,
             "#e6f5d0"
            ],
            [
             0.7,
             "#b8e186"
            ],
            [
             0.8,
             "#7fbc41"
            ],
            [
             0.9,
             "#4d9221"
            ],
            [
             1,
             "#276419"
            ]
           ],
           "sequential": [
            [
             0,
             "#0d0887"
            ],
            [
             0.1111111111111111,
             "#46039f"
            ],
            [
             0.2222222222222222,
             "#7201a8"
            ],
            [
             0.3333333333333333,
             "#9c179e"
            ],
            [
             0.4444444444444444,
             "#bd3786"
            ],
            [
             0.5555555555555556,
             "#d8576b"
            ],
            [
             0.6666666666666666,
             "#ed7953"
            ],
            [
             0.7777777777777778,
             "#fb9f3a"
            ],
            [
             0.8888888888888888,
             "#fdca26"
            ],
            [
             1,
             "#f0f921"
            ]
           ],
           "sequentialminus": [
            [
             0,
             "#0d0887"
            ],
            [
             0.1111111111111111,
             "#46039f"
            ],
            [
             0.2222222222222222,
             "#7201a8"
            ],
            [
             0.3333333333333333,
             "#9c179e"
            ],
            [
             0.4444444444444444,
             "#bd3786"
            ],
            [
             0.5555555555555556,
             "#d8576b"
            ],
            [
             0.6666666666666666,
             "#ed7953"
            ],
            [
             0.7777777777777778,
             "#fb9f3a"
            ],
            [
             0.8888888888888888,
             "#fdca26"
            ],
            [
             1,
             "#f0f921"
            ]
           ]
          },
          "colorway": [
           "#636efa",
           "#EF553B",
           "#00cc96",
           "#ab63fa",
           "#FFA15A",
           "#19d3f3",
           "#FF6692",
           "#B6E880",
           "#FF97FF",
           "#FECB52"
          ],
          "font": {
           "color": "#2a3f5f"
          },
          "geo": {
           "bgcolor": "white",
           "lakecolor": "white",
           "landcolor": "#E5ECF6",
           "showlakes": true,
           "showland": true,
           "subunitcolor": "white"
          },
          "hoverlabel": {
           "align": "left"
          },
          "hovermode": "closest",
          "mapbox": {
           "style": "light"
          },
          "paper_bgcolor": "white",
          "plot_bgcolor": "#E5ECF6",
          "polar": {
           "angularaxis": {
            "gridcolor": "white",
            "linecolor": "white",
            "ticks": ""
           },
           "bgcolor": "#E5ECF6",
           "radialaxis": {
            "gridcolor": "white",
            "linecolor": "white",
            "ticks": ""
           }
          },
          "scene": {
           "xaxis": {
            "backgroundcolor": "#E5ECF6",
            "gridcolor": "white",
            "gridwidth": 2,
            "linecolor": "white",
            "showbackground": true,
            "ticks": "",
            "zerolinecolor": "white"
           },
           "yaxis": {
            "backgroundcolor": "#E5ECF6",
            "gridcolor": "white",
            "gridwidth": 2,
            "linecolor": "white",
            "showbackground": true,
            "ticks": "",
            "zerolinecolor": "white"
           },
           "zaxis": {
            "backgroundcolor": "#E5ECF6",
            "gridcolor": "white",
            "gridwidth": 2,
            "linecolor": "white",
            "showbackground": true,
            "ticks": "",
            "zerolinecolor": "white"
           }
          },
          "shapedefaults": {
           "line": {
            "color": "#2a3f5f"
           }
          },
          "ternary": {
           "aaxis": {
            "gridcolor": "white",
            "linecolor": "white",
            "ticks": ""
           },
           "baxis": {
            "gridcolor": "white",
            "linecolor": "white",
            "ticks": ""
           },
           "bgcolor": "#E5ECF6",
           "caxis": {
            "gridcolor": "white",
            "linecolor": "white",
            "ticks": ""
           }
          },
          "title": {
           "x": 0.05
          },
          "xaxis": {
           "automargin": true,
           "gridcolor": "white",
           "linecolor": "white",
           "ticks": "",
           "title": {
            "standoff": 15
           },
           "zerolinecolor": "white",
           "zerolinewidth": 2
          },
          "yaxis": {
           "automargin": true,
           "gridcolor": "white",
           "linecolor": "white",
           "ticks": "",
           "title": {
            "standoff": 15
           },
           "zerolinecolor": "white",
           "zerolinewidth": 2
          }
         }
        },
        "title": {
         "text": "Age Distribution"
        },
        "xaxis": {
         "anchor": "y",
         "domain": [
          0,
          1
         ],
         "title": {
          "text": "Age"
         }
        },
        "yaxis": {
         "anchor": "x",
         "domain": [
          0,
          1
         ],
         "title": {
          "text": "Count"
         }
        }
       }
      }
     },
     "metadata": {},
     "output_type": "display_data"
    }
   ],
   "source": [
    "age_values = {\n",
    "    1: \"Under 18\",\n",
    "    18: \"18-24\",\n",
    "    25: \"25-34\",\n",
    "    35: \"35-44\",\n",
    "    45: \"45-49\",\n",
    "    50: \"50-55\",\n",
    "    56: \"56+\"\n",
    "}\n",
    "\n",
    "age_counts = users['Age'].value_counts().sort_index()\n",
    "fig = px.bar(x=age_counts.index.map(lambda age: age_values[age]), y=age_counts.values, title='Age Distribution', labels={'x': 'Age', 'y': 'Count'})\n",
    "fig.show()"
   ]
  },
  {
   "cell_type": "code",
   "execution_count": null,
   "id": "3666064f",
   "metadata": {},
   "outputs": [
    {
     "data": {
      "application/vnd.plotly.v1+json": {
       "config": {
        "plotlyServerURL": "https://plot.ly"
       },
       "data": [
        {
         "hovertemplate": "Gender=%{x}<br>Count=%{y}<extra></extra>",
         "legendgroup": "",
         "marker": {
          "color": "#636efa",
          "pattern": {
           "shape": ""
          }
         },
         "name": "",
         "orientation": "v",
         "showlegend": false,
         "textposition": "auto",
         "type": "bar",
         "x": [
          "M",
          "F"
         ],
         "xaxis": "x",
         "y": {
          "bdata": "6xCtBg==",
          "dtype": "i2"
         },
         "yaxis": "y"
        }
       ],
       "layout": {
        "barmode": "relative",
        "legend": {
         "tracegroupgap": 0
        },
        "template": {
         "data": {
          "bar": [
           {
            "error_x": {
             "color": "#2a3f5f"
            },
            "error_y": {
             "color": "#2a3f5f"
            },
            "marker": {
             "line": {
              "color": "#E5ECF6",
              "width": 0.5
             },
             "pattern": {
              "fillmode": "overlay",
              "size": 10,
              "solidity": 0.2
             }
            },
            "type": "bar"
           }
          ],
          "barpolar": [
           {
            "marker": {
             "line": {
              "color": "#E5ECF6",
              "width": 0.5
             },
             "pattern": {
              "fillmode": "overlay",
              "size": 10,
              "solidity": 0.2
             }
            },
            "type": "barpolar"
           }
          ],
          "carpet": [
           {
            "aaxis": {
             "endlinecolor": "#2a3f5f",
             "gridcolor": "white",
             "linecolor": "white",
             "minorgridcolor": "white",
             "startlinecolor": "#2a3f5f"
            },
            "baxis": {
             "endlinecolor": "#2a3f5f",
             "gridcolor": "white",
             "linecolor": "white",
             "minorgridcolor": "white",
             "startlinecolor": "#2a3f5f"
            },
            "type": "carpet"
           }
          ],
          "choropleth": [
           {
            "colorbar": {
             "outlinewidth": 0,
             "ticks": ""
            },
            "type": "choropleth"
           }
          ],
          "contour": [
           {
            "colorbar": {
             "outlinewidth": 0,
             "ticks": ""
            },
            "colorscale": [
             [
              0,
              "#0d0887"
             ],
             [
              0.1111111111111111,
              "#46039f"
             ],
             [
              0.2222222222222222,
              "#7201a8"
             ],
             [
              0.3333333333333333,
              "#9c179e"
             ],
             [
              0.4444444444444444,
              "#bd3786"
             ],
             [
              0.5555555555555556,
              "#d8576b"
             ],
             [
              0.6666666666666666,
              "#ed7953"
             ],
             [
              0.7777777777777778,
              "#fb9f3a"
             ],
             [
              0.8888888888888888,
              "#fdca26"
             ],
             [
              1,
              "#f0f921"
             ]
            ],
            "type": "contour"
           }
          ],
          "contourcarpet": [
           {
            "colorbar": {
             "outlinewidth": 0,
             "ticks": ""
            },
            "type": "contourcarpet"
           }
          ],
          "heatmap": [
           {
            "colorbar": {
             "outlinewidth": 0,
             "ticks": ""
            },
            "colorscale": [
             [
              0,
              "#0d0887"
             ],
             [
              0.1111111111111111,
              "#46039f"
             ],
             [
              0.2222222222222222,
              "#7201a8"
             ],
             [
              0.3333333333333333,
              "#9c179e"
             ],
             [
              0.4444444444444444,
              "#bd3786"
             ],
             [
              0.5555555555555556,
              "#d8576b"
             ],
             [
              0.6666666666666666,
              "#ed7953"
             ],
             [
              0.7777777777777778,
              "#fb9f3a"
             ],
             [
              0.8888888888888888,
              "#fdca26"
             ],
             [
              1,
              "#f0f921"
             ]
            ],
            "type": "heatmap"
           }
          ],
          "histogram": [
           {
            "marker": {
             "pattern": {
              "fillmode": "overlay",
              "size": 10,
              "solidity": 0.2
             }
            },
            "type": "histogram"
           }
          ],
          "histogram2d": [
           {
            "colorbar": {
             "outlinewidth": 0,
             "ticks": ""
            },
            "colorscale": [
             [
              0,
              "#0d0887"
             ],
             [
              0.1111111111111111,
              "#46039f"
             ],
             [
              0.2222222222222222,
              "#7201a8"
             ],
             [
              0.3333333333333333,
              "#9c179e"
             ],
             [
              0.4444444444444444,
              "#bd3786"
             ],
             [
              0.5555555555555556,
              "#d8576b"
             ],
             [
              0.6666666666666666,
              "#ed7953"
             ],
             [
              0.7777777777777778,
              "#fb9f3a"
             ],
             [
              0.8888888888888888,
              "#fdca26"
             ],
             [
              1,
              "#f0f921"
             ]
            ],
            "type": "histogram2d"
           }
          ],
          "histogram2dcontour": [
           {
            "colorbar": {
             "outlinewidth": 0,
             "ticks": ""
            },
            "colorscale": [
             [
              0,
              "#0d0887"
             ],
             [
              0.1111111111111111,
              "#46039f"
             ],
             [
              0.2222222222222222,
              "#7201a8"
             ],
             [
              0.3333333333333333,
              "#9c179e"
             ],
             [
              0.4444444444444444,
              "#bd3786"
             ],
             [
              0.5555555555555556,
              "#d8576b"
             ],
             [
              0.6666666666666666,
              "#ed7953"
             ],
             [
              0.7777777777777778,
              "#fb9f3a"
             ],
             [
              0.8888888888888888,
              "#fdca26"
             ],
             [
              1,
              "#f0f921"
             ]
            ],
            "type": "histogram2dcontour"
           }
          ],
          "mesh3d": [
           {
            "colorbar": {
             "outlinewidth": 0,
             "ticks": ""
            },
            "type": "mesh3d"
           }
          ],
          "parcoords": [
           {
            "line": {
             "colorbar": {
              "outlinewidth": 0,
              "ticks": ""
             }
            },
            "type": "parcoords"
           }
          ],
          "pie": [
           {
            "automargin": true,
            "type": "pie"
           }
          ],
          "scatter": [
           {
            "fillpattern": {
             "fillmode": "overlay",
             "size": 10,
             "solidity": 0.2
            },
            "type": "scatter"
           }
          ],
          "scatter3d": [
           {
            "line": {
             "colorbar": {
              "outlinewidth": 0,
              "ticks": ""
             }
            },
            "marker": {
             "colorbar": {
              "outlinewidth": 0,
              "ticks": ""
             }
            },
            "type": "scatter3d"
           }
          ],
          "scattercarpet": [
           {
            "marker": {
             "colorbar": {
              "outlinewidth": 0,
              "ticks": ""
             }
            },
            "type": "scattercarpet"
           }
          ],
          "scattergeo": [
           {
            "marker": {
             "colorbar": {
              "outlinewidth": 0,
              "ticks": ""
             }
            },
            "type": "scattergeo"
           }
          ],
          "scattergl": [
           {
            "marker": {
             "colorbar": {
              "outlinewidth": 0,
              "ticks": ""
             }
            },
            "type": "scattergl"
           }
          ],
          "scattermap": [
           {
            "marker": {
             "colorbar": {
              "outlinewidth": 0,
              "ticks": ""
             }
            },
            "type": "scattermap"
           }
          ],
          "scattermapbox": [
           {
            "marker": {
             "colorbar": {
              "outlinewidth": 0,
              "ticks": ""
             }
            },
            "type": "scattermapbox"
           }
          ],
          "scatterpolar": [
           {
            "marker": {
             "colorbar": {
              "outlinewidth": 0,
              "ticks": ""
             }
            },
            "type": "scatterpolar"
           }
          ],
          "scatterpolargl": [
           {
            "marker": {
             "colorbar": {
              "outlinewidth": 0,
              "ticks": ""
             }
            },
            "type": "scatterpolargl"
           }
          ],
          "scatterternary": [
           {
            "marker": {
             "colorbar": {
              "outlinewidth": 0,
              "ticks": ""
             }
            },
            "type": "scatterternary"
           }
          ],
          "surface": [
           {
            "colorbar": {
             "outlinewidth": 0,
             "ticks": ""
            },
            "colorscale": [
             [
              0,
              "#0d0887"
             ],
             [
              0.1111111111111111,
              "#46039f"
             ],
             [
              0.2222222222222222,
              "#7201a8"
             ],
             [
              0.3333333333333333,
              "#9c179e"
             ],
             [
              0.4444444444444444,
              "#bd3786"
             ],
             [
              0.5555555555555556,
              "#d8576b"
             ],
             [
              0.6666666666666666,
              "#ed7953"
             ],
             [
              0.7777777777777778,
              "#fb9f3a"
             ],
             [
              0.8888888888888888,
              "#fdca26"
             ],
             [
              1,
              "#f0f921"
             ]
            ],
            "type": "surface"
           }
          ],
          "table": [
           {
            "cells": {
             "fill": {
              "color": "#EBF0F8"
             },
             "line": {
              "color": "white"
             }
            },
            "header": {
             "fill": {
              "color": "#C8D4E3"
             },
             "line": {
              "color": "white"
             }
            },
            "type": "table"
           }
          ]
         },
         "layout": {
          "annotationdefaults": {
           "arrowcolor": "#2a3f5f",
           "arrowhead": 0,
           "arrowwidth": 1
          },
          "autotypenumbers": "strict",
          "coloraxis": {
           "colorbar": {
            "outlinewidth": 0,
            "ticks": ""
           }
          },
          "colorscale": {
           "diverging": [
            [
             0,
             "#8e0152"
            ],
            [
             0.1,
             "#c51b7d"
            ],
            [
             0.2,
             "#de77ae"
            ],
            [
             0.3,
             "#f1b6da"
            ],
            [
             0.4,
             "#fde0ef"
            ],
            [
             0.5,
             "#f7f7f7"
            ],
            [
             0.6,
             "#e6f5d0"
            ],
            [
             0.7,
             "#b8e186"
            ],
            [
             0.8,
             "#7fbc41"
            ],
            [
             0.9,
             "#4d9221"
            ],
            [
             1,
             "#276419"
            ]
           ],
           "sequential": [
            [
             0,
             "#0d0887"
            ],
            [
             0.1111111111111111,
             "#46039f"
            ],
            [
             0.2222222222222222,
             "#7201a8"
            ],
            [
             0.3333333333333333,
             "#9c179e"
            ],
            [
             0.4444444444444444,
             "#bd3786"
            ],
            [
             0.5555555555555556,
             "#d8576b"
            ],
            [
             0.6666666666666666,
             "#ed7953"
            ],
            [
             0.7777777777777778,
             "#fb9f3a"
            ],
            [
             0.8888888888888888,
             "#fdca26"
            ],
            [
             1,
             "#f0f921"
            ]
           ],
           "sequentialminus": [
            [
             0,
             "#0d0887"
            ],
            [
             0.1111111111111111,
             "#46039f"
            ],
            [
             0.2222222222222222,
             "#7201a8"
            ],
            [
             0.3333333333333333,
             "#9c179e"
            ],
            [
             0.4444444444444444,
             "#bd3786"
            ],
            [
             0.5555555555555556,
             "#d8576b"
            ],
            [
             0.6666666666666666,
             "#ed7953"
            ],
            [
             0.7777777777777778,
             "#fb9f3a"
            ],
            [
             0.8888888888888888,
             "#fdca26"
            ],
            [
             1,
             "#f0f921"
            ]
           ]
          },
          "colorway": [
           "#636efa",
           "#EF553B",
           "#00cc96",
           "#ab63fa",
           "#FFA15A",
           "#19d3f3",
           "#FF6692",
           "#B6E880",
           "#FF97FF",
           "#FECB52"
          ],
          "font": {
           "color": "#2a3f5f"
          },
          "geo": {
           "bgcolor": "white",
           "lakecolor": "white",
           "landcolor": "#E5ECF6",
           "showlakes": true,
           "showland": true,
           "subunitcolor": "white"
          },
          "hoverlabel": {
           "align": "left"
          },
          "hovermode": "closest",
          "mapbox": {
           "style": "light"
          },
          "paper_bgcolor": "white",
          "plot_bgcolor": "#E5ECF6",
          "polar": {
           "angularaxis": {
            "gridcolor": "white",
            "linecolor": "white",
            "ticks": ""
           },
           "bgcolor": "#E5ECF6",
           "radialaxis": {
            "gridcolor": "white",
            "linecolor": "white",
            "ticks": ""
           }
          },
          "scene": {
           "xaxis": {
            "backgroundcolor": "#E5ECF6",
            "gridcolor": "white",
            "gridwidth": 2,
            "linecolor": "white",
            "showbackground": true,
            "ticks": "",
            "zerolinecolor": "white"
           },
           "yaxis": {
            "backgroundcolor": "#E5ECF6",
            "gridcolor": "white",
            "gridwidth": 2,
            "linecolor": "white",
            "showbackground": true,
            "ticks": "",
            "zerolinecolor": "white"
           },
           "zaxis": {
            "backgroundcolor": "#E5ECF6",
            "gridcolor": "white",
            "gridwidth": 2,
            "linecolor": "white",
            "showbackground": true,
            "ticks": "",
            "zerolinecolor": "white"
           }
          },
          "shapedefaults": {
           "line": {
            "color": "#2a3f5f"
           }
          },
          "ternary": {
           "aaxis": {
            "gridcolor": "white",
            "linecolor": "white",
            "ticks": ""
           },
           "baxis": {
            "gridcolor": "white",
            "linecolor": "white",
            "ticks": ""
           },
           "bgcolor": "#E5ECF6",
           "caxis": {
            "gridcolor": "white",
            "linecolor": "white",
            "ticks": ""
           }
          },
          "title": {
           "x": 0.05
          },
          "xaxis": {
           "automargin": true,
           "gridcolor": "white",
           "linecolor": "white",
           "ticks": "",
           "title": {
            "standoff": 15
           },
           "zerolinecolor": "white",
           "zerolinewidth": 2
          },
          "yaxis": {
           "automargin": true,
           "gridcolor": "white",
           "linecolor": "white",
           "ticks": "",
           "title": {
            "standoff": 15
           },
           "zerolinecolor": "white",
           "zerolinewidth": 2
          }
         }
        },
        "title": {
         "text": "Gender Distribution"
        },
        "xaxis": {
         "anchor": "y",
         "domain": [
          0,
          1
         ],
         "title": {
          "text": "Gender"
         }
        },
        "yaxis": {
         "anchor": "x",
         "domain": [
          0,
          1
         ],
         "title": {
          "text": "Count"
         }
        }
       }
      }
     },
     "metadata": {},
     "output_type": "display_data"
    }
   ],
   "source": [
    "gender_counts = users[\"Gender\"].value_counts()\n",
    "fig = px.bar(x=gender_counts.index, y=gender_counts.values, title='Gender Distribution', labels={'x': 'Gender', 'y': 'Count'})\n",
    "fig.show()"
   ]
  },
  {
   "cell_type": "code",
   "execution_count": 35,
   "id": "a5b845bd",
   "metadata": {},
   "outputs": [
    {
     "data": {
      "application/vnd.plotly.v1+json": {
       "config": {
        "plotlyServerURL": "https://plot.ly"
       },
       "data": [
        {
         "hovertemplate": "Age Group=Under 18<br>Gender=%{x}<br>Number of Users=%{y}<extra></extra>",
         "legendgroup": "Under 18",
         "marker": {
          "color": "#636efa",
          "pattern": {
           "shape": ""
          }
         },
         "name": "Under 18",
         "orientation": "v",
         "showlegend": true,
         "textposition": "auto",
         "type": "bar",
         "x": [
          "F",
          "M"
         ],
         "xaxis": "x",
         "y": {
          "bdata": "TgCQAA==",
          "dtype": "i2"
         },
         "yaxis": "y"
        },
        {
         "hovertemplate": "Age Group=18-24<br>Gender=%{x}<br>Number of Users=%{y}<extra></extra>",
         "legendgroup": "18-24",
         "marker": {
          "color": "#EF553B",
          "pattern": {
           "shape": ""
          }
         },
         "name": "18-24",
         "orientation": "v",
         "showlegend": true,
         "textposition": "auto",
         "type": "bar",
         "x": [
          "F",
          "M"
         ],
         "xaxis": "x",
         "y": {
          "bdata": "KgElAw==",
          "dtype": "i2"
         },
         "yaxis": "y"
        },
        {
         "hovertemplate": "Age Group=25-34<br>Gender=%{x}<br>Number of Users=%{y}<extra></extra>",
         "legendgroup": "25-34",
         "marker": {
          "color": "#00cc96",
          "pattern": {
           "shape": ""
          }
         },
         "name": "25-34",
         "orientation": "v",
         "showlegend": true,
         "textposition": "auto",
         "type": "bar",
         "x": [
          "F",
          "M"
         ],
         "xaxis": "x",
         "y": {
          "bdata": "LgICBg==",
          "dtype": "i2"
         },
         "yaxis": "y"
        },
        {
         "hovertemplate": "Age Group=35-44<br>Gender=%{x}<br>Number of Users=%{y}<extra></extra>",
         "legendgroup": "35-44",
         "marker": {
          "color": "#ab63fa",
          "pattern": {
           "shape": ""
          }
         },
         "name": "35-44",
         "orientation": "v",
         "showlegend": true,
         "textposition": "auto",
         "type": "bar",
         "x": [
          "F",
          "M"
         ],
         "xaxis": "x",
         "y": {
          "bdata": "UgFXAw==",
          "dtype": "i2"
         },
         "yaxis": "y"
        },
        {
         "hovertemplate": "Age Group=45-49<br>Gender=%{x}<br>Number of Users=%{y}<extra></extra>",
         "legendgroup": "45-49",
         "marker": {
          "color": "#FFA15A",
          "pattern": {
           "shape": ""
          }
         },
         "name": "45-49",
         "orientation": "v",
         "showlegend": true,
         "textposition": "auto",
         "type": "bar",
         "x": [
          "F",
          "M"
         ],
         "xaxis": "x",
         "y": {
          "bdata": "vQBpAQ==",
          "dtype": "i2"
         },
         "yaxis": "y"
        },
        {
         "hovertemplate": "Age Group=50-55<br>Gender=%{x}<br>Number of Users=%{y}<extra></extra>",
         "legendgroup": "50-55",
         "marker": {
          "color": "#19d3f3",
          "pattern": {
           "shape": ""
          }
         },
         "name": "50-55",
         "orientation": "v",
         "showlegend": true,
         "textposition": "auto",
         "type": "bar",
         "x": [
          "F",
          "M"
         ],
         "xaxis": "x",
         "y": {
          "bdata": "kgBeAQ==",
          "dtype": "i2"
         },
         "yaxis": "y"
        },
        {
         "hovertemplate": "Age Group=56+<br>Gender=%{x}<br>Number of Users=%{y}<extra></extra>",
         "legendgroup": "56+",
         "marker": {
          "color": "#FF6692",
          "pattern": {
           "shape": ""
          }
         },
         "name": "56+",
         "orientation": "v",
         "showlegend": true,
         "textposition": "auto",
         "type": "bar",
         "x": [
          "F",
          "M"
         ],
         "xaxis": "x",
         "y": {
          "bdata": "ZgAWAQ==",
          "dtype": "i2"
         },
         "yaxis": "y"
        }
       ],
       "layout": {
        "barmode": "stack",
        "legend": {
         "title": {
          "text": "Age Group"
         },
         "tracegroupgap": 0
        },
        "template": {
         "data": {
          "bar": [
           {
            "error_x": {
             "color": "#2a3f5f"
            },
            "error_y": {
             "color": "#2a3f5f"
            },
            "marker": {
             "line": {
              "color": "#E5ECF6",
              "width": 0.5
             },
             "pattern": {
              "fillmode": "overlay",
              "size": 10,
              "solidity": 0.2
             }
            },
            "type": "bar"
           }
          ],
          "barpolar": [
           {
            "marker": {
             "line": {
              "color": "#E5ECF6",
              "width": 0.5
             },
             "pattern": {
              "fillmode": "overlay",
              "size": 10,
              "solidity": 0.2
             }
            },
            "type": "barpolar"
           }
          ],
          "carpet": [
           {
            "aaxis": {
             "endlinecolor": "#2a3f5f",
             "gridcolor": "white",
             "linecolor": "white",
             "minorgridcolor": "white",
             "startlinecolor": "#2a3f5f"
            },
            "baxis": {
             "endlinecolor": "#2a3f5f",
             "gridcolor": "white",
             "linecolor": "white",
             "minorgridcolor": "white",
             "startlinecolor": "#2a3f5f"
            },
            "type": "carpet"
           }
          ],
          "choropleth": [
           {
            "colorbar": {
             "outlinewidth": 0,
             "ticks": ""
            },
            "type": "choropleth"
           }
          ],
          "contour": [
           {
            "colorbar": {
             "outlinewidth": 0,
             "ticks": ""
            },
            "colorscale": [
             [
              0,
              "#0d0887"
             ],
             [
              0.1111111111111111,
              "#46039f"
             ],
             [
              0.2222222222222222,
              "#7201a8"
             ],
             [
              0.3333333333333333,
              "#9c179e"
             ],
             [
              0.4444444444444444,
              "#bd3786"
             ],
             [
              0.5555555555555556,
              "#d8576b"
             ],
             [
              0.6666666666666666,
              "#ed7953"
             ],
             [
              0.7777777777777778,
              "#fb9f3a"
             ],
             [
              0.8888888888888888,
              "#fdca26"
             ],
             [
              1,
              "#f0f921"
             ]
            ],
            "type": "contour"
           }
          ],
          "contourcarpet": [
           {
            "colorbar": {
             "outlinewidth": 0,
             "ticks": ""
            },
            "type": "contourcarpet"
           }
          ],
          "heatmap": [
           {
            "colorbar": {
             "outlinewidth": 0,
             "ticks": ""
            },
            "colorscale": [
             [
              0,
              "#0d0887"
             ],
             [
              0.1111111111111111,
              "#46039f"
             ],
             [
              0.2222222222222222,
              "#7201a8"
             ],
             [
              0.3333333333333333,
              "#9c179e"
             ],
             [
              0.4444444444444444,
              "#bd3786"
             ],
             [
              0.5555555555555556,
              "#d8576b"
             ],
             [
              0.6666666666666666,
              "#ed7953"
             ],
             [
              0.7777777777777778,
              "#fb9f3a"
             ],
             [
              0.8888888888888888,
              "#fdca26"
             ],
             [
              1,
              "#f0f921"
             ]
            ],
            "type": "heatmap"
           }
          ],
          "histogram": [
           {
            "marker": {
             "pattern": {
              "fillmode": "overlay",
              "size": 10,
              "solidity": 0.2
             }
            },
            "type": "histogram"
           }
          ],
          "histogram2d": [
           {
            "colorbar": {
             "outlinewidth": 0,
             "ticks": ""
            },
            "colorscale": [
             [
              0,
              "#0d0887"
             ],
             [
              0.1111111111111111,
              "#46039f"
             ],
             [
              0.2222222222222222,
              "#7201a8"
             ],
             [
              0.3333333333333333,
              "#9c179e"
             ],
             [
              0.4444444444444444,
              "#bd3786"
             ],
             [
              0.5555555555555556,
              "#d8576b"
             ],
             [
              0.6666666666666666,
              "#ed7953"
             ],
             [
              0.7777777777777778,
              "#fb9f3a"
             ],
             [
              0.8888888888888888,
              "#fdca26"
             ],
             [
              1,
              "#f0f921"
             ]
            ],
            "type": "histogram2d"
           }
          ],
          "histogram2dcontour": [
           {
            "colorbar": {
             "outlinewidth": 0,
             "ticks": ""
            },
            "colorscale": [
             [
              0,
              "#0d0887"
             ],
             [
              0.1111111111111111,
              "#46039f"
             ],
             [
              0.2222222222222222,
              "#7201a8"
             ],
             [
              0.3333333333333333,
              "#9c179e"
             ],
             [
              0.4444444444444444,
              "#bd3786"
             ],
             [
              0.5555555555555556,
              "#d8576b"
             ],
             [
              0.6666666666666666,
              "#ed7953"
             ],
             [
              0.7777777777777778,
              "#fb9f3a"
             ],
             [
              0.8888888888888888,
              "#fdca26"
             ],
             [
              1,
              "#f0f921"
             ]
            ],
            "type": "histogram2dcontour"
           }
          ],
          "mesh3d": [
           {
            "colorbar": {
             "outlinewidth": 0,
             "ticks": ""
            },
            "type": "mesh3d"
           }
          ],
          "parcoords": [
           {
            "line": {
             "colorbar": {
              "outlinewidth": 0,
              "ticks": ""
             }
            },
            "type": "parcoords"
           }
          ],
          "pie": [
           {
            "automargin": true,
            "type": "pie"
           }
          ],
          "scatter": [
           {
            "fillpattern": {
             "fillmode": "overlay",
             "size": 10,
             "solidity": 0.2
            },
            "type": "scatter"
           }
          ],
          "scatter3d": [
           {
            "line": {
             "colorbar": {
              "outlinewidth": 0,
              "ticks": ""
             }
            },
            "marker": {
             "colorbar": {
              "outlinewidth": 0,
              "ticks": ""
             }
            },
            "type": "scatter3d"
           }
          ],
          "scattercarpet": [
           {
            "marker": {
             "colorbar": {
              "outlinewidth": 0,
              "ticks": ""
             }
            },
            "type": "scattercarpet"
           }
          ],
          "scattergeo": [
           {
            "marker": {
             "colorbar": {
              "outlinewidth": 0,
              "ticks": ""
             }
            },
            "type": "scattergeo"
           }
          ],
          "scattergl": [
           {
            "marker": {
             "colorbar": {
              "outlinewidth": 0,
              "ticks": ""
             }
            },
            "type": "scattergl"
           }
          ],
          "scattermap": [
           {
            "marker": {
             "colorbar": {
              "outlinewidth": 0,
              "ticks": ""
             }
            },
            "type": "scattermap"
           }
          ],
          "scattermapbox": [
           {
            "marker": {
             "colorbar": {
              "outlinewidth": 0,
              "ticks": ""
             }
            },
            "type": "scattermapbox"
           }
          ],
          "scatterpolar": [
           {
            "marker": {
             "colorbar": {
              "outlinewidth": 0,
              "ticks": ""
             }
            },
            "type": "scatterpolar"
           }
          ],
          "scatterpolargl": [
           {
            "marker": {
             "colorbar": {
              "outlinewidth": 0,
              "ticks": ""
             }
            },
            "type": "scatterpolargl"
           }
          ],
          "scatterternary": [
           {
            "marker": {
             "colorbar": {
              "outlinewidth": 0,
              "ticks": ""
             }
            },
            "type": "scatterternary"
           }
          ],
          "surface": [
           {
            "colorbar": {
             "outlinewidth": 0,
             "ticks": ""
            },
            "colorscale": [
             [
              0,
              "#0d0887"
             ],
             [
              0.1111111111111111,
              "#46039f"
             ],
             [
              0.2222222222222222,
              "#7201a8"
             ],
             [
              0.3333333333333333,
              "#9c179e"
             ],
             [
              0.4444444444444444,
              "#bd3786"
             ],
             [
              0.5555555555555556,
              "#d8576b"
             ],
             [
              0.6666666666666666,
              "#ed7953"
             ],
             [
              0.7777777777777778,
              "#fb9f3a"
             ],
             [
              0.8888888888888888,
              "#fdca26"
             ],
             [
              1,
              "#f0f921"
             ]
            ],
            "type": "surface"
           }
          ],
          "table": [
           {
            "cells": {
             "fill": {
              "color": "#EBF0F8"
             },
             "line": {
              "color": "white"
             }
            },
            "header": {
             "fill": {
              "color": "#C8D4E3"
             },
             "line": {
              "color": "white"
             }
            },
            "type": "table"
           }
          ]
         },
         "layout": {
          "annotationdefaults": {
           "arrowcolor": "#2a3f5f",
           "arrowhead": 0,
           "arrowwidth": 1
          },
          "autotypenumbers": "strict",
          "coloraxis": {
           "colorbar": {
            "outlinewidth": 0,
            "ticks": ""
           }
          },
          "colorscale": {
           "diverging": [
            [
             0,
             "#8e0152"
            ],
            [
             0.1,
             "#c51b7d"
            ],
            [
             0.2,
             "#de77ae"
            ],
            [
             0.3,
             "#f1b6da"
            ],
            [
             0.4,
             "#fde0ef"
            ],
            [
             0.5,
             "#f7f7f7"
            ],
            [
             0.6,
             "#e6f5d0"
            ],
            [
             0.7,
             "#b8e186"
            ],
            [
             0.8,
             "#7fbc41"
            ],
            [
             0.9,
             "#4d9221"
            ],
            [
             1,
             "#276419"
            ]
           ],
           "sequential": [
            [
             0,
             "#0d0887"
            ],
            [
             0.1111111111111111,
             "#46039f"
            ],
            [
             0.2222222222222222,
             "#7201a8"
            ],
            [
             0.3333333333333333,
             "#9c179e"
            ],
            [
             0.4444444444444444,
             "#bd3786"
            ],
            [
             0.5555555555555556,
             "#d8576b"
            ],
            [
             0.6666666666666666,
             "#ed7953"
            ],
            [
             0.7777777777777778,
             "#fb9f3a"
            ],
            [
             0.8888888888888888,
             "#fdca26"
            ],
            [
             1,
             "#f0f921"
            ]
           ],
           "sequentialminus": [
            [
             0,
             "#0d0887"
            ],
            [
             0.1111111111111111,
             "#46039f"
            ],
            [
             0.2222222222222222,
             "#7201a8"
            ],
            [
             0.3333333333333333,
             "#9c179e"
            ],
            [
             0.4444444444444444,
             "#bd3786"
            ],
            [
             0.5555555555555556,
             "#d8576b"
            ],
            [
             0.6666666666666666,
             "#ed7953"
            ],
            [
             0.7777777777777778,
             "#fb9f3a"
            ],
            [
             0.8888888888888888,
             "#fdca26"
            ],
            [
             1,
             "#f0f921"
            ]
           ]
          },
          "colorway": [
           "#636efa",
           "#EF553B",
           "#00cc96",
           "#ab63fa",
           "#FFA15A",
           "#19d3f3",
           "#FF6692",
           "#B6E880",
           "#FF97FF",
           "#FECB52"
          ],
          "font": {
           "color": "#2a3f5f"
          },
          "geo": {
           "bgcolor": "white",
           "lakecolor": "white",
           "landcolor": "#E5ECF6",
           "showlakes": true,
           "showland": true,
           "subunitcolor": "white"
          },
          "hoverlabel": {
           "align": "left"
          },
          "hovermode": "closest",
          "mapbox": {
           "style": "light"
          },
          "paper_bgcolor": "white",
          "plot_bgcolor": "#E5ECF6",
          "polar": {
           "angularaxis": {
            "gridcolor": "white",
            "linecolor": "white",
            "ticks": ""
           },
           "bgcolor": "#E5ECF6",
           "radialaxis": {
            "gridcolor": "white",
            "linecolor": "white",
            "ticks": ""
           }
          },
          "scene": {
           "xaxis": {
            "backgroundcolor": "#E5ECF6",
            "gridcolor": "white",
            "gridwidth": 2,
            "linecolor": "white",
            "showbackground": true,
            "ticks": "",
            "zerolinecolor": "white"
           },
           "yaxis": {
            "backgroundcolor": "#E5ECF6",
            "gridcolor": "white",
            "gridwidth": 2,
            "linecolor": "white",
            "showbackground": true,
            "ticks": "",
            "zerolinecolor": "white"
           },
           "zaxis": {
            "backgroundcolor": "#E5ECF6",
            "gridcolor": "white",
            "gridwidth": 2,
            "linecolor": "white",
            "showbackground": true,
            "ticks": "",
            "zerolinecolor": "white"
           }
          },
          "shapedefaults": {
           "line": {
            "color": "#2a3f5f"
           }
          },
          "ternary": {
           "aaxis": {
            "gridcolor": "white",
            "linecolor": "white",
            "ticks": ""
           },
           "baxis": {
            "gridcolor": "white",
            "linecolor": "white",
            "ticks": ""
           },
           "bgcolor": "#E5ECF6",
           "caxis": {
            "gridcolor": "white",
            "linecolor": "white",
            "ticks": ""
           }
          },
          "title": {
           "x": 0.05
          },
          "xaxis": {
           "automargin": true,
           "gridcolor": "white",
           "linecolor": "white",
           "ticks": "",
           "title": {
            "standoff": 15
           },
           "zerolinecolor": "white",
           "zerolinewidth": 2
          },
          "yaxis": {
           "automargin": true,
           "gridcolor": "white",
           "linecolor": "white",
           "ticks": "",
           "title": {
            "standoff": 15
           },
           "zerolinecolor": "white",
           "zerolinewidth": 2
          }
         }
        },
        "title": {
         "text": "Gender Distribution by Age Groups"
        },
        "xaxis": {
         "anchor": "y",
         "domain": [
          0,
          1
         ],
         "title": {
          "text": "Gender"
         }
        },
        "yaxis": {
         "anchor": "x",
         "domain": [
          0,
          1
         ],
         "title": {
          "text": "Number of Users"
         }
        }
       }
      }
     },
     "metadata": {},
     "output_type": "display_data"
    }
   ],
   "source": [
    "gender_age_counts = users.groupby([\"Gender\", \"Age\"]).size().reset_index(name=\"Count\")\n",
    "gender_age_counts[\"AgeGroup\"] = gender_age_counts[\"Age\"].map(age_values)\n",
    "\n",
    "fig = px.bar(\n",
    "    gender_age_counts,\n",
    "    x=\"Gender\",\n",
    "    y=\"Count\",\n",
    "    color=\"AgeGroup\",\n",
    "    title=\"Gender Distribution by Age Groups\",\n",
    "    labels={\"Count\": \"Number of Users\", \"AgeGroup\": \"Age Group\"},\n",
    "    barmode=\"stack\"\n",
    ")\n",
    "fig.show()\n"
   ]
  },
  {
   "cell_type": "code",
   "execution_count": 13,
   "id": "83b7d436",
   "metadata": {},
   "outputs": [
    {
     "data": {
      "application/vnd.plotly.v1+json": {
       "config": {
        "plotlyServerURL": "https://plot.ly"
       },
       "data": [
        {
         "hovertemplate": "Occupation=%{x}<br>Count=%{y}<extra></extra>",
         "legendgroup": "",
         "marker": {
          "color": "#636efa",
          "pattern": {
           "shape": ""
          }
         },
         "name": "",
         "orientation": "v",
         "showlegend": false,
         "textposition": "auto",
         "type": "bar",
         "x": [
          "college/grad student",
          "other",
          "executive/managerial",
          "academic/educator",
          "technician/engineer",
          "programmer",
          "sales/marketing",
          "writer",
          "artist",
          "self-employed",
          "doctor/health care",
          "K-12 student",
          "clerical/admin",
          "scientist",
          "retired",
          "lawyer",
          "customer service",
          "homemaker",
          "unemployed",
          "tradesman/craftsman",
          "farmer"
         ],
         "xaxis": "x",
         "y": {
          "bdata": "9wLHAqcCEAL2AYQBLgEZAQsB8QDsAMMArQCQAI4AgQBwAFwASABGABEA",
          "dtype": "i2"
         },
         "yaxis": "y"
        }
       ],
       "layout": {
        "barmode": "relative",
        "legend": {
         "tracegroupgap": 0
        },
        "template": {
         "data": {
          "bar": [
           {
            "error_x": {
             "color": "#2a3f5f"
            },
            "error_y": {
             "color": "#2a3f5f"
            },
            "marker": {
             "line": {
              "color": "#E5ECF6",
              "width": 0.5
             },
             "pattern": {
              "fillmode": "overlay",
              "size": 10,
              "solidity": 0.2
             }
            },
            "type": "bar"
           }
          ],
          "barpolar": [
           {
            "marker": {
             "line": {
              "color": "#E5ECF6",
              "width": 0.5
             },
             "pattern": {
              "fillmode": "overlay",
              "size": 10,
              "solidity": 0.2
             }
            },
            "type": "barpolar"
           }
          ],
          "carpet": [
           {
            "aaxis": {
             "endlinecolor": "#2a3f5f",
             "gridcolor": "white",
             "linecolor": "white",
             "minorgridcolor": "white",
             "startlinecolor": "#2a3f5f"
            },
            "baxis": {
             "endlinecolor": "#2a3f5f",
             "gridcolor": "white",
             "linecolor": "white",
             "minorgridcolor": "white",
             "startlinecolor": "#2a3f5f"
            },
            "type": "carpet"
           }
          ],
          "choropleth": [
           {
            "colorbar": {
             "outlinewidth": 0,
             "ticks": ""
            },
            "type": "choropleth"
           }
          ],
          "contour": [
           {
            "colorbar": {
             "outlinewidth": 0,
             "ticks": ""
            },
            "colorscale": [
             [
              0,
              "#0d0887"
             ],
             [
              0.1111111111111111,
              "#46039f"
             ],
             [
              0.2222222222222222,
              "#7201a8"
             ],
             [
              0.3333333333333333,
              "#9c179e"
             ],
             [
              0.4444444444444444,
              "#bd3786"
             ],
             [
              0.5555555555555556,
              "#d8576b"
             ],
             [
              0.6666666666666666,
              "#ed7953"
             ],
             [
              0.7777777777777778,
              "#fb9f3a"
             ],
             [
              0.8888888888888888,
              "#fdca26"
             ],
             [
              1,
              "#f0f921"
             ]
            ],
            "type": "contour"
           }
          ],
          "contourcarpet": [
           {
            "colorbar": {
             "outlinewidth": 0,
             "ticks": ""
            },
            "type": "contourcarpet"
           }
          ],
          "heatmap": [
           {
            "colorbar": {
             "outlinewidth": 0,
             "ticks": ""
            },
            "colorscale": [
             [
              0,
              "#0d0887"
             ],
             [
              0.1111111111111111,
              "#46039f"
             ],
             [
              0.2222222222222222,
              "#7201a8"
             ],
             [
              0.3333333333333333,
              "#9c179e"
             ],
             [
              0.4444444444444444,
              "#bd3786"
             ],
             [
              0.5555555555555556,
              "#d8576b"
             ],
             [
              0.6666666666666666,
              "#ed7953"
             ],
             [
              0.7777777777777778,
              "#fb9f3a"
             ],
             [
              0.8888888888888888,
              "#fdca26"
             ],
             [
              1,
              "#f0f921"
             ]
            ],
            "type": "heatmap"
           }
          ],
          "histogram": [
           {
            "marker": {
             "pattern": {
              "fillmode": "overlay",
              "size": 10,
              "solidity": 0.2
             }
            },
            "type": "histogram"
           }
          ],
          "histogram2d": [
           {
            "colorbar": {
             "outlinewidth": 0,
             "ticks": ""
            },
            "colorscale": [
             [
              0,
              "#0d0887"
             ],
             [
              0.1111111111111111,
              "#46039f"
             ],
             [
              0.2222222222222222,
              "#7201a8"
             ],
             [
              0.3333333333333333,
              "#9c179e"
             ],
             [
              0.4444444444444444,
              "#bd3786"
             ],
             [
              0.5555555555555556,
              "#d8576b"
             ],
             [
              0.6666666666666666,
              "#ed7953"
             ],
             [
              0.7777777777777778,
              "#fb9f3a"
             ],
             [
              0.8888888888888888,
              "#fdca26"
             ],
             [
              1,
              "#f0f921"
             ]
            ],
            "type": "histogram2d"
           }
          ],
          "histogram2dcontour": [
           {
            "colorbar": {
             "outlinewidth": 0,
             "ticks": ""
            },
            "colorscale": [
             [
              0,
              "#0d0887"
             ],
             [
              0.1111111111111111,
              "#46039f"
             ],
             [
              0.2222222222222222,
              "#7201a8"
             ],
             [
              0.3333333333333333,
              "#9c179e"
             ],
             [
              0.4444444444444444,
              "#bd3786"
             ],
             [
              0.5555555555555556,
              "#d8576b"
             ],
             [
              0.6666666666666666,
              "#ed7953"
             ],
             [
              0.7777777777777778,
              "#fb9f3a"
             ],
             [
              0.8888888888888888,
              "#fdca26"
             ],
             [
              1,
              "#f0f921"
             ]
            ],
            "type": "histogram2dcontour"
           }
          ],
          "mesh3d": [
           {
            "colorbar": {
             "outlinewidth": 0,
             "ticks": ""
            },
            "type": "mesh3d"
           }
          ],
          "parcoords": [
           {
            "line": {
             "colorbar": {
              "outlinewidth": 0,
              "ticks": ""
             }
            },
            "type": "parcoords"
           }
          ],
          "pie": [
           {
            "automargin": true,
            "type": "pie"
           }
          ],
          "scatter": [
           {
            "fillpattern": {
             "fillmode": "overlay",
             "size": 10,
             "solidity": 0.2
            },
            "type": "scatter"
           }
          ],
          "scatter3d": [
           {
            "line": {
             "colorbar": {
              "outlinewidth": 0,
              "ticks": ""
             }
            },
            "marker": {
             "colorbar": {
              "outlinewidth": 0,
              "ticks": ""
             }
            },
            "type": "scatter3d"
           }
          ],
          "scattercarpet": [
           {
            "marker": {
             "colorbar": {
              "outlinewidth": 0,
              "ticks": ""
             }
            },
            "type": "scattercarpet"
           }
          ],
          "scattergeo": [
           {
            "marker": {
             "colorbar": {
              "outlinewidth": 0,
              "ticks": ""
             }
            },
            "type": "scattergeo"
           }
          ],
          "scattergl": [
           {
            "marker": {
             "colorbar": {
              "outlinewidth": 0,
              "ticks": ""
             }
            },
            "type": "scattergl"
           }
          ],
          "scattermap": [
           {
            "marker": {
             "colorbar": {
              "outlinewidth": 0,
              "ticks": ""
             }
            },
            "type": "scattermap"
           }
          ],
          "scattermapbox": [
           {
            "marker": {
             "colorbar": {
              "outlinewidth": 0,
              "ticks": ""
             }
            },
            "type": "scattermapbox"
           }
          ],
          "scatterpolar": [
           {
            "marker": {
             "colorbar": {
              "outlinewidth": 0,
              "ticks": ""
             }
            },
            "type": "scatterpolar"
           }
          ],
          "scatterpolargl": [
           {
            "marker": {
             "colorbar": {
              "outlinewidth": 0,
              "ticks": ""
             }
            },
            "type": "scatterpolargl"
           }
          ],
          "scatterternary": [
           {
            "marker": {
             "colorbar": {
              "outlinewidth": 0,
              "ticks": ""
             }
            },
            "type": "scatterternary"
           }
          ],
          "surface": [
           {
            "colorbar": {
             "outlinewidth": 0,
             "ticks": ""
            },
            "colorscale": [
             [
              0,
              "#0d0887"
             ],
             [
              0.1111111111111111,
              "#46039f"
             ],
             [
              0.2222222222222222,
              "#7201a8"
             ],
             [
              0.3333333333333333,
              "#9c179e"
             ],
             [
              0.4444444444444444,
              "#bd3786"
             ],
             [
              0.5555555555555556,
              "#d8576b"
             ],
             [
              0.6666666666666666,
              "#ed7953"
             ],
             [
              0.7777777777777778,
              "#fb9f3a"
             ],
             [
              0.8888888888888888,
              "#fdca26"
             ],
             [
              1,
              "#f0f921"
             ]
            ],
            "type": "surface"
           }
          ],
          "table": [
           {
            "cells": {
             "fill": {
              "color": "#EBF0F8"
             },
             "line": {
              "color": "white"
             }
            },
            "header": {
             "fill": {
              "color": "#C8D4E3"
             },
             "line": {
              "color": "white"
             }
            },
            "type": "table"
           }
          ]
         },
         "layout": {
          "annotationdefaults": {
           "arrowcolor": "#2a3f5f",
           "arrowhead": 0,
           "arrowwidth": 1
          },
          "autotypenumbers": "strict",
          "coloraxis": {
           "colorbar": {
            "outlinewidth": 0,
            "ticks": ""
           }
          },
          "colorscale": {
           "diverging": [
            [
             0,
             "#8e0152"
            ],
            [
             0.1,
             "#c51b7d"
            ],
            [
             0.2,
             "#de77ae"
            ],
            [
             0.3,
             "#f1b6da"
            ],
            [
             0.4,
             "#fde0ef"
            ],
            [
             0.5,
             "#f7f7f7"
            ],
            [
             0.6,
             "#e6f5d0"
            ],
            [
             0.7,
             "#b8e186"
            ],
            [
             0.8,
             "#7fbc41"
            ],
            [
             0.9,
             "#4d9221"
            ],
            [
             1,
             "#276419"
            ]
           ],
           "sequential": [
            [
             0,
             "#0d0887"
            ],
            [
             0.1111111111111111,
             "#46039f"
            ],
            [
             0.2222222222222222,
             "#7201a8"
            ],
            [
             0.3333333333333333,
             "#9c179e"
            ],
            [
             0.4444444444444444,
             "#bd3786"
            ],
            [
             0.5555555555555556,
             "#d8576b"
            ],
            [
             0.6666666666666666,
             "#ed7953"
            ],
            [
             0.7777777777777778,
             "#fb9f3a"
            ],
            [
             0.8888888888888888,
             "#fdca26"
            ],
            [
             1,
             "#f0f921"
            ]
           ],
           "sequentialminus": [
            [
             0,
             "#0d0887"
            ],
            [
             0.1111111111111111,
             "#46039f"
            ],
            [
             0.2222222222222222,
             "#7201a8"
            ],
            [
             0.3333333333333333,
             "#9c179e"
            ],
            [
             0.4444444444444444,
             "#bd3786"
            ],
            [
             0.5555555555555556,
             "#d8576b"
            ],
            [
             0.6666666666666666,
             "#ed7953"
            ],
            [
             0.7777777777777778,
             "#fb9f3a"
            ],
            [
             0.8888888888888888,
             "#fdca26"
            ],
            [
             1,
             "#f0f921"
            ]
           ]
          },
          "colorway": [
           "#636efa",
           "#EF553B",
           "#00cc96",
           "#ab63fa",
           "#FFA15A",
           "#19d3f3",
           "#FF6692",
           "#B6E880",
           "#FF97FF",
           "#FECB52"
          ],
          "font": {
           "color": "#2a3f5f"
          },
          "geo": {
           "bgcolor": "white",
           "lakecolor": "white",
           "landcolor": "#E5ECF6",
           "showlakes": true,
           "showland": true,
           "subunitcolor": "white"
          },
          "hoverlabel": {
           "align": "left"
          },
          "hovermode": "closest",
          "mapbox": {
           "style": "light"
          },
          "paper_bgcolor": "white",
          "plot_bgcolor": "#E5ECF6",
          "polar": {
           "angularaxis": {
            "gridcolor": "white",
            "linecolor": "white",
            "ticks": ""
           },
           "bgcolor": "#E5ECF6",
           "radialaxis": {
            "gridcolor": "white",
            "linecolor": "white",
            "ticks": ""
           }
          },
          "scene": {
           "xaxis": {
            "backgroundcolor": "#E5ECF6",
            "gridcolor": "white",
            "gridwidth": 2,
            "linecolor": "white",
            "showbackground": true,
            "ticks": "",
            "zerolinecolor": "white"
           },
           "yaxis": {
            "backgroundcolor": "#E5ECF6",
            "gridcolor": "white",
            "gridwidth": 2,
            "linecolor": "white",
            "showbackground": true,
            "ticks": "",
            "zerolinecolor": "white"
           },
           "zaxis": {
            "backgroundcolor": "#E5ECF6",
            "gridcolor": "white",
            "gridwidth": 2,
            "linecolor": "white",
            "showbackground": true,
            "ticks": "",
            "zerolinecolor": "white"
           }
          },
          "shapedefaults": {
           "line": {
            "color": "#2a3f5f"
           }
          },
          "ternary": {
           "aaxis": {
            "gridcolor": "white",
            "linecolor": "white",
            "ticks": ""
           },
           "baxis": {
            "gridcolor": "white",
            "linecolor": "white",
            "ticks": ""
           },
           "bgcolor": "#E5ECF6",
           "caxis": {
            "gridcolor": "white",
            "linecolor": "white",
            "ticks": ""
           }
          },
          "title": {
           "x": 0.05
          },
          "xaxis": {
           "automargin": true,
           "gridcolor": "white",
           "linecolor": "white",
           "ticks": "",
           "title": {
            "standoff": 15
           },
           "zerolinecolor": "white",
           "zerolinewidth": 2
          },
          "yaxis": {
           "automargin": true,
           "gridcolor": "white",
           "linecolor": "white",
           "ticks": "",
           "title": {
            "standoff": 15
           },
           "zerolinecolor": "white",
           "zerolinewidth": 2
          }
         }
        },
        "title": {
         "text": "Occupation Distribution"
        },
        "xaxis": {
         "anchor": "y",
         "domain": [
          0,
          1
         ],
         "title": {
          "text": "Occupation"
         }
        },
        "yaxis": {
         "anchor": "x",
         "domain": [
          0,
          1
         ],
         "title": {
          "text": "Count"
         }
        }
       }
      }
     },
     "metadata": {},
     "output_type": "display_data"
    }
   ],
   "source": [
    "# from the README original source\n",
    "occupation_mappings = {\n",
    "    0: \"other\",\n",
    "    1: \"academic/educator\",\n",
    "    2: \"artist\",\n",
    "    3: \"clerical/admin\",\n",
    "    4: \"college/grad student\",\n",
    "    5: \"customer service\",\n",
    "    6: \"doctor/health care\",\n",
    "    7: \"executive/managerial\",\n",
    "    8: \"farmer\",\n",
    "    9: \"homemaker\",\n",
    "    10: \"K-12 student\",\n",
    "    11: \"lawyer\",\n",
    "    12: \"programmer\",\n",
    "    13: \"retired\",\n",
    "    14: \"sales/marketing\",\n",
    "    15: \"scientist\",\n",
    "    16: \"self-employed\",\n",
    "    17: \"technician/engineer\",\n",
    "    18: \"tradesman/craftsman\",\n",
    "    19: \"unemployed\",\n",
    "    20: \"writer\",\n",
    "}\n",
    "occupation_counts = users['Occupation'].map(occupation_mappings).value_counts()\n",
    "fig = px.bar(x=occupation_counts.index, y=occupation_counts.values, title='Occupation Distribution', labels={'x': 'Occupation', 'y': 'Count'})\n",
    "fig.show()"
   ]
  },
  {
   "cell_type": "markdown",
   "id": "8f742837",
   "metadata": {},
   "source": [
    "# Analysis of movies\n",
    "\n",
    "  - how many ganres does a movie typically have?"
   ]
  },
  {
   "cell_type": "code",
   "execution_count": null,
   "id": "467f7c99",
   "metadata": {},
   "outputs": [
    {
     "data": {
      "text/html": [
       "<div>\n",
       "<style scoped>\n",
       "    .dataframe tbody tr th:only-of-type {\n",
       "        vertical-align: middle;\n",
       "    }\n",
       "\n",
       "    .dataframe tbody tr th {\n",
       "        vertical-align: top;\n",
       "    }\n",
       "\n",
       "    .dataframe thead th {\n",
       "        text-align: right;\n",
       "    }\n",
       "</style>\n",
       "<table border=\"1\" class=\"dataframe\">\n",
       "  <thead>\n",
       "    <tr style=\"text-align: right;\">\n",
       "      <th></th>\n",
       "      <th>MovieID</th>\n",
       "      <th>Title</th>\n",
       "      <th>Genres</th>\n",
       "    </tr>\n",
       "  </thead>\n",
       "  <tbody>\n",
       "    <tr>\n",
       "      <th>0</th>\n",
       "      <td>1</td>\n",
       "      <td>Toy Story (1995)</td>\n",
       "      <td>Animation|Children's|Comedy</td>\n",
       "    </tr>\n",
       "    <tr>\n",
       "      <th>1</th>\n",
       "      <td>2</td>\n",
       "      <td>Jumanji (1995)</td>\n",
       "      <td>Adventure|Children's|Fantasy</td>\n",
       "    </tr>\n",
       "    <tr>\n",
       "      <th>2</th>\n",
       "      <td>3</td>\n",
       "      <td>Grumpier Old Men (1995)</td>\n",
       "      <td>Comedy|Romance</td>\n",
       "    </tr>\n",
       "    <tr>\n",
       "      <th>3</th>\n",
       "      <td>4</td>\n",
       "      <td>Waiting to Exhale (1995)</td>\n",
       "      <td>Comedy|Drama</td>\n",
       "    </tr>\n",
       "    <tr>\n",
       "      <th>4</th>\n",
       "      <td>5</td>\n",
       "      <td>Father of the Bride Part II (1995)</td>\n",
       "      <td>Comedy</td>\n",
       "    </tr>\n",
       "  </tbody>\n",
       "</table>\n",
       "</div>"
      ],
      "text/plain": [
       "   MovieID                               Title                        Genres\n",
       "0        1                    Toy Story (1995)   Animation|Children's|Comedy\n",
       "1        2                      Jumanji (1995)  Adventure|Children's|Fantasy\n",
       "2        3             Grumpier Old Men (1995)                Comedy|Romance\n",
       "3        4            Waiting to Exhale (1995)                  Comedy|Drama\n",
       "4        5  Father of the Bride Part II (1995)                        Comedy"
      ]
     },
     "execution_count": 36,
     "metadata": {},
     "output_type": "execute_result"
    }
   ],
   "source": [
    "movies.head() # to remember the structure"
   ]
  },
  {
   "cell_type": "code",
   "execution_count": 63,
   "id": "493658fc",
   "metadata": {},
   "outputs": [
    {
     "data": {
      "application/vnd.plotly.v1+json": {
       "config": {
        "plotlyServerURL": "https://plot.ly"
       },
       "data": [
        {
         "hovertemplate": "Number of genres=%{x}<br>Count=%{y}<extra></extra>",
         "legendgroup": "",
         "marker": {
          "color": "#636efa",
          "pattern": {
           "shape": ""
          }
         },
         "name": "",
         "orientation": "v",
         "showlegend": false,
         "textposition": "auto",
         "type": "bar",
         "x": {
          "bdata": "AQIDBAUG",
          "dtype": "i1"
         },
         "xaxis": "x",
         "y": {
          "bdata": "6QcqBaUBZAAOAAEA",
          "dtype": "i2"
         },
         "yaxis": "y"
        }
       ],
       "layout": {
        "barmode": "relative",
        "legend": {
         "tracegroupgap": 0
        },
        "template": {
         "data": {
          "bar": [
           {
            "error_x": {
             "color": "#2a3f5f"
            },
            "error_y": {
             "color": "#2a3f5f"
            },
            "marker": {
             "line": {
              "color": "#E5ECF6",
              "width": 0.5
             },
             "pattern": {
              "fillmode": "overlay",
              "size": 10,
              "solidity": 0.2
             }
            },
            "type": "bar"
           }
          ],
          "barpolar": [
           {
            "marker": {
             "line": {
              "color": "#E5ECF6",
              "width": 0.5
             },
             "pattern": {
              "fillmode": "overlay",
              "size": 10,
              "solidity": 0.2
             }
            },
            "type": "barpolar"
           }
          ],
          "carpet": [
           {
            "aaxis": {
             "endlinecolor": "#2a3f5f",
             "gridcolor": "white",
             "linecolor": "white",
             "minorgridcolor": "white",
             "startlinecolor": "#2a3f5f"
            },
            "baxis": {
             "endlinecolor": "#2a3f5f",
             "gridcolor": "white",
             "linecolor": "white",
             "minorgridcolor": "white",
             "startlinecolor": "#2a3f5f"
            },
            "type": "carpet"
           }
          ],
          "choropleth": [
           {
            "colorbar": {
             "outlinewidth": 0,
             "ticks": ""
            },
            "type": "choropleth"
           }
          ],
          "contour": [
           {
            "colorbar": {
             "outlinewidth": 0,
             "ticks": ""
            },
            "colorscale": [
             [
              0,
              "#0d0887"
             ],
             [
              0.1111111111111111,
              "#46039f"
             ],
             [
              0.2222222222222222,
              "#7201a8"
             ],
             [
              0.3333333333333333,
              "#9c179e"
             ],
             [
              0.4444444444444444,
              "#bd3786"
             ],
             [
              0.5555555555555556,
              "#d8576b"
             ],
             [
              0.6666666666666666,
              "#ed7953"
             ],
             [
              0.7777777777777778,
              "#fb9f3a"
             ],
             [
              0.8888888888888888,
              "#fdca26"
             ],
             [
              1,
              "#f0f921"
             ]
            ],
            "type": "contour"
           }
          ],
          "contourcarpet": [
           {
            "colorbar": {
             "outlinewidth": 0,
             "ticks": ""
            },
            "type": "contourcarpet"
           }
          ],
          "heatmap": [
           {
            "colorbar": {
             "outlinewidth": 0,
             "ticks": ""
            },
            "colorscale": [
             [
              0,
              "#0d0887"
             ],
             [
              0.1111111111111111,
              "#46039f"
             ],
             [
              0.2222222222222222,
              "#7201a8"
             ],
             [
              0.3333333333333333,
              "#9c179e"
             ],
             [
              0.4444444444444444,
              "#bd3786"
             ],
             [
              0.5555555555555556,
              "#d8576b"
             ],
             [
              0.6666666666666666,
              "#ed7953"
             ],
             [
              0.7777777777777778,
              "#fb9f3a"
             ],
             [
              0.8888888888888888,
              "#fdca26"
             ],
             [
              1,
              "#f0f921"
             ]
            ],
            "type": "heatmap"
           }
          ],
          "histogram": [
           {
            "marker": {
             "pattern": {
              "fillmode": "overlay",
              "size": 10,
              "solidity": 0.2
             }
            },
            "type": "histogram"
           }
          ],
          "histogram2d": [
           {
            "colorbar": {
             "outlinewidth": 0,
             "ticks": ""
            },
            "colorscale": [
             [
              0,
              "#0d0887"
             ],
             [
              0.1111111111111111,
              "#46039f"
             ],
             [
              0.2222222222222222,
              "#7201a8"
             ],
             [
              0.3333333333333333,
              "#9c179e"
             ],
             [
              0.4444444444444444,
              "#bd3786"
             ],
             [
              0.5555555555555556,
              "#d8576b"
             ],
             [
              0.6666666666666666,
              "#ed7953"
             ],
             [
              0.7777777777777778,
              "#fb9f3a"
             ],
             [
              0.8888888888888888,
              "#fdca26"
             ],
             [
              1,
              "#f0f921"
             ]
            ],
            "type": "histogram2d"
           }
          ],
          "histogram2dcontour": [
           {
            "colorbar": {
             "outlinewidth": 0,
             "ticks": ""
            },
            "colorscale": [
             [
              0,
              "#0d0887"
             ],
             [
              0.1111111111111111,
              "#46039f"
             ],
             [
              0.2222222222222222,
              "#7201a8"
             ],
             [
              0.3333333333333333,
              "#9c179e"
             ],
             [
              0.4444444444444444,
              "#bd3786"
             ],
             [
              0.5555555555555556,
              "#d8576b"
             ],
             [
              0.6666666666666666,
              "#ed7953"
             ],
             [
              0.7777777777777778,
              "#fb9f3a"
             ],
             [
              0.8888888888888888,
              "#fdca26"
             ],
             [
              1,
              "#f0f921"
             ]
            ],
            "type": "histogram2dcontour"
           }
          ],
          "mesh3d": [
           {
            "colorbar": {
             "outlinewidth": 0,
             "ticks": ""
            },
            "type": "mesh3d"
           }
          ],
          "parcoords": [
           {
            "line": {
             "colorbar": {
              "outlinewidth": 0,
              "ticks": ""
             }
            },
            "type": "parcoords"
           }
          ],
          "pie": [
           {
            "automargin": true,
            "type": "pie"
           }
          ],
          "scatter": [
           {
            "fillpattern": {
             "fillmode": "overlay",
             "size": 10,
             "solidity": 0.2
            },
            "type": "scatter"
           }
          ],
          "scatter3d": [
           {
            "line": {
             "colorbar": {
              "outlinewidth": 0,
              "ticks": ""
             }
            },
            "marker": {
             "colorbar": {
              "outlinewidth": 0,
              "ticks": ""
             }
            },
            "type": "scatter3d"
           }
          ],
          "scattercarpet": [
           {
            "marker": {
             "colorbar": {
              "outlinewidth": 0,
              "ticks": ""
             }
            },
            "type": "scattercarpet"
           }
          ],
          "scattergeo": [
           {
            "marker": {
             "colorbar": {
              "outlinewidth": 0,
              "ticks": ""
             }
            },
            "type": "scattergeo"
           }
          ],
          "scattergl": [
           {
            "marker": {
             "colorbar": {
              "outlinewidth": 0,
              "ticks": ""
             }
            },
            "type": "scattergl"
           }
          ],
          "scattermap": [
           {
            "marker": {
             "colorbar": {
              "outlinewidth": 0,
              "ticks": ""
             }
            },
            "type": "scattermap"
           }
          ],
          "scattermapbox": [
           {
            "marker": {
             "colorbar": {
              "outlinewidth": 0,
              "ticks": ""
             }
            },
            "type": "scattermapbox"
           }
          ],
          "scatterpolar": [
           {
            "marker": {
             "colorbar": {
              "outlinewidth": 0,
              "ticks": ""
             }
            },
            "type": "scatterpolar"
           }
          ],
          "scatterpolargl": [
           {
            "marker": {
             "colorbar": {
              "outlinewidth": 0,
              "ticks": ""
             }
            },
            "type": "scatterpolargl"
           }
          ],
          "scatterternary": [
           {
            "marker": {
             "colorbar": {
              "outlinewidth": 0,
              "ticks": ""
             }
            },
            "type": "scatterternary"
           }
          ],
          "surface": [
           {
            "colorbar": {
             "outlinewidth": 0,
             "ticks": ""
            },
            "colorscale": [
             [
              0,
              "#0d0887"
             ],
             [
              0.1111111111111111,
              "#46039f"
             ],
             [
              0.2222222222222222,
              "#7201a8"
             ],
             [
              0.3333333333333333,
              "#9c179e"
             ],
             [
              0.4444444444444444,
              "#bd3786"
             ],
             [
              0.5555555555555556,
              "#d8576b"
             ],
             [
              0.6666666666666666,
              "#ed7953"
             ],
             [
              0.7777777777777778,
              "#fb9f3a"
             ],
             [
              0.8888888888888888,
              "#fdca26"
             ],
             [
              1,
              "#f0f921"
             ]
            ],
            "type": "surface"
           }
          ],
          "table": [
           {
            "cells": {
             "fill": {
              "color": "#EBF0F8"
             },
             "line": {
              "color": "white"
             }
            },
            "header": {
             "fill": {
              "color": "#C8D4E3"
             },
             "line": {
              "color": "white"
             }
            },
            "type": "table"
           }
          ]
         },
         "layout": {
          "annotationdefaults": {
           "arrowcolor": "#2a3f5f",
           "arrowhead": 0,
           "arrowwidth": 1
          },
          "autotypenumbers": "strict",
          "coloraxis": {
           "colorbar": {
            "outlinewidth": 0,
            "ticks": ""
           }
          },
          "colorscale": {
           "diverging": [
            [
             0,
             "#8e0152"
            ],
            [
             0.1,
             "#c51b7d"
            ],
            [
             0.2,
             "#de77ae"
            ],
            [
             0.3,
             "#f1b6da"
            ],
            [
             0.4,
             "#fde0ef"
            ],
            [
             0.5,
             "#f7f7f7"
            ],
            [
             0.6,
             "#e6f5d0"
            ],
            [
             0.7,
             "#b8e186"
            ],
            [
             0.8,
             "#7fbc41"
            ],
            [
             0.9,
             "#4d9221"
            ],
            [
             1,
             "#276419"
            ]
           ],
           "sequential": [
            [
             0,
             "#0d0887"
            ],
            [
             0.1111111111111111,
             "#46039f"
            ],
            [
             0.2222222222222222,
             "#7201a8"
            ],
            [
             0.3333333333333333,
             "#9c179e"
            ],
            [
             0.4444444444444444,
             "#bd3786"
            ],
            [
             0.5555555555555556,
             "#d8576b"
            ],
            [
             0.6666666666666666,
             "#ed7953"
            ],
            [
             0.7777777777777778,
             "#fb9f3a"
            ],
            [
             0.8888888888888888,
             "#fdca26"
            ],
            [
             1,
             "#f0f921"
            ]
           ],
           "sequentialminus": [
            [
             0,
             "#0d0887"
            ],
            [
             0.1111111111111111,
             "#46039f"
            ],
            [
             0.2222222222222222,
             "#7201a8"
            ],
            [
             0.3333333333333333,
             "#9c179e"
            ],
            [
             0.4444444444444444,
             "#bd3786"
            ],
            [
             0.5555555555555556,
             "#d8576b"
            ],
            [
             0.6666666666666666,
             "#ed7953"
            ],
            [
             0.7777777777777778,
             "#fb9f3a"
            ],
            [
             0.8888888888888888,
             "#fdca26"
            ],
            [
             1,
             "#f0f921"
            ]
           ]
          },
          "colorway": [
           "#636efa",
           "#EF553B",
           "#00cc96",
           "#ab63fa",
           "#FFA15A",
           "#19d3f3",
           "#FF6692",
           "#B6E880",
           "#FF97FF",
           "#FECB52"
          ],
          "font": {
           "color": "#2a3f5f"
          },
          "geo": {
           "bgcolor": "white",
           "lakecolor": "white",
           "landcolor": "#E5ECF6",
           "showlakes": true,
           "showland": true,
           "subunitcolor": "white"
          },
          "hoverlabel": {
           "align": "left"
          },
          "hovermode": "closest",
          "mapbox": {
           "style": "light"
          },
          "paper_bgcolor": "white",
          "plot_bgcolor": "#E5ECF6",
          "polar": {
           "angularaxis": {
            "gridcolor": "white",
            "linecolor": "white",
            "ticks": ""
           },
           "bgcolor": "#E5ECF6",
           "radialaxis": {
            "gridcolor": "white",
            "linecolor": "white",
            "ticks": ""
           }
          },
          "scene": {
           "xaxis": {
            "backgroundcolor": "#E5ECF6",
            "gridcolor": "white",
            "gridwidth": 2,
            "linecolor": "white",
            "showbackground": true,
            "ticks": "",
            "zerolinecolor": "white"
           },
           "yaxis": {
            "backgroundcolor": "#E5ECF6",
            "gridcolor": "white",
            "gridwidth": 2,
            "linecolor": "white",
            "showbackground": true,
            "ticks": "",
            "zerolinecolor": "white"
           },
           "zaxis": {
            "backgroundcolor": "#E5ECF6",
            "gridcolor": "white",
            "gridwidth": 2,
            "linecolor": "white",
            "showbackground": true,
            "ticks": "",
            "zerolinecolor": "white"
           }
          },
          "shapedefaults": {
           "line": {
            "color": "#2a3f5f"
           }
          },
          "ternary": {
           "aaxis": {
            "gridcolor": "white",
            "linecolor": "white",
            "ticks": ""
           },
           "baxis": {
            "gridcolor": "white",
            "linecolor": "white",
            "ticks": ""
           },
           "bgcolor": "#E5ECF6",
           "caxis": {
            "gridcolor": "white",
            "linecolor": "white",
            "ticks": ""
           }
          },
          "title": {
           "x": 0.05
          },
          "xaxis": {
           "automargin": true,
           "gridcolor": "white",
           "linecolor": "white",
           "ticks": "",
           "title": {
            "standoff": 15
           },
           "zerolinecolor": "white",
           "zerolinewidth": 2
          },
          "yaxis": {
           "automargin": true,
           "gridcolor": "white",
           "linecolor": "white",
           "ticks": "",
           "title": {
            "standoff": 15
           },
           "zerolinecolor": "white",
           "zerolinewidth": 2
          }
         }
        },
        "title": {
         "text": "Genre counts"
        },
        "xaxis": {
         "anchor": "y",
         "domain": [
          0,
          1
         ],
         "title": {
          "text": "Number of genres"
         }
        },
        "yaxis": {
         "anchor": "x",
         "domain": [
          0,
          1
         ],
         "title": {
          "text": "Count"
         }
        }
       }
      }
     },
     "metadata": {},
     "output_type": "display_data"
    }
   ],
   "source": [
    "movie_genre_counts = movies['Genres'].map(lambda x: len(x.split('|')))\n",
    "movie_genre_counts_explicit = movie_genre_counts.value_counts().reset_index(name=\"Count\")#.set_index(\"Genres\")\n",
    "movie_genre_counts_explicit\n",
    "fig = px.bar(movie_genre_counts_explicit,\n",
    "        x=\"Genres\",\n",
    "        y=\"Count\",\n",
    "        title=\"Genre counts\",\n",
    "        labels={\"Genres\": \"Number of genres\", \"Count\": \"Count\"})\n",
    "fig.show()\n"
   ]
  },
  {
   "cell_type": "markdown",
   "id": "0a896347",
   "metadata": {},
   "source": [
    "# Analysis of ratings\n",
    "  - what is the distribution of ratings? Do users tend to prefer extremes (1 or 5) compared to the more neutral ratings?\n",
    "  \n",
    "## Analysis of movies when ratings are in the picutre\n",
    "  - what are the most rated movies?\n",
    "  - what are the highest/lowest rated movies?\n",
    "  - what are the most rated genres?"
   ]
  },
  {
   "cell_type": "code",
   "execution_count": 74,
   "id": "dc96b3f6",
   "metadata": {},
   "outputs": [
    {
     "name": "stdout",
     "output_type": "stream",
     "text": [
      "   UserID  MovieID  Rating  Timestamp\n",
      "0       1     1193       5  978300760\n",
      "1       1      661       3  978302109\n",
      "2       1      914       3  978301968\n",
      "3       1     3408       4  978300275\n",
      "4       1     2355       5  978824291\n"
     ]
    },
    {
     "data": {
      "application/vnd.plotly.v1+json": {
       "config": {
        "plotlyServerURL": "https://plot.ly"
       },
       "data": [
        {
         "hovertemplate": "Rating=%{x}<br>Count=%{y}<extra></extra>",
         "legendgroup": "",
         "marker": {
          "color": "#636efa",
          "pattern": {
           "shape": ""
          }
         },
         "name": "",
         "orientation": "v",
         "showlegend": false,
         "textposition": "auto",
         "type": "bar",
         "x": {
          "bdata": "AQIDBAU=",
          "dtype": "i1"
         },
         "xaxis": "x",
         "y": {
          "bdata": "btsAACWkAQBN/AMAK1MFAAZ0AwA=",
          "dtype": "i4"
         },
         "yaxis": "y"
        }
       ],
       "layout": {
        "barmode": "relative",
        "legend": {
         "tracegroupgap": 0
        },
        "template": {
         "data": {
          "bar": [
           {
            "error_x": {
             "color": "#2a3f5f"
            },
            "error_y": {
             "color": "#2a3f5f"
            },
            "marker": {
             "line": {
              "color": "#E5ECF6",
              "width": 0.5
             },
             "pattern": {
              "fillmode": "overlay",
              "size": 10,
              "solidity": 0.2
             }
            },
            "type": "bar"
           }
          ],
          "barpolar": [
           {
            "marker": {
             "line": {
              "color": "#E5ECF6",
              "width": 0.5
             },
             "pattern": {
              "fillmode": "overlay",
              "size": 10,
              "solidity": 0.2
             }
            },
            "type": "barpolar"
           }
          ],
          "carpet": [
           {
            "aaxis": {
             "endlinecolor": "#2a3f5f",
             "gridcolor": "white",
             "linecolor": "white",
             "minorgridcolor": "white",
             "startlinecolor": "#2a3f5f"
            },
            "baxis": {
             "endlinecolor": "#2a3f5f",
             "gridcolor": "white",
             "linecolor": "white",
             "minorgridcolor": "white",
             "startlinecolor": "#2a3f5f"
            },
            "type": "carpet"
           }
          ],
          "choropleth": [
           {
            "colorbar": {
             "outlinewidth": 0,
             "ticks": ""
            },
            "type": "choropleth"
           }
          ],
          "contour": [
           {
            "colorbar": {
             "outlinewidth": 0,
             "ticks": ""
            },
            "colorscale": [
             [
              0,
              "#0d0887"
             ],
             [
              0.1111111111111111,
              "#46039f"
             ],
             [
              0.2222222222222222,
              "#7201a8"
             ],
             [
              0.3333333333333333,
              "#9c179e"
             ],
             [
              0.4444444444444444,
              "#bd3786"
             ],
             [
              0.5555555555555556,
              "#d8576b"
             ],
             [
              0.6666666666666666,
              "#ed7953"
             ],
             [
              0.7777777777777778,
              "#fb9f3a"
             ],
             [
              0.8888888888888888,
              "#fdca26"
             ],
             [
              1,
              "#f0f921"
             ]
            ],
            "type": "contour"
           }
          ],
          "contourcarpet": [
           {
            "colorbar": {
             "outlinewidth": 0,
             "ticks": ""
            },
            "type": "contourcarpet"
           }
          ],
          "heatmap": [
           {
            "colorbar": {
             "outlinewidth": 0,
             "ticks": ""
            },
            "colorscale": [
             [
              0,
              "#0d0887"
             ],
             [
              0.1111111111111111,
              "#46039f"
             ],
             [
              0.2222222222222222,
              "#7201a8"
             ],
             [
              0.3333333333333333,
              "#9c179e"
             ],
             [
              0.4444444444444444,
              "#bd3786"
             ],
             [
              0.5555555555555556,
              "#d8576b"
             ],
             [
              0.6666666666666666,
              "#ed7953"
             ],
             [
              0.7777777777777778,
              "#fb9f3a"
             ],
             [
              0.8888888888888888,
              "#fdca26"
             ],
             [
              1,
              "#f0f921"
             ]
            ],
            "type": "heatmap"
           }
          ],
          "histogram": [
           {
            "marker": {
             "pattern": {
              "fillmode": "overlay",
              "size": 10,
              "solidity": 0.2
             }
            },
            "type": "histogram"
           }
          ],
          "histogram2d": [
           {
            "colorbar": {
             "outlinewidth": 0,
             "ticks": ""
            },
            "colorscale": [
             [
              0,
              "#0d0887"
             ],
             [
              0.1111111111111111,
              "#46039f"
             ],
             [
              0.2222222222222222,
              "#7201a8"
             ],
             [
              0.3333333333333333,
              "#9c179e"
             ],
             [
              0.4444444444444444,
              "#bd3786"
             ],
             [
              0.5555555555555556,
              "#d8576b"
             ],
             [
              0.6666666666666666,
              "#ed7953"
             ],
             [
              0.7777777777777778,
              "#fb9f3a"
             ],
             [
              0.8888888888888888,
              "#fdca26"
             ],
             [
              1,
              "#f0f921"
             ]
            ],
            "type": "histogram2d"
           }
          ],
          "histogram2dcontour": [
           {
            "colorbar": {
             "outlinewidth": 0,
             "ticks": ""
            },
            "colorscale": [
             [
              0,
              "#0d0887"
             ],
             [
              0.1111111111111111,
              "#46039f"
             ],
             [
              0.2222222222222222,
              "#7201a8"
             ],
             [
              0.3333333333333333,
              "#9c179e"
             ],
             [
              0.4444444444444444,
              "#bd3786"
             ],
             [
              0.5555555555555556,
              "#d8576b"
             ],
             [
              0.6666666666666666,
              "#ed7953"
             ],
             [
              0.7777777777777778,
              "#fb9f3a"
             ],
             [
              0.8888888888888888,
              "#fdca26"
             ],
             [
              1,
              "#f0f921"
             ]
            ],
            "type": "histogram2dcontour"
           }
          ],
          "mesh3d": [
           {
            "colorbar": {
             "outlinewidth": 0,
             "ticks": ""
            },
            "type": "mesh3d"
           }
          ],
          "parcoords": [
           {
            "line": {
             "colorbar": {
              "outlinewidth": 0,
              "ticks": ""
             }
            },
            "type": "parcoords"
           }
          ],
          "pie": [
           {
            "automargin": true,
            "type": "pie"
           }
          ],
          "scatter": [
           {
            "fillpattern": {
             "fillmode": "overlay",
             "size": 10,
             "solidity": 0.2
            },
            "type": "scatter"
           }
          ],
          "scatter3d": [
           {
            "line": {
             "colorbar": {
              "outlinewidth": 0,
              "ticks": ""
             }
            },
            "marker": {
             "colorbar": {
              "outlinewidth": 0,
              "ticks": ""
             }
            },
            "type": "scatter3d"
           }
          ],
          "scattercarpet": [
           {
            "marker": {
             "colorbar": {
              "outlinewidth": 0,
              "ticks": ""
             }
            },
            "type": "scattercarpet"
           }
          ],
          "scattergeo": [
           {
            "marker": {
             "colorbar": {
              "outlinewidth": 0,
              "ticks": ""
             }
            },
            "type": "scattergeo"
           }
          ],
          "scattergl": [
           {
            "marker": {
             "colorbar": {
              "outlinewidth": 0,
              "ticks": ""
             }
            },
            "type": "scattergl"
           }
          ],
          "scattermap": [
           {
            "marker": {
             "colorbar": {
              "outlinewidth": 0,
              "ticks": ""
             }
            },
            "type": "scattermap"
           }
          ],
          "scattermapbox": [
           {
            "marker": {
             "colorbar": {
              "outlinewidth": 0,
              "ticks": ""
             }
            },
            "type": "scattermapbox"
           }
          ],
          "scatterpolar": [
           {
            "marker": {
             "colorbar": {
              "outlinewidth": 0,
              "ticks": ""
             }
            },
            "type": "scatterpolar"
           }
          ],
          "scatterpolargl": [
           {
            "marker": {
             "colorbar": {
              "outlinewidth": 0,
              "ticks": ""
             }
            },
            "type": "scatterpolargl"
           }
          ],
          "scatterternary": [
           {
            "marker": {
             "colorbar": {
              "outlinewidth": 0,
              "ticks": ""
             }
            },
            "type": "scatterternary"
           }
          ],
          "surface": [
           {
            "colorbar": {
             "outlinewidth": 0,
             "ticks": ""
            },
            "colorscale": [
             [
              0,
              "#0d0887"
             ],
             [
              0.1111111111111111,
              "#46039f"
             ],
             [
              0.2222222222222222,
              "#7201a8"
             ],
             [
              0.3333333333333333,
              "#9c179e"
             ],
             [
              0.4444444444444444,
              "#bd3786"
             ],
             [
              0.5555555555555556,
              "#d8576b"
             ],
             [
              0.6666666666666666,
              "#ed7953"
             ],
             [
              0.7777777777777778,
              "#fb9f3a"
             ],
             [
              0.8888888888888888,
              "#fdca26"
             ],
             [
              1,
              "#f0f921"
             ]
            ],
            "type": "surface"
           }
          ],
          "table": [
           {
            "cells": {
             "fill": {
              "color": "#EBF0F8"
             },
             "line": {
              "color": "white"
             }
            },
            "header": {
             "fill": {
              "color": "#C8D4E3"
             },
             "line": {
              "color": "white"
             }
            },
            "type": "table"
           }
          ]
         },
         "layout": {
          "annotationdefaults": {
           "arrowcolor": "#2a3f5f",
           "arrowhead": 0,
           "arrowwidth": 1
          },
          "autotypenumbers": "strict",
          "coloraxis": {
           "colorbar": {
            "outlinewidth": 0,
            "ticks": ""
           }
          },
          "colorscale": {
           "diverging": [
            [
             0,
             "#8e0152"
            ],
            [
             0.1,
             "#c51b7d"
            ],
            [
             0.2,
             "#de77ae"
            ],
            [
             0.3,
             "#f1b6da"
            ],
            [
             0.4,
             "#fde0ef"
            ],
            [
             0.5,
             "#f7f7f7"
            ],
            [
             0.6,
             "#e6f5d0"
            ],
            [
             0.7,
             "#b8e186"
            ],
            [
             0.8,
             "#7fbc41"
            ],
            [
             0.9,
             "#4d9221"
            ],
            [
             1,
             "#276419"
            ]
           ],
           "sequential": [
            [
             0,
             "#0d0887"
            ],
            [
             0.1111111111111111,
             "#46039f"
            ],
            [
             0.2222222222222222,
             "#7201a8"
            ],
            [
             0.3333333333333333,
             "#9c179e"
            ],
            [
             0.4444444444444444,
             "#bd3786"
            ],
            [
             0.5555555555555556,
             "#d8576b"
            ],
            [
             0.6666666666666666,
             "#ed7953"
            ],
            [
             0.7777777777777778,
             "#fb9f3a"
            ],
            [
             0.8888888888888888,
             "#fdca26"
            ],
            [
             1,
             "#f0f921"
            ]
           ],
           "sequentialminus": [
            [
             0,
             "#0d0887"
            ],
            [
             0.1111111111111111,
             "#46039f"
            ],
            [
             0.2222222222222222,
             "#7201a8"
            ],
            [
             0.3333333333333333,
             "#9c179e"
            ],
            [
             0.4444444444444444,
             "#bd3786"
            ],
            [
             0.5555555555555556,
             "#d8576b"
            ],
            [
             0.6666666666666666,
             "#ed7953"
            ],
            [
             0.7777777777777778,
             "#fb9f3a"
            ],
            [
             0.8888888888888888,
             "#fdca26"
            ],
            [
             1,
             "#f0f921"
            ]
           ]
          },
          "colorway": [
           "#636efa",
           "#EF553B",
           "#00cc96",
           "#ab63fa",
           "#FFA15A",
           "#19d3f3",
           "#FF6692",
           "#B6E880",
           "#FF97FF",
           "#FECB52"
          ],
          "font": {
           "color": "#2a3f5f"
          },
          "geo": {
           "bgcolor": "white",
           "lakecolor": "white",
           "landcolor": "#E5ECF6",
           "showlakes": true,
           "showland": true,
           "subunitcolor": "white"
          },
          "hoverlabel": {
           "align": "left"
          },
          "hovermode": "closest",
          "mapbox": {
           "style": "light"
          },
          "paper_bgcolor": "white",
          "plot_bgcolor": "#E5ECF6",
          "polar": {
           "angularaxis": {
            "gridcolor": "white",
            "linecolor": "white",
            "ticks": ""
           },
           "bgcolor": "#E5ECF6",
           "radialaxis": {
            "gridcolor": "white",
            "linecolor": "white",
            "ticks": ""
           }
          },
          "scene": {
           "xaxis": {
            "backgroundcolor": "#E5ECF6",
            "gridcolor": "white",
            "gridwidth": 2,
            "linecolor": "white",
            "showbackground": true,
            "ticks": "",
            "zerolinecolor": "white"
           },
           "yaxis": {
            "backgroundcolor": "#E5ECF6",
            "gridcolor": "white",
            "gridwidth": 2,
            "linecolor": "white",
            "showbackground": true,
            "ticks": "",
            "zerolinecolor": "white"
           },
           "zaxis": {
            "backgroundcolor": "#E5ECF6",
            "gridcolor": "white",
            "gridwidth": 2,
            "linecolor": "white",
            "showbackground": true,
            "ticks": "",
            "zerolinecolor": "white"
           }
          },
          "shapedefaults": {
           "line": {
            "color": "#2a3f5f"
           }
          },
          "ternary": {
           "aaxis": {
            "gridcolor": "white",
            "linecolor": "white",
            "ticks": ""
           },
           "baxis": {
            "gridcolor": "white",
            "linecolor": "white",
            "ticks": ""
           },
           "bgcolor": "#E5ECF6",
           "caxis": {
            "gridcolor": "white",
            "linecolor": "white",
            "ticks": ""
           }
          },
          "title": {
           "x": 0.05
          },
          "xaxis": {
           "automargin": true,
           "gridcolor": "white",
           "linecolor": "white",
           "ticks": "",
           "title": {
            "standoff": 15
           },
           "zerolinecolor": "white",
           "zerolinewidth": 2
          },
          "yaxis": {
           "automargin": true,
           "gridcolor": "white",
           "linecolor": "white",
           "ticks": "",
           "title": {
            "standoff": 15
           },
           "zerolinecolor": "white",
           "zerolinewidth": 2
          }
         }
        },
        "title": {
         "text": "Rating counts"
        },
        "xaxis": {
         "anchor": "y",
         "domain": [
          0,
          1
         ],
         "title": {
          "text": "Rating"
         }
        },
        "yaxis": {
         "anchor": "x",
         "domain": [
          0,
          1
         ],
         "title": {
          "text": "Count"
         }
        }
       }
      }
     },
     "metadata": {},
     "output_type": "display_data"
    }
   ],
   "source": [
    "print(ratings.head())\n",
    "ratings_distribution = ratings.groupby('Rating').count().reset_index(\"Rating\")\n",
    "ratings_distribution[\"Count\"] = ratings_distribution[\"UserID\"] # we can take a UserID, since we do not have any duplicates, that will be the count\n",
    "ratings_distribution = ratings_distribution[[\"Rating\", \"Count\"]]\n",
    "ratings_distribution\n",
    "\n",
    "fig = px.bar(ratings_distribution,\n",
    "        x=\"Rating\",\n",
    "        y=\"Count\",\n",
    "        title=\"Rating counts\")\n",
    "fig.show()"
   ]
  },
  {
   "cell_type": "code",
   "execution_count": 76,
   "id": "ad250a11",
   "metadata": {},
   "outputs": [
    {
     "name": "stdout",
     "output_type": "stream",
     "text": [
      "<class 'pandas.core.frame.DataFrame'>\n",
      "RangeIndex: 1000209 entries, 0 to 1000208\n",
      "Data columns (total 10 columns):\n",
      " #   Column      Non-Null Count    Dtype \n",
      "---  ------      --------------    ----- \n",
      " 0   UserID      1000209 non-null  int64 \n",
      " 1   MovieID     1000209 non-null  int64 \n",
      " 2   Rating      1000209 non-null  int64 \n",
      " 3   Timestamp   1000209 non-null  int64 \n",
      " 4   Gender      1000209 non-null  object\n",
      " 5   Age         1000209 non-null  int64 \n",
      " 6   Occupation  1000209 non-null  int64 \n",
      " 7   Zip-code    1000209 non-null  object\n",
      " 8   Title       1000209 non-null  object\n",
      " 9   Genres      1000209 non-null  object\n",
      "dtypes: int64(6), object(4)\n",
      "memory usage: 76.3+ MB\n"
     ]
    }
   ],
   "source": [
    "# lets combine the datasets to analyze the other questions\n",
    "df = ratings.merge(users, on=\"UserID\").merge(movies, on=\"MovieID\")\n",
    "df.info()"
   ]
  },
  {
   "cell_type": "code",
   "execution_count": 83,
   "id": "44cfe786",
   "metadata": {},
   "outputs": [
    {
     "data": {
      "application/vnd.plotly.v1+json": {
       "config": {
        "plotlyServerURL": "https://plot.ly"
       },
       "data": [
        {
         "hovertemplate": "Title=%{x}<br>Number of ratings=%{y}<extra></extra>",
         "legendgroup": "",
         "marker": {
          "color": "#636efa",
          "pattern": {
           "shape": ""
          }
         },
         "name": "",
         "orientation": "v",
         "showlegend": false,
         "textposition": "auto",
         "type": "bar",
         "x": [
          "American Beauty (1999)",
          "Star Wars: Episode IV - A New Hope (1977)",
          "Star Wars: Episode V - The Empire Strikes Back (1980)",
          "Star Wars: Episode VI - Return of the Jedi (1983)",
          "Jurassic Park (1993)",
          "Saving Private Ryan (1998)",
          "Terminator 2: Judgment Day (1991)",
          "Matrix, The (1999)",
          "Back to the Future (1985)",
          "Silence of the Lambs, The (1991)"
         ],
         "xaxis": "x",
         "y": {
          "bdata": "ZA2vC64LQwtwCl0KWQoeChcKEgo=",
          "dtype": "i2"
         },
         "yaxis": "y"
        }
       ],
       "layout": {
        "barmode": "relative",
        "legend": {
         "tracegroupgap": 0
        },
        "template": {
         "data": {
          "bar": [
           {
            "error_x": {
             "color": "#2a3f5f"
            },
            "error_y": {
             "color": "#2a3f5f"
            },
            "marker": {
             "line": {
              "color": "#E5ECF6",
              "width": 0.5
             },
             "pattern": {
              "fillmode": "overlay",
              "size": 10,
              "solidity": 0.2
             }
            },
            "type": "bar"
           }
          ],
          "barpolar": [
           {
            "marker": {
             "line": {
              "color": "#E5ECF6",
              "width": 0.5
             },
             "pattern": {
              "fillmode": "overlay",
              "size": 10,
              "solidity": 0.2
             }
            },
            "type": "barpolar"
           }
          ],
          "carpet": [
           {
            "aaxis": {
             "endlinecolor": "#2a3f5f",
             "gridcolor": "white",
             "linecolor": "white",
             "minorgridcolor": "white",
             "startlinecolor": "#2a3f5f"
            },
            "baxis": {
             "endlinecolor": "#2a3f5f",
             "gridcolor": "white",
             "linecolor": "white",
             "minorgridcolor": "white",
             "startlinecolor": "#2a3f5f"
            },
            "type": "carpet"
           }
          ],
          "choropleth": [
           {
            "colorbar": {
             "outlinewidth": 0,
             "ticks": ""
            },
            "type": "choropleth"
           }
          ],
          "contour": [
           {
            "colorbar": {
             "outlinewidth": 0,
             "ticks": ""
            },
            "colorscale": [
             [
              0,
              "#0d0887"
             ],
             [
              0.1111111111111111,
              "#46039f"
             ],
             [
              0.2222222222222222,
              "#7201a8"
             ],
             [
              0.3333333333333333,
              "#9c179e"
             ],
             [
              0.4444444444444444,
              "#bd3786"
             ],
             [
              0.5555555555555556,
              "#d8576b"
             ],
             [
              0.6666666666666666,
              "#ed7953"
             ],
             [
              0.7777777777777778,
              "#fb9f3a"
             ],
             [
              0.8888888888888888,
              "#fdca26"
             ],
             [
              1,
              "#f0f921"
             ]
            ],
            "type": "contour"
           }
          ],
          "contourcarpet": [
           {
            "colorbar": {
             "outlinewidth": 0,
             "ticks": ""
            },
            "type": "contourcarpet"
           }
          ],
          "heatmap": [
           {
            "colorbar": {
             "outlinewidth": 0,
             "ticks": ""
            },
            "colorscale": [
             [
              0,
              "#0d0887"
             ],
             [
              0.1111111111111111,
              "#46039f"
             ],
             [
              0.2222222222222222,
              "#7201a8"
             ],
             [
              0.3333333333333333,
              "#9c179e"
             ],
             [
              0.4444444444444444,
              "#bd3786"
             ],
             [
              0.5555555555555556,
              "#d8576b"
             ],
             [
              0.6666666666666666,
              "#ed7953"
             ],
             [
              0.7777777777777778,
              "#fb9f3a"
             ],
             [
              0.8888888888888888,
              "#fdca26"
             ],
             [
              1,
              "#f0f921"
             ]
            ],
            "type": "heatmap"
           }
          ],
          "histogram": [
           {
            "marker": {
             "pattern": {
              "fillmode": "overlay",
              "size": 10,
              "solidity": 0.2
             }
            },
            "type": "histogram"
           }
          ],
          "histogram2d": [
           {
            "colorbar": {
             "outlinewidth": 0,
             "ticks": ""
            },
            "colorscale": [
             [
              0,
              "#0d0887"
             ],
             [
              0.1111111111111111,
              "#46039f"
             ],
             [
              0.2222222222222222,
              "#7201a8"
             ],
             [
              0.3333333333333333,
              "#9c179e"
             ],
             [
              0.4444444444444444,
              "#bd3786"
             ],
             [
              0.5555555555555556,
              "#d8576b"
             ],
             [
              0.6666666666666666,
              "#ed7953"
             ],
             [
              0.7777777777777778,
              "#fb9f3a"
             ],
             [
              0.8888888888888888,
              "#fdca26"
             ],
             [
              1,
              "#f0f921"
             ]
            ],
            "type": "histogram2d"
           }
          ],
          "histogram2dcontour": [
           {
            "colorbar": {
             "outlinewidth": 0,
             "ticks": ""
            },
            "colorscale": [
             [
              0,
              "#0d0887"
             ],
             [
              0.1111111111111111,
              "#46039f"
             ],
             [
              0.2222222222222222,
              "#7201a8"
             ],
             [
              0.3333333333333333,
              "#9c179e"
             ],
             [
              0.4444444444444444,
              "#bd3786"
             ],
             [
              0.5555555555555556,
              "#d8576b"
             ],
             [
              0.6666666666666666,
              "#ed7953"
             ],
             [
              0.7777777777777778,
              "#fb9f3a"
             ],
             [
              0.8888888888888888,
              "#fdca26"
             ],
             [
              1,
              "#f0f921"
             ]
            ],
            "type": "histogram2dcontour"
           }
          ],
          "mesh3d": [
           {
            "colorbar": {
             "outlinewidth": 0,
             "ticks": ""
            },
            "type": "mesh3d"
           }
          ],
          "parcoords": [
           {
            "line": {
             "colorbar": {
              "outlinewidth": 0,
              "ticks": ""
             }
            },
            "type": "parcoords"
           }
          ],
          "pie": [
           {
            "automargin": true,
            "type": "pie"
           }
          ],
          "scatter": [
           {
            "fillpattern": {
             "fillmode": "overlay",
             "size": 10,
             "solidity": 0.2
            },
            "type": "scatter"
           }
          ],
          "scatter3d": [
           {
            "line": {
             "colorbar": {
              "outlinewidth": 0,
              "ticks": ""
             }
            },
            "marker": {
             "colorbar": {
              "outlinewidth": 0,
              "ticks": ""
             }
            },
            "type": "scatter3d"
           }
          ],
          "scattercarpet": [
           {
            "marker": {
             "colorbar": {
              "outlinewidth": 0,
              "ticks": ""
             }
            },
            "type": "scattercarpet"
           }
          ],
          "scattergeo": [
           {
            "marker": {
             "colorbar": {
              "outlinewidth": 0,
              "ticks": ""
             }
            },
            "type": "scattergeo"
           }
          ],
          "scattergl": [
           {
            "marker": {
             "colorbar": {
              "outlinewidth": 0,
              "ticks": ""
             }
            },
            "type": "scattergl"
           }
          ],
          "scattermap": [
           {
            "marker": {
             "colorbar": {
              "outlinewidth": 0,
              "ticks": ""
             }
            },
            "type": "scattermap"
           }
          ],
          "scattermapbox": [
           {
            "marker": {
             "colorbar": {
              "outlinewidth": 0,
              "ticks": ""
             }
            },
            "type": "scattermapbox"
           }
          ],
          "scatterpolar": [
           {
            "marker": {
             "colorbar": {
              "outlinewidth": 0,
              "ticks": ""
             }
            },
            "type": "scatterpolar"
           }
          ],
          "scatterpolargl": [
           {
            "marker": {
             "colorbar": {
              "outlinewidth": 0,
              "ticks": ""
             }
            },
            "type": "scatterpolargl"
           }
          ],
          "scatterternary": [
           {
            "marker": {
             "colorbar": {
              "outlinewidth": 0,
              "ticks": ""
             }
            },
            "type": "scatterternary"
           }
          ],
          "surface": [
           {
            "colorbar": {
             "outlinewidth": 0,
             "ticks": ""
            },
            "colorscale": [
             [
              0,
              "#0d0887"
             ],
             [
              0.1111111111111111,
              "#46039f"
             ],
             [
              0.2222222222222222,
              "#7201a8"
             ],
             [
              0.3333333333333333,
              "#9c179e"
             ],
             [
              0.4444444444444444,
              "#bd3786"
             ],
             [
              0.5555555555555556,
              "#d8576b"
             ],
             [
              0.6666666666666666,
              "#ed7953"
             ],
             [
              0.7777777777777778,
              "#fb9f3a"
             ],
             [
              0.8888888888888888,
              "#fdca26"
             ],
             [
              1,
              "#f0f921"
             ]
            ],
            "type": "surface"
           }
          ],
          "table": [
           {
            "cells": {
             "fill": {
              "color": "#EBF0F8"
             },
             "line": {
              "color": "white"
             }
            },
            "header": {
             "fill": {
              "color": "#C8D4E3"
             },
             "line": {
              "color": "white"
             }
            },
            "type": "table"
           }
          ]
         },
         "layout": {
          "annotationdefaults": {
           "arrowcolor": "#2a3f5f",
           "arrowhead": 0,
           "arrowwidth": 1
          },
          "autotypenumbers": "strict",
          "coloraxis": {
           "colorbar": {
            "outlinewidth": 0,
            "ticks": ""
           }
          },
          "colorscale": {
           "diverging": [
            [
             0,
             "#8e0152"
            ],
            [
             0.1,
             "#c51b7d"
            ],
            [
             0.2,
             "#de77ae"
            ],
            [
             0.3,
             "#f1b6da"
            ],
            [
             0.4,
             "#fde0ef"
            ],
            [
             0.5,
             "#f7f7f7"
            ],
            [
             0.6,
             "#e6f5d0"
            ],
            [
             0.7,
             "#b8e186"
            ],
            [
             0.8,
             "#7fbc41"
            ],
            [
             0.9,
             "#4d9221"
            ],
            [
             1,
             "#276419"
            ]
           ],
           "sequential": [
            [
             0,
             "#0d0887"
            ],
            [
             0.1111111111111111,
             "#46039f"
            ],
            [
             0.2222222222222222,
             "#7201a8"
            ],
            [
             0.3333333333333333,
             "#9c179e"
            ],
            [
             0.4444444444444444,
             "#bd3786"
            ],
            [
             0.5555555555555556,
             "#d8576b"
            ],
            [
             0.6666666666666666,
             "#ed7953"
            ],
            [
             0.7777777777777778,
             "#fb9f3a"
            ],
            [
             0.8888888888888888,
             "#fdca26"
            ],
            [
             1,
             "#f0f921"
            ]
           ],
           "sequentialminus": [
            [
             0,
             "#0d0887"
            ],
            [
             0.1111111111111111,
             "#46039f"
            ],
            [
             0.2222222222222222,
             "#7201a8"
            ],
            [
             0.3333333333333333,
             "#9c179e"
            ],
            [
             0.4444444444444444,
             "#bd3786"
            ],
            [
             0.5555555555555556,
             "#d8576b"
            ],
            [
             0.6666666666666666,
             "#ed7953"
            ],
            [
             0.7777777777777778,
             "#fb9f3a"
            ],
            [
             0.8888888888888888,
             "#fdca26"
            ],
            [
             1,
             "#f0f921"
            ]
           ]
          },
          "colorway": [
           "#636efa",
           "#EF553B",
           "#00cc96",
           "#ab63fa",
           "#FFA15A",
           "#19d3f3",
           "#FF6692",
           "#B6E880",
           "#FF97FF",
           "#FECB52"
          ],
          "font": {
           "color": "#2a3f5f"
          },
          "geo": {
           "bgcolor": "white",
           "lakecolor": "white",
           "landcolor": "#E5ECF6",
           "showlakes": true,
           "showland": true,
           "subunitcolor": "white"
          },
          "hoverlabel": {
           "align": "left"
          },
          "hovermode": "closest",
          "mapbox": {
           "style": "light"
          },
          "paper_bgcolor": "white",
          "plot_bgcolor": "#E5ECF6",
          "polar": {
           "angularaxis": {
            "gridcolor": "white",
            "linecolor": "white",
            "ticks": ""
           },
           "bgcolor": "#E5ECF6",
           "radialaxis": {
            "gridcolor": "white",
            "linecolor": "white",
            "ticks": ""
           }
          },
          "scene": {
           "xaxis": {
            "backgroundcolor": "#E5ECF6",
            "gridcolor": "white",
            "gridwidth": 2,
            "linecolor": "white",
            "showbackground": true,
            "ticks": "",
            "zerolinecolor": "white"
           },
           "yaxis": {
            "backgroundcolor": "#E5ECF6",
            "gridcolor": "white",
            "gridwidth": 2,
            "linecolor": "white",
            "showbackground": true,
            "ticks": "",
            "zerolinecolor": "white"
           },
           "zaxis": {
            "backgroundcolor": "#E5ECF6",
            "gridcolor": "white",
            "gridwidth": 2,
            "linecolor": "white",
            "showbackground": true,
            "ticks": "",
            "zerolinecolor": "white"
           }
          },
          "shapedefaults": {
           "line": {
            "color": "#2a3f5f"
           }
          },
          "ternary": {
           "aaxis": {
            "gridcolor": "white",
            "linecolor": "white",
            "ticks": ""
           },
           "baxis": {
            "gridcolor": "white",
            "linecolor": "white",
            "ticks": ""
           },
           "bgcolor": "#E5ECF6",
           "caxis": {
            "gridcolor": "white",
            "linecolor": "white",
            "ticks": ""
           }
          },
          "title": {
           "x": 0.05
          },
          "xaxis": {
           "automargin": true,
           "gridcolor": "white",
           "linecolor": "white",
           "ticks": "",
           "title": {
            "standoff": 15
           },
           "zerolinecolor": "white",
           "zerolinewidth": 2
          },
          "yaxis": {
           "automargin": true,
           "gridcolor": "white",
           "linecolor": "white",
           "ticks": "",
           "title": {
            "standoff": 15
           },
           "zerolinecolor": "white",
           "zerolinewidth": 2
          }
         }
        },
        "title": {
         "text": "Top 10 most rated movies"
        },
        "xaxis": {
         "anchor": "y",
         "domain": [
          0,
          1
         ],
         "title": {
          "text": "Title"
         }
        },
        "yaxis": {
         "anchor": "x",
         "domain": [
          0,
          1
         ],
         "title": {
          "text": "Number of ratings"
         }
        }
       }
      }
     },
     "metadata": {},
     "output_type": "display_data"
    }
   ],
   "source": [
    "top_most_rated = df[\"Title\"].value_counts()[:10]\n",
    "fig = px.bar(\n",
    "    top_most_rated,\n",
    "    x=top_most_rated.index,\n",
    "    y=top_most_rated.values,\n",
    "    title=\"Top 10 most rated movies\",\n",
    "    labels={\"x\": \"Title\", \"y\": \"Number of ratings\"},\n",
    ")\n",
    "fig.show()"
   ]
  },
  {
   "cell_type": "code",
   "execution_count": 106,
   "id": "033ccf96",
   "metadata": {},
   "outputs": [
    {
     "data": {
      "application/vnd.plotly.v1+json": {
       "config": {
        "plotlyServerURL": "https://plot.ly"
       },
       "data": [
        {
         "hovertemplate": "Title=%{x}<br>Average rating=%{y}<extra></extra>",
         "legendgroup": "",
         "marker": {
          "color": "#636efa",
          "pattern": {
           "shape": ""
          }
         },
         "name": "",
         "orientation": "v",
         "showlegend": false,
         "textposition": "auto",
         "type": "bar",
         "x": [
          "Ulysses (Ulisse) (1954)",
          "Lured (1947)",
          "Follow the Bitch (1998)",
          "Bittersweet Motel (2000)",
          "Song of Freedom (1936)",
          "One Little Indian (1973)",
          "Smashing Time (1967)",
          "Schlafes Bruder (Brother of Sleep) (1995)",
          "Gate of Heavenly Peace, The (1995)",
          "Baby, The (1973)"
         ],
         "xaxis": "x",
         "y": {
          "bdata": "AAAAAAAAFEAAAAAAAAAUQAAAAAAAABRAAAAAAAAAFEAAAAAAAAAUQAAAAAAAABRAAAAAAAAAFEAAAAAAAAAUQAAAAAAAABRAAAAAAAAAFEA=",
          "dtype": "f8"
         },
         "yaxis": "y"
        }
       ],
       "layout": {
        "barmode": "relative",
        "legend": {
         "tracegroupgap": 0
        },
        "template": {
         "data": {
          "bar": [
           {
            "error_x": {
             "color": "#2a3f5f"
            },
            "error_y": {
             "color": "#2a3f5f"
            },
            "marker": {
             "line": {
              "color": "#E5ECF6",
              "width": 0.5
             },
             "pattern": {
              "fillmode": "overlay",
              "size": 10,
              "solidity": 0.2
             }
            },
            "type": "bar"
           }
          ],
          "barpolar": [
           {
            "marker": {
             "line": {
              "color": "#E5ECF6",
              "width": 0.5
             },
             "pattern": {
              "fillmode": "overlay",
              "size": 10,
              "solidity": 0.2
             }
            },
            "type": "barpolar"
           }
          ],
          "carpet": [
           {
            "aaxis": {
             "endlinecolor": "#2a3f5f",
             "gridcolor": "white",
             "linecolor": "white",
             "minorgridcolor": "white",
             "startlinecolor": "#2a3f5f"
            },
            "baxis": {
             "endlinecolor": "#2a3f5f",
             "gridcolor": "white",
             "linecolor": "white",
             "minorgridcolor": "white",
             "startlinecolor": "#2a3f5f"
            },
            "type": "carpet"
           }
          ],
          "choropleth": [
           {
            "colorbar": {
             "outlinewidth": 0,
             "ticks": ""
            },
            "type": "choropleth"
           }
          ],
          "contour": [
           {
            "colorbar": {
             "outlinewidth": 0,
             "ticks": ""
            },
            "colorscale": [
             [
              0,
              "#0d0887"
             ],
             [
              0.1111111111111111,
              "#46039f"
             ],
             [
              0.2222222222222222,
              "#7201a8"
             ],
             [
              0.3333333333333333,
              "#9c179e"
             ],
             [
              0.4444444444444444,
              "#bd3786"
             ],
             [
              0.5555555555555556,
              "#d8576b"
             ],
             [
              0.6666666666666666,
              "#ed7953"
             ],
             [
              0.7777777777777778,
              "#fb9f3a"
             ],
             [
              0.8888888888888888,
              "#fdca26"
             ],
             [
              1,
              "#f0f921"
             ]
            ],
            "type": "contour"
           }
          ],
          "contourcarpet": [
           {
            "colorbar": {
             "outlinewidth": 0,
             "ticks": ""
            },
            "type": "contourcarpet"
           }
          ],
          "heatmap": [
           {
            "colorbar": {
             "outlinewidth": 0,
             "ticks": ""
            },
            "colorscale": [
             [
              0,
              "#0d0887"
             ],
             [
              0.1111111111111111,
              "#46039f"
             ],
             [
              0.2222222222222222,
              "#7201a8"
             ],
             [
              0.3333333333333333,
              "#9c179e"
             ],
             [
              0.4444444444444444,
              "#bd3786"
             ],
             [
              0.5555555555555556,
              "#d8576b"
             ],
             [
              0.6666666666666666,
              "#ed7953"
             ],
             [
              0.7777777777777778,
              "#fb9f3a"
             ],
             [
              0.8888888888888888,
              "#fdca26"
             ],
             [
              1,
              "#f0f921"
             ]
            ],
            "type": "heatmap"
           }
          ],
          "histogram": [
           {
            "marker": {
             "pattern": {
              "fillmode": "overlay",
              "size": 10,
              "solidity": 0.2
             }
            },
            "type": "histogram"
           }
          ],
          "histogram2d": [
           {
            "colorbar": {
             "outlinewidth": 0,
             "ticks": ""
            },
            "colorscale": [
             [
              0,
              "#0d0887"
             ],
             [
              0.1111111111111111,
              "#46039f"
             ],
             [
              0.2222222222222222,
              "#7201a8"
             ],
             [
              0.3333333333333333,
              "#9c179e"
             ],
             [
              0.4444444444444444,
              "#bd3786"
             ],
             [
              0.5555555555555556,
              "#d8576b"
             ],
             [
              0.6666666666666666,
              "#ed7953"
             ],
             [
              0.7777777777777778,
              "#fb9f3a"
             ],
             [
              0.8888888888888888,
              "#fdca26"
             ],
             [
              1,
              "#f0f921"
             ]
            ],
            "type": "histogram2d"
           }
          ],
          "histogram2dcontour": [
           {
            "colorbar": {
             "outlinewidth": 0,
             "ticks": ""
            },
            "colorscale": [
             [
              0,
              "#0d0887"
             ],
             [
              0.1111111111111111,
              "#46039f"
             ],
             [
              0.2222222222222222,
              "#7201a8"
             ],
             [
              0.3333333333333333,
              "#9c179e"
             ],
             [
              0.4444444444444444,
              "#bd3786"
             ],
             [
              0.5555555555555556,
              "#d8576b"
             ],
             [
              0.6666666666666666,
              "#ed7953"
             ],
             [
              0.7777777777777778,
              "#fb9f3a"
             ],
             [
              0.8888888888888888,
              "#fdca26"
             ],
             [
              1,
              "#f0f921"
             ]
            ],
            "type": "histogram2dcontour"
           }
          ],
          "mesh3d": [
           {
            "colorbar": {
             "outlinewidth": 0,
             "ticks": ""
            },
            "type": "mesh3d"
           }
          ],
          "parcoords": [
           {
            "line": {
             "colorbar": {
              "outlinewidth": 0,
              "ticks": ""
             }
            },
            "type": "parcoords"
           }
          ],
          "pie": [
           {
            "automargin": true,
            "type": "pie"
           }
          ],
          "scatter": [
           {
            "fillpattern": {
             "fillmode": "overlay",
             "size": 10,
             "solidity": 0.2
            },
            "type": "scatter"
           }
          ],
          "scatter3d": [
           {
            "line": {
             "colorbar": {
              "outlinewidth": 0,
              "ticks": ""
             }
            },
            "marker": {
             "colorbar": {
              "outlinewidth": 0,
              "ticks": ""
             }
            },
            "type": "scatter3d"
           }
          ],
          "scattercarpet": [
           {
            "marker": {
             "colorbar": {
              "outlinewidth": 0,
              "ticks": ""
             }
            },
            "type": "scattercarpet"
           }
          ],
          "scattergeo": [
           {
            "marker": {
             "colorbar": {
              "outlinewidth": 0,
              "ticks": ""
             }
            },
            "type": "scattergeo"
           }
          ],
          "scattergl": [
           {
            "marker": {
             "colorbar": {
              "outlinewidth": 0,
              "ticks": ""
             }
            },
            "type": "scattergl"
           }
          ],
          "scattermap": [
           {
            "marker": {
             "colorbar": {
              "outlinewidth": 0,
              "ticks": ""
             }
            },
            "type": "scattermap"
           }
          ],
          "scattermapbox": [
           {
            "marker": {
             "colorbar": {
              "outlinewidth": 0,
              "ticks": ""
             }
            },
            "type": "scattermapbox"
           }
          ],
          "scatterpolar": [
           {
            "marker": {
             "colorbar": {
              "outlinewidth": 0,
              "ticks": ""
             }
            },
            "type": "scatterpolar"
           }
          ],
          "scatterpolargl": [
           {
            "marker": {
             "colorbar": {
              "outlinewidth": 0,
              "ticks": ""
             }
            },
            "type": "scatterpolargl"
           }
          ],
          "scatterternary": [
           {
            "marker": {
             "colorbar": {
              "outlinewidth": 0,
              "ticks": ""
             }
            },
            "type": "scatterternary"
           }
          ],
          "surface": [
           {
            "colorbar": {
             "outlinewidth": 0,
             "ticks": ""
            },
            "colorscale": [
             [
              0,
              "#0d0887"
             ],
             [
              0.1111111111111111,
              "#46039f"
             ],
             [
              0.2222222222222222,
              "#7201a8"
             ],
             [
              0.3333333333333333,
              "#9c179e"
             ],
             [
              0.4444444444444444,
              "#bd3786"
             ],
             [
              0.5555555555555556,
              "#d8576b"
             ],
             [
              0.6666666666666666,
              "#ed7953"
             ],
             [
              0.7777777777777778,
              "#fb9f3a"
             ],
             [
              0.8888888888888888,
              "#fdca26"
             ],
             [
              1,
              "#f0f921"
             ]
            ],
            "type": "surface"
           }
          ],
          "table": [
           {
            "cells": {
             "fill": {
              "color": "#EBF0F8"
             },
             "line": {
              "color": "white"
             }
            },
            "header": {
             "fill": {
              "color": "#C8D4E3"
             },
             "line": {
              "color": "white"
             }
            },
            "type": "table"
           }
          ]
         },
         "layout": {
          "annotationdefaults": {
           "arrowcolor": "#2a3f5f",
           "arrowhead": 0,
           "arrowwidth": 1
          },
          "autotypenumbers": "strict",
          "coloraxis": {
           "colorbar": {
            "outlinewidth": 0,
            "ticks": ""
           }
          },
          "colorscale": {
           "diverging": [
            [
             0,
             "#8e0152"
            ],
            [
             0.1,
             "#c51b7d"
            ],
            [
             0.2,
             "#de77ae"
            ],
            [
             0.3,
             "#f1b6da"
            ],
            [
             0.4,
             "#fde0ef"
            ],
            [
             0.5,
             "#f7f7f7"
            ],
            [
             0.6,
             "#e6f5d0"
            ],
            [
             0.7,
             "#b8e186"
            ],
            [
             0.8,
             "#7fbc41"
            ],
            [
             0.9,
             "#4d9221"
            ],
            [
             1,
             "#276419"
            ]
           ],
           "sequential": [
            [
             0,
             "#0d0887"
            ],
            [
             0.1111111111111111,
             "#46039f"
            ],
            [
             0.2222222222222222,
             "#7201a8"
            ],
            [
             0.3333333333333333,
             "#9c179e"
            ],
            [
             0.4444444444444444,
             "#bd3786"
            ],
            [
             0.5555555555555556,
             "#d8576b"
            ],
            [
             0.6666666666666666,
             "#ed7953"
            ],
            [
             0.7777777777777778,
             "#fb9f3a"
            ],
            [
             0.8888888888888888,
             "#fdca26"
            ],
            [
             1,
             "#f0f921"
            ]
           ],
           "sequentialminus": [
            [
             0,
             "#0d0887"
            ],
            [
             0.1111111111111111,
             "#46039f"
            ],
            [
             0.2222222222222222,
             "#7201a8"
            ],
            [
             0.3333333333333333,
             "#9c179e"
            ],
            [
             0.4444444444444444,
             "#bd3786"
            ],
            [
             0.5555555555555556,
             "#d8576b"
            ],
            [
             0.6666666666666666,
             "#ed7953"
            ],
            [
             0.7777777777777778,
             "#fb9f3a"
            ],
            [
             0.8888888888888888,
             "#fdca26"
            ],
            [
             1,
             "#f0f921"
            ]
           ]
          },
          "colorway": [
           "#636efa",
           "#EF553B",
           "#00cc96",
           "#ab63fa",
           "#FFA15A",
           "#19d3f3",
           "#FF6692",
           "#B6E880",
           "#FF97FF",
           "#FECB52"
          ],
          "font": {
           "color": "#2a3f5f"
          },
          "geo": {
           "bgcolor": "white",
           "lakecolor": "white",
           "landcolor": "#E5ECF6",
           "showlakes": true,
           "showland": true,
           "subunitcolor": "white"
          },
          "hoverlabel": {
           "align": "left"
          },
          "hovermode": "closest",
          "mapbox": {
           "style": "light"
          },
          "paper_bgcolor": "white",
          "plot_bgcolor": "#E5ECF6",
          "polar": {
           "angularaxis": {
            "gridcolor": "white",
            "linecolor": "white",
            "ticks": ""
           },
           "bgcolor": "#E5ECF6",
           "radialaxis": {
            "gridcolor": "white",
            "linecolor": "white",
            "ticks": ""
           }
          },
          "scene": {
           "xaxis": {
            "backgroundcolor": "#E5ECF6",
            "gridcolor": "white",
            "gridwidth": 2,
            "linecolor": "white",
            "showbackground": true,
            "ticks": "",
            "zerolinecolor": "white"
           },
           "yaxis": {
            "backgroundcolor": "#E5ECF6",
            "gridcolor": "white",
            "gridwidth": 2,
            "linecolor": "white",
            "showbackground": true,
            "ticks": "",
            "zerolinecolor": "white"
           },
           "zaxis": {
            "backgroundcolor": "#E5ECF6",
            "gridcolor": "white",
            "gridwidth": 2,
            "linecolor": "white",
            "showbackground": true,
            "ticks": "",
            "zerolinecolor": "white"
           }
          },
          "shapedefaults": {
           "line": {
            "color": "#2a3f5f"
           }
          },
          "ternary": {
           "aaxis": {
            "gridcolor": "white",
            "linecolor": "white",
            "ticks": ""
           },
           "baxis": {
            "gridcolor": "white",
            "linecolor": "white",
            "ticks": ""
           },
           "bgcolor": "#E5ECF6",
           "caxis": {
            "gridcolor": "white",
            "linecolor": "white",
            "ticks": ""
           }
          },
          "title": {
           "x": 0.05
          },
          "xaxis": {
           "automargin": true,
           "gridcolor": "white",
           "linecolor": "white",
           "ticks": "",
           "title": {
            "standoff": 15
           },
           "zerolinecolor": "white",
           "zerolinewidth": 2
          },
          "yaxis": {
           "automargin": true,
           "gridcolor": "white",
           "linecolor": "white",
           "ticks": "",
           "title": {
            "standoff": 15
           },
           "zerolinecolor": "white",
           "zerolinewidth": 2
          }
         }
        },
        "title": {
         "text": "Top 10 highest rated movies"
        },
        "xaxis": {
         "anchor": "y",
         "domain": [
          0,
          1
         ],
         "title": {
          "text": "Title"
         }
        },
        "yaxis": {
         "anchor": "x",
         "domain": [
          0,
          1
         ],
         "title": {
          "text": "Average rating"
         }
        }
       }
      }
     },
     "metadata": {},
     "output_type": "display_data"
    }
   ],
   "source": [
    "movie_ratings = df.groupby('Title')['Rating'].agg(['mean', 'count'])\n",
    "\n",
    "highest_rated_movies = movie_ratings.sort_values(by='mean', ascending=False)\n",
    "top_highest_rated_movies = highest_rated_movies.head(10)\n",
    "\n",
    "fig = px.bar(\n",
    "    x=top_highest_rated_movies.index,\n",
    "    y=top_highest_rated_movies[\"mean\"],\n",
    "    title=\"Top 10 highest rated movies\",\n",
    "    labels={\"x\": \"Title\", \"y\": \"Average rating\"},\n",
    ")\n",
    "fig.show()"
   ]
  },
  {
   "cell_type": "markdown",
   "id": "cf36b0d6",
   "metadata": {},
   "source": [
    "Since we get movies that only have 1 rating into the highest rated movies statistic, we'll change it up a bit. Let's  see the top highest rated movies that have at least 10 reviews."
   ]
  },
  {
   "cell_type": "code",
   "execution_count": 107,
   "id": "9cf4474c",
   "metadata": {},
   "outputs": [
    {
     "data": {
      "application/vnd.plotly.v1+json": {
       "config": {
        "plotlyServerURL": "https://plot.ly"
       },
       "data": [
        {
         "hovertemplate": "Title=%{x}<br>Average rating=%{y}<extra></extra>",
         "legendgroup": "",
         "marker": {
          "color": "#636efa",
          "pattern": {
           "shape": ""
          }
         },
         "name": "",
         "orientation": "v",
         "showlegend": false,
         "text": {
          "bdata": "AAAAAABAUUAAAAAAAKCDQAAAAAAAZqFAAAAAAABeoUAAAAAAAIiEQAAAAAAA3JtAAAAAAAAAokAAAAAAAJCLQAAAAAAAYH1AAAAAAACko0A=",
          "dtype": "f8"
         },
         "textposition": "auto",
         "type": "bar",
         "x": [
          "Sanjuro (1962)",
          "Seven Samurai (The Magnificent Seven) (Shichinin no samurai) (1954)",
          "Shawshank Redemption, The (1994)",
          "Godfather, The (1972)",
          "Close Shave, A (1995)",
          "Usual Suspects, The (1995)",
          "Schindler's List (1993)",
          "Wrong Trousers, The (1993)",
          "Sunset Blvd. (a.k.a. Sunset Boulevard) (1950)",
          "Raiders of the Lost Ark (1981)"
         ],
         "xaxis": "x",
         "y": {
          "bdata": "pze96U1vEkBygnA39j0SQBkuVfndNxJAmeF3wZAZEkBRoUKFChUSQEGITTyEERJAq6qqqqoKEkCCIAiCIAgSQMZeu/xI9xFA9gi0rDDpEUA=",
          "dtype": "f8"
         },
         "yaxis": "y"
        }
       ],
       "layout": {
        "barmode": "relative",
        "legend": {
         "tracegroupgap": 0
        },
        "template": {
         "data": {
          "bar": [
           {
            "error_x": {
             "color": "#2a3f5f"
            },
            "error_y": {
             "color": "#2a3f5f"
            },
            "marker": {
             "line": {
              "color": "#E5ECF6",
              "width": 0.5
             },
             "pattern": {
              "fillmode": "overlay",
              "size": 10,
              "solidity": 0.2
             }
            },
            "type": "bar"
           }
          ],
          "barpolar": [
           {
            "marker": {
             "line": {
              "color": "#E5ECF6",
              "width": 0.5
             },
             "pattern": {
              "fillmode": "overlay",
              "size": 10,
              "solidity": 0.2
             }
            },
            "type": "barpolar"
           }
          ],
          "carpet": [
           {
            "aaxis": {
             "endlinecolor": "#2a3f5f",
             "gridcolor": "white",
             "linecolor": "white",
             "minorgridcolor": "white",
             "startlinecolor": "#2a3f5f"
            },
            "baxis": {
             "endlinecolor": "#2a3f5f",
             "gridcolor": "white",
             "linecolor": "white",
             "minorgridcolor": "white",
             "startlinecolor": "#2a3f5f"
            },
            "type": "carpet"
           }
          ],
          "choropleth": [
           {
            "colorbar": {
             "outlinewidth": 0,
             "ticks": ""
            },
            "type": "choropleth"
           }
          ],
          "contour": [
           {
            "colorbar": {
             "outlinewidth": 0,
             "ticks": ""
            },
            "colorscale": [
             [
              0,
              "#0d0887"
             ],
             [
              0.1111111111111111,
              "#46039f"
             ],
             [
              0.2222222222222222,
              "#7201a8"
             ],
             [
              0.3333333333333333,
              "#9c179e"
             ],
             [
              0.4444444444444444,
              "#bd3786"
             ],
             [
              0.5555555555555556,
              "#d8576b"
             ],
             [
              0.6666666666666666,
              "#ed7953"
             ],
             [
              0.7777777777777778,
              "#fb9f3a"
             ],
             [
              0.8888888888888888,
              "#fdca26"
             ],
             [
              1,
              "#f0f921"
             ]
            ],
            "type": "contour"
           }
          ],
          "contourcarpet": [
           {
            "colorbar": {
             "outlinewidth": 0,
             "ticks": ""
            },
            "type": "contourcarpet"
           }
          ],
          "heatmap": [
           {
            "colorbar": {
             "outlinewidth": 0,
             "ticks": ""
            },
            "colorscale": [
             [
              0,
              "#0d0887"
             ],
             [
              0.1111111111111111,
              "#46039f"
             ],
             [
              0.2222222222222222,
              "#7201a8"
             ],
             [
              0.3333333333333333,
              "#9c179e"
             ],
             [
              0.4444444444444444,
              "#bd3786"
             ],
             [
              0.5555555555555556,
              "#d8576b"
             ],
             [
              0.6666666666666666,
              "#ed7953"
             ],
             [
              0.7777777777777778,
              "#fb9f3a"
             ],
             [
              0.8888888888888888,
              "#fdca26"
             ],
             [
              1,
              "#f0f921"
             ]
            ],
            "type": "heatmap"
           }
          ],
          "histogram": [
           {
            "marker": {
             "pattern": {
              "fillmode": "overlay",
              "size": 10,
              "solidity": 0.2
             }
            },
            "type": "histogram"
           }
          ],
          "histogram2d": [
           {
            "colorbar": {
             "outlinewidth": 0,
             "ticks": ""
            },
            "colorscale": [
             [
              0,
              "#0d0887"
             ],
             [
              0.1111111111111111,
              "#46039f"
             ],
             [
              0.2222222222222222,
              "#7201a8"
             ],
             [
              0.3333333333333333,
              "#9c179e"
             ],
             [
              0.4444444444444444,
              "#bd3786"
             ],
             [
              0.5555555555555556,
              "#d8576b"
             ],
             [
              0.6666666666666666,
              "#ed7953"
             ],
             [
              0.7777777777777778,
              "#fb9f3a"
             ],
             [
              0.8888888888888888,
              "#fdca26"
             ],
             [
              1,
              "#f0f921"
             ]
            ],
            "type": "histogram2d"
           }
          ],
          "histogram2dcontour": [
           {
            "colorbar": {
             "outlinewidth": 0,
             "ticks": ""
            },
            "colorscale": [
             [
              0,
              "#0d0887"
             ],
             [
              0.1111111111111111,
              "#46039f"
             ],
             [
              0.2222222222222222,
              "#7201a8"
             ],
             [
              0.3333333333333333,
              "#9c179e"
             ],
             [
              0.4444444444444444,
              "#bd3786"
             ],
             [
              0.5555555555555556,
              "#d8576b"
             ],
             [
              0.6666666666666666,
              "#ed7953"
             ],
             [
              0.7777777777777778,
              "#fb9f3a"
             ],
             [
              0.8888888888888888,
              "#fdca26"
             ],
             [
              1,
              "#f0f921"
             ]
            ],
            "type": "histogram2dcontour"
           }
          ],
          "mesh3d": [
           {
            "colorbar": {
             "outlinewidth": 0,
             "ticks": ""
            },
            "type": "mesh3d"
           }
          ],
          "parcoords": [
           {
            "line": {
             "colorbar": {
              "outlinewidth": 0,
              "ticks": ""
             }
            },
            "type": "parcoords"
           }
          ],
          "pie": [
           {
            "automargin": true,
            "type": "pie"
           }
          ],
          "scatter": [
           {
            "fillpattern": {
             "fillmode": "overlay",
             "size": 10,
             "solidity": 0.2
            },
            "type": "scatter"
           }
          ],
          "scatter3d": [
           {
            "line": {
             "colorbar": {
              "outlinewidth": 0,
              "ticks": ""
             }
            },
            "marker": {
             "colorbar": {
              "outlinewidth": 0,
              "ticks": ""
             }
            },
            "type": "scatter3d"
           }
          ],
          "scattercarpet": [
           {
            "marker": {
             "colorbar": {
              "outlinewidth": 0,
              "ticks": ""
             }
            },
            "type": "scattercarpet"
           }
          ],
          "scattergeo": [
           {
            "marker": {
             "colorbar": {
              "outlinewidth": 0,
              "ticks": ""
             }
            },
            "type": "scattergeo"
           }
          ],
          "scattergl": [
           {
            "marker": {
             "colorbar": {
              "outlinewidth": 0,
              "ticks": ""
             }
            },
            "type": "scattergl"
           }
          ],
          "scattermap": [
           {
            "marker": {
             "colorbar": {
              "outlinewidth": 0,
              "ticks": ""
             }
            },
            "type": "scattermap"
           }
          ],
          "scattermapbox": [
           {
            "marker": {
             "colorbar": {
              "outlinewidth": 0,
              "ticks": ""
             }
            },
            "type": "scattermapbox"
           }
          ],
          "scatterpolar": [
           {
            "marker": {
             "colorbar": {
              "outlinewidth": 0,
              "ticks": ""
             }
            },
            "type": "scatterpolar"
           }
          ],
          "scatterpolargl": [
           {
            "marker": {
             "colorbar": {
              "outlinewidth": 0,
              "ticks": ""
             }
            },
            "type": "scatterpolargl"
           }
          ],
          "scatterternary": [
           {
            "marker": {
             "colorbar": {
              "outlinewidth": 0,
              "ticks": ""
             }
            },
            "type": "scatterternary"
           }
          ],
          "surface": [
           {
            "colorbar": {
             "outlinewidth": 0,
             "ticks": ""
            },
            "colorscale": [
             [
              0,
              "#0d0887"
             ],
             [
              0.1111111111111111,
              "#46039f"
             ],
             [
              0.2222222222222222,
              "#7201a8"
             ],
             [
              0.3333333333333333,
              "#9c179e"
             ],
             [
              0.4444444444444444,
              "#bd3786"
             ],
             [
              0.5555555555555556,
              "#d8576b"
             ],
             [
              0.6666666666666666,
              "#ed7953"
             ],
             [
              0.7777777777777778,
              "#fb9f3a"
             ],
             [
              0.8888888888888888,
              "#fdca26"
             ],
             [
              1,
              "#f0f921"
             ]
            ],
            "type": "surface"
           }
          ],
          "table": [
           {
            "cells": {
             "fill": {
              "color": "#EBF0F8"
             },
             "line": {
              "color": "white"
             }
            },
            "header": {
             "fill": {
              "color": "#C8D4E3"
             },
             "line": {
              "color": "white"
             }
            },
            "type": "table"
           }
          ]
         },
         "layout": {
          "annotationdefaults": {
           "arrowcolor": "#2a3f5f",
           "arrowhead": 0,
           "arrowwidth": 1
          },
          "autotypenumbers": "strict",
          "coloraxis": {
           "colorbar": {
            "outlinewidth": 0,
            "ticks": ""
           }
          },
          "colorscale": {
           "diverging": [
            [
             0,
             "#8e0152"
            ],
            [
             0.1,
             "#c51b7d"
            ],
            [
             0.2,
             "#de77ae"
            ],
            [
             0.3,
             "#f1b6da"
            ],
            [
             0.4,
             "#fde0ef"
            ],
            [
             0.5,
             "#f7f7f7"
            ],
            [
             0.6,
             "#e6f5d0"
            ],
            [
             0.7,
             "#b8e186"
            ],
            [
             0.8,
             "#7fbc41"
            ],
            [
             0.9,
             "#4d9221"
            ],
            [
             1,
             "#276419"
            ]
           ],
           "sequential": [
            [
             0,
             "#0d0887"
            ],
            [
             0.1111111111111111,
             "#46039f"
            ],
            [
             0.2222222222222222,
             "#7201a8"
            ],
            [
             0.3333333333333333,
             "#9c179e"
            ],
            [
             0.4444444444444444,
             "#bd3786"
            ],
            [
             0.5555555555555556,
             "#d8576b"
            ],
            [
             0.6666666666666666,
             "#ed7953"
            ],
            [
             0.7777777777777778,
             "#fb9f3a"
            ],
            [
             0.8888888888888888,
             "#fdca26"
            ],
            [
             1,
             "#f0f921"
            ]
           ],
           "sequentialminus": [
            [
             0,
             "#0d0887"
            ],
            [
             0.1111111111111111,
             "#46039f"
            ],
            [
             0.2222222222222222,
             "#7201a8"
            ],
            [
             0.3333333333333333,
             "#9c179e"
            ],
            [
             0.4444444444444444,
             "#bd3786"
            ],
            [
             0.5555555555555556,
             "#d8576b"
            ],
            [
             0.6666666666666666,
             "#ed7953"
            ],
            [
             0.7777777777777778,
             "#fb9f3a"
            ],
            [
             0.8888888888888888,
             "#fdca26"
            ],
            [
             1,
             "#f0f921"
            ]
           ]
          },
          "colorway": [
           "#636efa",
           "#EF553B",
           "#00cc96",
           "#ab63fa",
           "#FFA15A",
           "#19d3f3",
           "#FF6692",
           "#B6E880",
           "#FF97FF",
           "#FECB52"
          ],
          "font": {
           "color": "#2a3f5f"
          },
          "geo": {
           "bgcolor": "white",
           "lakecolor": "white",
           "landcolor": "#E5ECF6",
           "showlakes": true,
           "showland": true,
           "subunitcolor": "white"
          },
          "hoverlabel": {
           "align": "left"
          },
          "hovermode": "closest",
          "mapbox": {
           "style": "light"
          },
          "paper_bgcolor": "white",
          "plot_bgcolor": "#E5ECF6",
          "polar": {
           "angularaxis": {
            "gridcolor": "white",
            "linecolor": "white",
            "ticks": ""
           },
           "bgcolor": "#E5ECF6",
           "radialaxis": {
            "gridcolor": "white",
            "linecolor": "white",
            "ticks": ""
           }
          },
          "scene": {
           "xaxis": {
            "backgroundcolor": "#E5ECF6",
            "gridcolor": "white",
            "gridwidth": 2,
            "linecolor": "white",
            "showbackground": true,
            "ticks": "",
            "zerolinecolor": "white"
           },
           "yaxis": {
            "backgroundcolor": "#E5ECF6",
            "gridcolor": "white",
            "gridwidth": 2,
            "linecolor": "white",
            "showbackground": true,
            "ticks": "",
            "zerolinecolor": "white"
           },
           "zaxis": {
            "backgroundcolor": "#E5ECF6",
            "gridcolor": "white",
            "gridwidth": 2,
            "linecolor": "white",
            "showbackground": true,
            "ticks": "",
            "zerolinecolor": "white"
           }
          },
          "shapedefaults": {
           "line": {
            "color": "#2a3f5f"
           }
          },
          "ternary": {
           "aaxis": {
            "gridcolor": "white",
            "linecolor": "white",
            "ticks": ""
           },
           "baxis": {
            "gridcolor": "white",
            "linecolor": "white",
            "ticks": ""
           },
           "bgcolor": "#E5ECF6",
           "caxis": {
            "gridcolor": "white",
            "linecolor": "white",
            "ticks": ""
           }
          },
          "title": {
           "x": 0.05
          },
          "xaxis": {
           "automargin": true,
           "gridcolor": "white",
           "linecolor": "white",
           "ticks": "",
           "title": {
            "standoff": 15
           },
           "zerolinecolor": "white",
           "zerolinewidth": 2
          },
          "yaxis": {
           "automargin": true,
           "gridcolor": "white",
           "linecolor": "white",
           "ticks": "",
           "title": {
            "standoff": 15
           },
           "zerolinecolor": "white",
           "zerolinewidth": 2
          }
         }
        },
        "title": {
         "text": "Top 10 highest rated movies with at least 10 reviews (rating count inside the bars)"
        },
        "xaxis": {
         "anchor": "y",
         "domain": [
          0,
          1
         ],
         "title": {
          "text": "Title"
         }
        },
        "yaxis": {
         "anchor": "x",
         "domain": [
          0,
          1
         ],
         "title": {
          "text": "Average rating"
         }
        }
       }
      }
     },
     "metadata": {},
     "output_type": "display_data"
    }
   ],
   "source": [
    "movie_ratings = df.groupby('Title')['Rating'].agg(['mean', 'count'])\n",
    "\n",
    "filtered_rated_movies = movie_ratings[movie_ratings['count'] >= 10]\n",
    "filtered_highest_rated_movies = filtered_rated_movies.sort_values(by='mean', ascending=False)\n",
    "top_filtered_highest_rated_movies = filtered_highest_rated_movies.head(10)\n",
    "fig = px.bar(\n",
    "    x=top_filtered_highest_rated_movies.index,\n",
    "    y=top_filtered_highest_rated_movies[\"mean\"],\n",
    "    title=\"Top 10 highest rated movies with at least 10 reviews (rating count inside the bars)\",\n",
    "    labels={\"x\": \"Title\", \"y\": \"Average rating\"},\n",
    ")\n",
    "fig.update_traces(text=top_filtered_highest_rated_movies[\"count\"], textposition='auto')\n",
    "\n",
    "fig.show()"
   ]
  },
  {
   "cell_type": "code",
   "execution_count": 108,
   "id": "905f9c0d",
   "metadata": {},
   "outputs": [
    {
     "data": {
      "application/vnd.plotly.v1+json": {
       "config": {
        "plotlyServerURL": "https://plot.ly"
       },
       "data": [
        {
         "hovertemplate": "Title=%{x}<br>Average rating=%{y}<extra></extra>",
         "legendgroup": "",
         "marker": {
          "color": "#636efa",
          "pattern": {
           "shape": ""
          }
         },
         "name": "",
         "orientation": "v",
         "showlegend": false,
         "text": {
          "bdata": "AAAAAAAAMUAAAAAAAABGQAAAAAAAgEdAAAAAAACARUAAAAAAAAA6QAAAAAAAAF5AAAAAAAAALkAAAAAAAIBFQAAAAAAAAEBAAAAAAAAAJkA=",
          "dtype": "f8"
         },
         "textposition": "auto",
         "type": "bar",
         "x": [
          "Carnosaur 3: Primal Species (1996)",
          "Turbo: A Power Rangers Movie (1997)",
          "3 Ninjas: High Noon On Mega Mountain (1998)",
          "Amityville 3-D (1983)",
          "Carnosaur 2 (1995)",
          "Kazaam (1996)",
          "Prom Night III: The Last Kiss (1989)",
          "Digimon: The Movie (2000)",
          "Garbage Pail Kids Movie, The (1987)",
          "Adrenalin: Fear the Rush (1996)"
         ],
         "xaxis": "x",
         "y": {
          "bdata": "8fDw8PDw8D8XXXTRRRf1P1cQkyuIyfU/fUFf0Bf09T8ndmIndmL3P3d3d3d3d/c/d3d3d3d39z/0BX1BX9D3PwAAAAAAgPg/uuiiiy66+D8=",
          "dtype": "f8"
         },
         "yaxis": "y"
        }
       ],
       "layout": {
        "barmode": "relative",
        "legend": {
         "tracegroupgap": 0
        },
        "template": {
         "data": {
          "bar": [
           {
            "error_x": {
             "color": "#2a3f5f"
            },
            "error_y": {
             "color": "#2a3f5f"
            },
            "marker": {
             "line": {
              "color": "#E5ECF6",
              "width": 0.5
             },
             "pattern": {
              "fillmode": "overlay",
              "size": 10,
              "solidity": 0.2
             }
            },
            "type": "bar"
           }
          ],
          "barpolar": [
           {
            "marker": {
             "line": {
              "color": "#E5ECF6",
              "width": 0.5
             },
             "pattern": {
              "fillmode": "overlay",
              "size": 10,
              "solidity": 0.2
             }
            },
            "type": "barpolar"
           }
          ],
          "carpet": [
           {
            "aaxis": {
             "endlinecolor": "#2a3f5f",
             "gridcolor": "white",
             "linecolor": "white",
             "minorgridcolor": "white",
             "startlinecolor": "#2a3f5f"
            },
            "baxis": {
             "endlinecolor": "#2a3f5f",
             "gridcolor": "white",
             "linecolor": "white",
             "minorgridcolor": "white",
             "startlinecolor": "#2a3f5f"
            },
            "type": "carpet"
           }
          ],
          "choropleth": [
           {
            "colorbar": {
             "outlinewidth": 0,
             "ticks": ""
            },
            "type": "choropleth"
           }
          ],
          "contour": [
           {
            "colorbar": {
             "outlinewidth": 0,
             "ticks": ""
            },
            "colorscale": [
             [
              0,
              "#0d0887"
             ],
             [
              0.1111111111111111,
              "#46039f"
             ],
             [
              0.2222222222222222,
              "#7201a8"
             ],
             [
              0.3333333333333333,
              "#9c179e"
             ],
             [
              0.4444444444444444,
              "#bd3786"
             ],
             [
              0.5555555555555556,
              "#d8576b"
             ],
             [
              0.6666666666666666,
              "#ed7953"
             ],
             [
              0.7777777777777778,
              "#fb9f3a"
             ],
             [
              0.8888888888888888,
              "#fdca26"
             ],
             [
              1,
              "#f0f921"
             ]
            ],
            "type": "contour"
           }
          ],
          "contourcarpet": [
           {
            "colorbar": {
             "outlinewidth": 0,
             "ticks": ""
            },
            "type": "contourcarpet"
           }
          ],
          "heatmap": [
           {
            "colorbar": {
             "outlinewidth": 0,
             "ticks": ""
            },
            "colorscale": [
             [
              0,
              "#0d0887"
             ],
             [
              0.1111111111111111,
              "#46039f"
             ],
             [
              0.2222222222222222,
              "#7201a8"
             ],
             [
              0.3333333333333333,
              "#9c179e"
             ],
             [
              0.4444444444444444,
              "#bd3786"
             ],
             [
              0.5555555555555556,
              "#d8576b"
             ],
             [
              0.6666666666666666,
              "#ed7953"
             ],
             [
              0.7777777777777778,
              "#fb9f3a"
             ],
             [
              0.8888888888888888,
              "#fdca26"
             ],
             [
              1,
              "#f0f921"
             ]
            ],
            "type": "heatmap"
           }
          ],
          "histogram": [
           {
            "marker": {
             "pattern": {
              "fillmode": "overlay",
              "size": 10,
              "solidity": 0.2
             }
            },
            "type": "histogram"
           }
          ],
          "histogram2d": [
           {
            "colorbar": {
             "outlinewidth": 0,
             "ticks": ""
            },
            "colorscale": [
             [
              0,
              "#0d0887"
             ],
             [
              0.1111111111111111,
              "#46039f"
             ],
             [
              0.2222222222222222,
              "#7201a8"
             ],
             [
              0.3333333333333333,
              "#9c179e"
             ],
             [
              0.4444444444444444,
              "#bd3786"
             ],
             [
              0.5555555555555556,
              "#d8576b"
             ],
             [
              0.6666666666666666,
              "#ed7953"
             ],
             [
              0.7777777777777778,
              "#fb9f3a"
             ],
             [
              0.8888888888888888,
              "#fdca26"
             ],
             [
              1,
              "#f0f921"
             ]
            ],
            "type": "histogram2d"
           }
          ],
          "histogram2dcontour": [
           {
            "colorbar": {
             "outlinewidth": 0,
             "ticks": ""
            },
            "colorscale": [
             [
              0,
              "#0d0887"
             ],
             [
              0.1111111111111111,
              "#46039f"
             ],
             [
              0.2222222222222222,
              "#7201a8"
             ],
             [
              0.3333333333333333,
              "#9c179e"
             ],
             [
              0.4444444444444444,
              "#bd3786"
             ],
             [
              0.5555555555555556,
              "#d8576b"
             ],
             [
              0.6666666666666666,
              "#ed7953"
             ],
             [
              0.7777777777777778,
              "#fb9f3a"
             ],
             [
              0.8888888888888888,
              "#fdca26"
             ],
             [
              1,
              "#f0f921"
             ]
            ],
            "type": "histogram2dcontour"
           }
          ],
          "mesh3d": [
           {
            "colorbar": {
             "outlinewidth": 0,
             "ticks": ""
            },
            "type": "mesh3d"
           }
          ],
          "parcoords": [
           {
            "line": {
             "colorbar": {
              "outlinewidth": 0,
              "ticks": ""
             }
            },
            "type": "parcoords"
           }
          ],
          "pie": [
           {
            "automargin": true,
            "type": "pie"
           }
          ],
          "scatter": [
           {
            "fillpattern": {
             "fillmode": "overlay",
             "size": 10,
             "solidity": 0.2
            },
            "type": "scatter"
           }
          ],
          "scatter3d": [
           {
            "line": {
             "colorbar": {
              "outlinewidth": 0,
              "ticks": ""
             }
            },
            "marker": {
             "colorbar": {
              "outlinewidth": 0,
              "ticks": ""
             }
            },
            "type": "scatter3d"
           }
          ],
          "scattercarpet": [
           {
            "marker": {
             "colorbar": {
              "outlinewidth": 0,
              "ticks": ""
             }
            },
            "type": "scattercarpet"
           }
          ],
          "scattergeo": [
           {
            "marker": {
             "colorbar": {
              "outlinewidth": 0,
              "ticks": ""
             }
            },
            "type": "scattergeo"
           }
          ],
          "scattergl": [
           {
            "marker": {
             "colorbar": {
              "outlinewidth": 0,
              "ticks": ""
             }
            },
            "type": "scattergl"
           }
          ],
          "scattermap": [
           {
            "marker": {
             "colorbar": {
              "outlinewidth": 0,
              "ticks": ""
             }
            },
            "type": "scattermap"
           }
          ],
          "scattermapbox": [
           {
            "marker": {
             "colorbar": {
              "outlinewidth": 0,
              "ticks": ""
             }
            },
            "type": "scattermapbox"
           }
          ],
          "scatterpolar": [
           {
            "marker": {
             "colorbar": {
              "outlinewidth": 0,
              "ticks": ""
             }
            },
            "type": "scatterpolar"
           }
          ],
          "scatterpolargl": [
           {
            "marker": {
             "colorbar": {
              "outlinewidth": 0,
              "ticks": ""
             }
            },
            "type": "scatterpolargl"
           }
          ],
          "scatterternary": [
           {
            "marker": {
             "colorbar": {
              "outlinewidth": 0,
              "ticks": ""
             }
            },
            "type": "scatterternary"
           }
          ],
          "surface": [
           {
            "colorbar": {
             "outlinewidth": 0,
             "ticks": ""
            },
            "colorscale": [
             [
              0,
              "#0d0887"
             ],
             [
              0.1111111111111111,
              "#46039f"
             ],
             [
              0.2222222222222222,
              "#7201a8"
             ],
             [
              0.3333333333333333,
              "#9c179e"
             ],
             [
              0.4444444444444444,
              "#bd3786"
             ],
             [
              0.5555555555555556,
              "#d8576b"
             ],
             [
              0.6666666666666666,
              "#ed7953"
             ],
             [
              0.7777777777777778,
              "#fb9f3a"
             ],
             [
              0.8888888888888888,
              "#fdca26"
             ],
             [
              1,
              "#f0f921"
             ]
            ],
            "type": "surface"
           }
          ],
          "table": [
           {
            "cells": {
             "fill": {
              "color": "#EBF0F8"
             },
             "line": {
              "color": "white"
             }
            },
            "header": {
             "fill": {
              "color": "#C8D4E3"
             },
             "line": {
              "color": "white"
             }
            },
            "type": "table"
           }
          ]
         },
         "layout": {
          "annotationdefaults": {
           "arrowcolor": "#2a3f5f",
           "arrowhead": 0,
           "arrowwidth": 1
          },
          "autotypenumbers": "strict",
          "coloraxis": {
           "colorbar": {
            "outlinewidth": 0,
            "ticks": ""
           }
          },
          "colorscale": {
           "diverging": [
            [
             0,
             "#8e0152"
            ],
            [
             0.1,
             "#c51b7d"
            ],
            [
             0.2,
             "#de77ae"
            ],
            [
             0.3,
             "#f1b6da"
            ],
            [
             0.4,
             "#fde0ef"
            ],
            [
             0.5,
             "#f7f7f7"
            ],
            [
             0.6,
             "#e6f5d0"
            ],
            [
             0.7,
             "#b8e186"
            ],
            [
             0.8,
             "#7fbc41"
            ],
            [
             0.9,
             "#4d9221"
            ],
            [
             1,
             "#276419"
            ]
           ],
           "sequential": [
            [
             0,
             "#0d0887"
            ],
            [
             0.1111111111111111,
             "#46039f"
            ],
            [
             0.2222222222222222,
             "#7201a8"
            ],
            [
             0.3333333333333333,
             "#9c179e"
            ],
            [
             0.4444444444444444,
             "#bd3786"
            ],
            [
             0.5555555555555556,
             "#d8576b"
            ],
            [
             0.6666666666666666,
             "#ed7953"
            ],
            [
             0.7777777777777778,
             "#fb9f3a"
            ],
            [
             0.8888888888888888,
             "#fdca26"
            ],
            [
             1,
             "#f0f921"
            ]
           ],
           "sequentialminus": [
            [
             0,
             "#0d0887"
            ],
            [
             0.1111111111111111,
             "#46039f"
            ],
            [
             0.2222222222222222,
             "#7201a8"
            ],
            [
             0.3333333333333333,
             "#9c179e"
            ],
            [
             0.4444444444444444,
             "#bd3786"
            ],
            [
             0.5555555555555556,
             "#d8576b"
            ],
            [
             0.6666666666666666,
             "#ed7953"
            ],
            [
             0.7777777777777778,
             "#fb9f3a"
            ],
            [
             0.8888888888888888,
             "#fdca26"
            ],
            [
             1,
             "#f0f921"
            ]
           ]
          },
          "colorway": [
           "#636efa",
           "#EF553B",
           "#00cc96",
           "#ab63fa",
           "#FFA15A",
           "#19d3f3",
           "#FF6692",
           "#B6E880",
           "#FF97FF",
           "#FECB52"
          ],
          "font": {
           "color": "#2a3f5f"
          },
          "geo": {
           "bgcolor": "white",
           "lakecolor": "white",
           "landcolor": "#E5ECF6",
           "showlakes": true,
           "showland": true,
           "subunitcolor": "white"
          },
          "hoverlabel": {
           "align": "left"
          },
          "hovermode": "closest",
          "mapbox": {
           "style": "light"
          },
          "paper_bgcolor": "white",
          "plot_bgcolor": "#E5ECF6",
          "polar": {
           "angularaxis": {
            "gridcolor": "white",
            "linecolor": "white",
            "ticks": ""
           },
           "bgcolor": "#E5ECF6",
           "radialaxis": {
            "gridcolor": "white",
            "linecolor": "white",
            "ticks": ""
           }
          },
          "scene": {
           "xaxis": {
            "backgroundcolor": "#E5ECF6",
            "gridcolor": "white",
            "gridwidth": 2,
            "linecolor": "white",
            "showbackground": true,
            "ticks": "",
            "zerolinecolor": "white"
           },
           "yaxis": {
            "backgroundcolor": "#E5ECF6",
            "gridcolor": "white",
            "gridwidth": 2,
            "linecolor": "white",
            "showbackground": true,
            "ticks": "",
            "zerolinecolor": "white"
           },
           "zaxis": {
            "backgroundcolor": "#E5ECF6",
            "gridcolor": "white",
            "gridwidth": 2,
            "linecolor": "white",
            "showbackground": true,
            "ticks": "",
            "zerolinecolor": "white"
           }
          },
          "shapedefaults": {
           "line": {
            "color": "#2a3f5f"
           }
          },
          "ternary": {
           "aaxis": {
            "gridcolor": "white",
            "linecolor": "white",
            "ticks": ""
           },
           "baxis": {
            "gridcolor": "white",
            "linecolor": "white",
            "ticks": ""
           },
           "bgcolor": "#E5ECF6",
           "caxis": {
            "gridcolor": "white",
            "linecolor": "white",
            "ticks": ""
           }
          },
          "title": {
           "x": 0.05
          },
          "xaxis": {
           "automargin": true,
           "gridcolor": "white",
           "linecolor": "white",
           "ticks": "",
           "title": {
            "standoff": 15
           },
           "zerolinecolor": "white",
           "zerolinewidth": 2
          },
          "yaxis": {
           "automargin": true,
           "gridcolor": "white",
           "linecolor": "white",
           "ticks": "",
           "title": {
            "standoff": 15
           },
           "zerolinecolor": "white",
           "zerolinewidth": 2
          }
         }
        },
        "title": {
         "text": "Top 10 lowest rated movies with at least 10 reviews (rating count inside the bars)"
        },
        "xaxis": {
         "anchor": "y",
         "domain": [
          0,
          1
         ],
         "title": {
          "text": "Title"
         }
        },
        "yaxis": {
         "anchor": "x",
         "domain": [
          0,
          1
         ],
         "title": {
          "text": "Average rating"
         }
        }
       }
      }
     },
     "metadata": {},
     "output_type": "display_data"
    }
   ],
   "source": [
    "# lets also see the lowest rated movies with at least 10 ratings\n",
    "filtered_lowest_rated_movies = filtered_rated_movies.sort_values(by='mean', ascending=True)\n",
    "top_filtered_lowest_rated_movies = filtered_lowest_rated_movies.head(10)\n",
    "fig = px.bar(\n",
    "    x=top_filtered_lowest_rated_movies.index,\n",
    "    y=top_filtered_lowest_rated_movies[\"mean\"],\n",
    "    title=\"Top 10 lowest rated movies with at least 10 reviews (rating count inside the bars)\",\n",
    "    labels={\"x\": \"Title\", \"y\": \"Average rating\"},\n",
    ")\n",
    "fig.update_traces(text=top_filtered_lowest_rated_movies[\"count\"], textposition='auto')\n",
    "\n",
    "fig.show()"
   ]
  },
  {
   "cell_type": "markdown",
   "id": "c7ee9bf6",
   "metadata": {},
   "source": [
    "#### Do movies with more ratings tend to have higher or lower ratings?"
   ]
  },
  {
   "cell_type": "code",
   "execution_count": 118,
   "id": "3255d08d",
   "metadata": {},
   "outputs": [
    {
     "data": {
      "application/vnd.plotly.v1+json": {
       "config": {
        "plotlyServerURL": "https://plot.ly"
       },
       "data": [
        {
         "hovertemplate": "Number of Ratings=%{x}<br>Average Rating=%{y}<extra></extra>",
         "legendgroup": "",
         "marker": {
          "color": "#636efa",
          "symbol": "circle"
         },
         "mode": "markers",
         "name": "",
         "showlegend": false,
         "type": "scattergl",
         "x": {
          "bdata": "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",
          "dtype": "i2"
         },
         "xaxis": "x",
         "y": {
          "bdata": "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",
          "dtype": "f8"
         },
         "yaxis": "y"
        }
       ],
       "layout": {
        "legend": {
         "tracegroupgap": 0
        },
        "template": {
         "data": {
          "bar": [
           {
            "error_x": {
             "color": "#2a3f5f"
            },
            "error_y": {
             "color": "#2a3f5f"
            },
            "marker": {
             "line": {
              "color": "#E5ECF6",
              "width": 0.5
             },
             "pattern": {
              "fillmode": "overlay",
              "size": 10,
              "solidity": 0.2
             }
            },
            "type": "bar"
           }
          ],
          "barpolar": [
           {
            "marker": {
             "line": {
              "color": "#E5ECF6",
              "width": 0.5
             },
             "pattern": {
              "fillmode": "overlay",
              "size": 10,
              "solidity": 0.2
             }
            },
            "type": "barpolar"
           }
          ],
          "carpet": [
           {
            "aaxis": {
             "endlinecolor": "#2a3f5f",
             "gridcolor": "white",
             "linecolor": "white",
             "minorgridcolor": "white",
             "startlinecolor": "#2a3f5f"
            },
            "baxis": {
             "endlinecolor": "#2a3f5f",
             "gridcolor": "white",
             "linecolor": "white",
             "minorgridcolor": "white",
             "startlinecolor": "#2a3f5f"
            },
            "type": "carpet"
           }
          ],
          "choropleth": [
           {
            "colorbar": {
             "outlinewidth": 0,
             "ticks": ""
            },
            "type": "choropleth"
           }
          ],
          "contour": [
           {
            "colorbar": {
             "outlinewidth": 0,
             "ticks": ""
            },
            "colorscale": [
             [
              0,
              "#0d0887"
             ],
             [
              0.1111111111111111,
              "#46039f"
             ],
             [
              0.2222222222222222,
              "#7201a8"
             ],
             [
              0.3333333333333333,
              "#9c179e"
             ],
             [
              0.4444444444444444,
              "#bd3786"
             ],
             [
              0.5555555555555556,
              "#d8576b"
             ],
             [
              0.6666666666666666,
              "#ed7953"
             ],
             [
              0.7777777777777778,
              "#fb9f3a"
             ],
             [
              0.8888888888888888,
              "#fdca26"
             ],
             [
              1,
              "#f0f921"
             ]
            ],
            "type": "contour"
           }
          ],
          "contourcarpet": [
           {
            "colorbar": {
             "outlinewidth": 0,
             "ticks": ""
            },
            "type": "contourcarpet"
           }
          ],
          "heatmap": [
           {
            "colorbar": {
             "outlinewidth": 0,
             "ticks": ""
            },
            "colorscale": [
             [
              0,
              "#0d0887"
             ],
             [
              0.1111111111111111,
              "#46039f"
             ],
             [
              0.2222222222222222,
              "#7201a8"
             ],
             [
              0.3333333333333333,
              "#9c179e"
             ],
             [
              0.4444444444444444,
              "#bd3786"
             ],
             [
              0.5555555555555556,
              "#d8576b"
             ],
             [
              0.6666666666666666,
              "#ed7953"
             ],
             [
              0.7777777777777778,
              "#fb9f3a"
             ],
             [
              0.8888888888888888,
              "#fdca26"
             ],
             [
              1,
              "#f0f921"
             ]
            ],
            "type": "heatmap"
           }
          ],
          "histogram": [
           {
            "marker": {
             "pattern": {
              "fillmode": "overlay",
              "size": 10,
              "solidity": 0.2
             }
            },
            "type": "histogram"
           }
          ],
          "histogram2d": [
           {
            "colorbar": {
             "outlinewidth": 0,
             "ticks": ""
            },
            "colorscale": [
             [
              0,
              "#0d0887"
             ],
             [
              0.1111111111111111,
              "#46039f"
             ],
             [
              0.2222222222222222,
              "#7201a8"
             ],
             [
              0.3333333333333333,
              "#9c179e"
             ],
             [
              0.4444444444444444,
              "#bd3786"
             ],
             [
              0.5555555555555556,
              "#d8576b"
             ],
             [
              0.6666666666666666,
              "#ed7953"
             ],
             [
              0.7777777777777778,
              "#fb9f3a"
             ],
             [
              0.8888888888888888,
              "#fdca26"
             ],
             [
              1,
              "#f0f921"
             ]
            ],
            "type": "histogram2d"
           }
          ],
          "histogram2dcontour": [
           {
            "colorbar": {
             "outlinewidth": 0,
             "ticks": ""
            },
            "colorscale": [
             [
              0,
              "#0d0887"
             ],
             [
              0.1111111111111111,
              "#46039f"
             ],
             [
              0.2222222222222222,
              "#7201a8"
             ],
             [
              0.3333333333333333,
              "#9c179e"
             ],
             [
              0.4444444444444444,
              "#bd3786"
             ],
             [
              0.5555555555555556,
              "#d8576b"
             ],
             [
              0.6666666666666666,
              "#ed7953"
             ],
             [
              0.7777777777777778,
              "#fb9f3a"
             ],
             [
              0.8888888888888888,
              "#fdca26"
             ],
             [
              1,
              "#f0f921"
             ]
            ],
            "type": "histogram2dcontour"
           }
          ],
          "mesh3d": [
           {
            "colorbar": {
             "outlinewidth": 0,
             "ticks": ""
            },
            "type": "mesh3d"
           }
          ],
          "parcoords": [
           {
            "line": {
             "colorbar": {
              "outlinewidth": 0,
              "ticks": ""
             }
            },
            "type": "parcoords"
           }
          ],
          "pie": [
           {
            "automargin": true,
            "type": "pie"
           }
          ],
          "scatter": [
           {
            "fillpattern": {
             "fillmode": "overlay",
             "size": 10,
             "solidity": 0.2
            },
            "type": "scatter"
           }
          ],
          "scatter3d": [
           {
            "line": {
             "colorbar": {
              "outlinewidth": 0,
              "ticks": ""
             }
            },
            "marker": {
             "colorbar": {
              "outlinewidth": 0,
              "ticks": ""
             }
            },
            "type": "scatter3d"
           }
          ],
          "scattercarpet": [
           {
            "marker": {
             "colorbar": {
              "outlinewidth": 0,
              "ticks": ""
             }
            },
            "type": "scattercarpet"
           }
          ],
          "scattergeo": [
           {
            "marker": {
             "colorbar": {
              "outlinewidth": 0,
              "ticks": ""
             }
            },
            "type": "scattergeo"
           }
          ],
          "scattergl": [
           {
            "marker": {
             "colorbar": {
              "outlinewidth": 0,
              "ticks": ""
             }
            },
            "type": "scattergl"
           }
          ],
          "scattermap": [
           {
            "marker": {
             "colorbar": {
              "outlinewidth": 0,
              "ticks": ""
             }
            },
            "type": "scattermap"
           }
          ],
          "scattermapbox": [
           {
            "marker": {
             "colorbar": {
              "outlinewidth": 0,
              "ticks": ""
             }
            },
            "type": "scattermapbox"
           }
          ],
          "scatterpolar": [
           {
            "marker": {
             "colorbar": {
              "outlinewidth": 0,
              "ticks": ""
             }
            },
            "type": "scatterpolar"
           }
          ],
          "scatterpolargl": [
           {
            "marker": {
             "colorbar": {
              "outlinewidth": 0,
              "ticks": ""
             }
            },
            "type": "scatterpolargl"
           }
          ],
          "scatterternary": [
           {
            "marker": {
             "colorbar": {
              "outlinewidth": 0,
              "ticks": ""
             }
            },
            "type": "scatterternary"
           }
          ],
          "surface": [
           {
            "colorbar": {
             "outlinewidth": 0,
             "ticks": ""
            },
            "colorscale": [
             [
              0,
              "#0d0887"
             ],
             [
              0.1111111111111111,
              "#46039f"
             ],
             [
              0.2222222222222222,
              "#7201a8"
             ],
             [
              0.3333333333333333,
              "#9c179e"
             ],
             [
              0.4444444444444444,
              "#bd3786"
             ],
             [
              0.5555555555555556,
              "#d8576b"
             ],
             [
              0.6666666666666666,
              "#ed7953"
             ],
             [
              0.7777777777777778,
              "#fb9f3a"
             ],
             [
              0.8888888888888888,
              "#fdca26"
             ],
             [
              1,
              "#f0f921"
             ]
            ],
            "type": "surface"
           }
          ],
          "table": [
           {
            "cells": {
             "fill": {
              "color": "#EBF0F8"
             },
             "line": {
              "color": "white"
             }
            },
            "header": {
             "fill": {
              "color": "#C8D4E3"
             },
             "line": {
              "color": "white"
             }
            },
            "type": "table"
           }
          ]
         },
         "layout": {
          "annotationdefaults": {
           "arrowcolor": "#2a3f5f",
           "arrowhead": 0,
           "arrowwidth": 1
          },
          "autotypenumbers": "strict",
          "coloraxis": {
           "colorbar": {
            "outlinewidth": 0,
            "ticks": ""
           }
          },
          "colorscale": {
           "diverging": [
            [
             0,
             "#8e0152"
            ],
            [
             0.1,
             "#c51b7d"
            ],
            [
             0.2,
             "#de77ae"
            ],
            [
             0.3,
             "#f1b6da"
            ],
            [
             0.4,
             "#fde0ef"
            ],
            [
             0.5,
             "#f7f7f7"
            ],
            [
             0.6,
             "#e6f5d0"
            ],
            [
             0.7,
             "#b8e186"
            ],
            [
             0.8,
             "#7fbc41"
            ],
            [
             0.9,
             "#4d9221"
            ],
            [
             1,
             "#276419"
            ]
           ],
           "sequential": [
            [
             0,
             "#0d0887"
            ],
            [
             0.1111111111111111,
             "#46039f"
            ],
            [
             0.2222222222222222,
             "#7201a8"
            ],
            [
             0.3333333333333333,
             "#9c179e"
            ],
            [
             0.4444444444444444,
             "#bd3786"
            ],
            [
             0.5555555555555556,
             "#d8576b"
            ],
            [
             0.6666666666666666,
             "#ed7953"
            ],
            [
             0.7777777777777778,
             "#fb9f3a"
            ],
            [
             0.8888888888888888,
             "#fdca26"
            ],
            [
             1,
             "#f0f921"
            ]
           ],
           "sequentialminus": [
            [
             0,
             "#0d0887"
            ],
            [
             0.1111111111111111,
             "#46039f"
            ],
            [
             0.2222222222222222,
             "#7201a8"
            ],
            [
             0.3333333333333333,
             "#9c179e"
            ],
            [
             0.4444444444444444,
             "#bd3786"
            ],
            [
             0.5555555555555556,
             "#d8576b"
            ],
            [
             0.6666666666666666,
             "#ed7953"
            ],
            [
             0.7777777777777778,
             "#fb9f3a"
            ],
            [
             0.8888888888888888,
             "#fdca26"
            ],
            [
             1,
             "#f0f921"
            ]
           ]
          },
          "colorway": [
           "#636efa",
           "#EF553B",
           "#00cc96",
           "#ab63fa",
           "#FFA15A",
           "#19d3f3",
           "#FF6692",
           "#B6E880",
           "#FF97FF",
           "#FECB52"
          ],
          "font": {
           "color": "#2a3f5f"
          },
          "geo": {
           "bgcolor": "white",
           "lakecolor": "white",
           "landcolor": "#E5ECF6",
           "showlakes": true,
           "showland": true,
           "subunitcolor": "white"
          },
          "hoverlabel": {
           "align": "left"
          },
          "hovermode": "closest",
          "mapbox": {
           "style": "light"
          },
          "paper_bgcolor": "white",
          "plot_bgcolor": "#E5ECF6",
          "polar": {
           "angularaxis": {
            "gridcolor": "white",
            "linecolor": "white",
            "ticks": ""
           },
           "bgcolor": "#E5ECF6",
           "radialaxis": {
            "gridcolor": "white",
            "linecolor": "white",
            "ticks": ""
           }
          },
          "scene": {
           "xaxis": {
            "backgroundcolor": "#E5ECF6",
            "gridcolor": "white",
            "gridwidth": 2,
            "linecolor": "white",
            "showbackground": true,
            "ticks": "",
            "zerolinecolor": "white"
           },
           "yaxis": {
            "backgroundcolor": "#E5ECF6",
            "gridcolor": "white",
            "gridwidth": 2,
            "linecolor": "white",
            "showbackground": true,
            "ticks": "",
            "zerolinecolor": "white"
           },
           "zaxis": {
            "backgroundcolor": "#E5ECF6",
            "gridcolor": "white",
            "gridwidth": 2,
            "linecolor": "white",
            "showbackground": true,
            "ticks": "",
            "zerolinecolor": "white"
           }
          },
          "shapedefaults": {
           "line": {
            "color": "#2a3f5f"
           }
          },
          "ternary": {
           "aaxis": {
            "gridcolor": "white",
            "linecolor": "white",
            "ticks": ""
           },
           "baxis": {
            "gridcolor": "white",
            "linecolor": "white",
            "ticks": ""
           },
           "bgcolor": "#E5ECF6",
           "caxis": {
            "gridcolor": "white",
            "linecolor": "white",
            "ticks": ""
           }
          },
          "title": {
           "x": 0.05
          },
          "xaxis": {
           "automargin": true,
           "gridcolor": "white",
           "linecolor": "white",
           "ticks": "",
           "title": {
            "standoff": 15
           },
           "zerolinecolor": "white",
           "zerolinewidth": 2
          },
          "yaxis": {
           "automargin": true,
           "gridcolor": "white",
           "linecolor": "white",
           "ticks": "",
           "title": {
            "standoff": 15
           },
           "zerolinecolor": "white",
           "zerolinewidth": 2
          }
         }
        },
        "title": {
         "text": "Relationship between Rating Count and Average Rating"
        },
        "xaxis": {
         "anchor": "y",
         "domain": [
          0,
          1
         ],
         "title": {
          "text": "Number of Ratings"
         }
        },
        "yaxis": {
         "anchor": "x",
         "domain": [
          0,
          1
         ],
         "title": {
          "text": "Average Rating"
         }
        }
       }
      }
     },
     "metadata": {},
     "output_type": "display_data"
    },
    {
     "name": "stdout",
     "output_type": "stream",
     "text": [
      "Correlation between the number of ratings and an average rating: 0.3579560372867074\n"
     ]
    }
   ],
   "source": [
    "fig = px.scatter(\n",
    "    movie_ratings,\n",
    "    x='count',\n",
    "    y='mean',\n",
    "    title='Relationship between Rating Count and Average Rating',\n",
    "    labels={'count': 'Number of Ratings', 'mean': 'Average Rating'},\n",
    ")\n",
    "fig.show()\n",
    "\n",
    "correlation = movie_ratings['count'].corr(movie_ratings['mean'])\n",
    "print(f\"Correlation between the number of ratings and an average rating: {correlation}\")"
   ]
  },
  {
   "cell_type": "markdown",
   "id": "3d3f6dfd",
   "metadata": {},
   "source": [
    "# Insights into how ratings change over a certain time period\n",
    "\n",
    "  - how do ratings change over the years?\n",
    "  - what days do the users rate movies the most?\n"
   ]
  },
  {
   "cell_type": "code",
   "execution_count": 109,
   "id": "16414692",
   "metadata": {},
   "outputs": [
    {
     "data": {
      "application/vnd.plotly.v1+json": {
       "config": {
        "plotlyServerURL": "https://plot.ly"
       },
       "data": [
        {
         "hovertemplate": "Year=%{x}<br>Number of Ratings=%{y}<extra></extra>",
         "legendgroup": "",
         "line": {
          "color": "#636efa",
          "dash": "solid"
         },
         "marker": {
          "symbol": "circle"
         },
         "mode": "lines",
         "name": "",
         "orientation": "v",
         "showlegend": false,
         "type": "scatter",
         "x": {
          "bdata": "0AcAANEHAADSBwAA0wcAAA==",
          "dtype": "i4"
         },
         "xaxis": "x",
         "y": {
          "bdata": "Nc4NANoJAQDuXQAAFA0AAA==",
          "dtype": "i4"
         },
         "yaxis": "y"
        }
       ],
       "layout": {
        "legend": {
         "tracegroupgap": 0
        },
        "template": {
         "data": {
          "bar": [
           {
            "error_x": {
             "color": "#2a3f5f"
            },
            "error_y": {
             "color": "#2a3f5f"
            },
            "marker": {
             "line": {
              "color": "#E5ECF6",
              "width": 0.5
             },
             "pattern": {
              "fillmode": "overlay",
              "size": 10,
              "solidity": 0.2
             }
            },
            "type": "bar"
           }
          ],
          "barpolar": [
           {
            "marker": {
             "line": {
              "color": "#E5ECF6",
              "width": 0.5
             },
             "pattern": {
              "fillmode": "overlay",
              "size": 10,
              "solidity": 0.2
             }
            },
            "type": "barpolar"
           }
          ],
          "carpet": [
           {
            "aaxis": {
             "endlinecolor": "#2a3f5f",
             "gridcolor": "white",
             "linecolor": "white",
             "minorgridcolor": "white",
             "startlinecolor": "#2a3f5f"
            },
            "baxis": {
             "endlinecolor": "#2a3f5f",
             "gridcolor": "white",
             "linecolor": "white",
             "minorgridcolor": "white",
             "startlinecolor": "#2a3f5f"
            },
            "type": "carpet"
           }
          ],
          "choropleth": [
           {
            "colorbar": {
             "outlinewidth": 0,
             "ticks": ""
            },
            "type": "choropleth"
           }
          ],
          "contour": [
           {
            "colorbar": {
             "outlinewidth": 0,
             "ticks": ""
            },
            "colorscale": [
             [
              0,
              "#0d0887"
             ],
             [
              0.1111111111111111,
              "#46039f"
             ],
             [
              0.2222222222222222,
              "#7201a8"
             ],
             [
              0.3333333333333333,
              "#9c179e"
             ],
             [
              0.4444444444444444,
              "#bd3786"
             ],
             [
              0.5555555555555556,
              "#d8576b"
             ],
             [
              0.6666666666666666,
              "#ed7953"
             ],
             [
              0.7777777777777778,
              "#fb9f3a"
             ],
             [
              0.8888888888888888,
              "#fdca26"
             ],
             [
              1,
              "#f0f921"
             ]
            ],
            "type": "contour"
           }
          ],
          "contourcarpet": [
           {
            "colorbar": {
             "outlinewidth": 0,
             "ticks": ""
            },
            "type": "contourcarpet"
           }
          ],
          "heatmap": [
           {
            "colorbar": {
             "outlinewidth": 0,
             "ticks": ""
            },
            "colorscale": [
             [
              0,
              "#0d0887"
             ],
             [
              0.1111111111111111,
              "#46039f"
             ],
             [
              0.2222222222222222,
              "#7201a8"
             ],
             [
              0.3333333333333333,
              "#9c179e"
             ],
             [
              0.4444444444444444,
              "#bd3786"
             ],
             [
              0.5555555555555556,
              "#d8576b"
             ],
             [
              0.6666666666666666,
              "#ed7953"
             ],
             [
              0.7777777777777778,
              "#fb9f3a"
             ],
             [
              0.8888888888888888,
              "#fdca26"
             ],
             [
              1,
              "#f0f921"
             ]
            ],
            "type": "heatmap"
           }
          ],
          "histogram": [
           {
            "marker": {
             "pattern": {
              "fillmode": "overlay",
              "size": 10,
              "solidity": 0.2
             }
            },
            "type": "histogram"
           }
          ],
          "histogram2d": [
           {
            "colorbar": {
             "outlinewidth": 0,
             "ticks": ""
            },
            "colorscale": [
             [
              0,
              "#0d0887"
             ],
             [
              0.1111111111111111,
              "#46039f"
             ],
             [
              0.2222222222222222,
              "#7201a8"
             ],
             [
              0.3333333333333333,
              "#9c179e"
             ],
             [
              0.4444444444444444,
              "#bd3786"
             ],
             [
              0.5555555555555556,
              "#d8576b"
             ],
             [
              0.6666666666666666,
              "#ed7953"
             ],
             [
              0.7777777777777778,
              "#fb9f3a"
             ],
             [
              0.8888888888888888,
              "#fdca26"
             ],
             [
              1,
              "#f0f921"
             ]
            ],
            "type": "histogram2d"
           }
          ],
          "histogram2dcontour": [
           {
            "colorbar": {
             "outlinewidth": 0,
             "ticks": ""
            },
            "colorscale": [
             [
              0,
              "#0d0887"
             ],
             [
              0.1111111111111111,
              "#46039f"
             ],
             [
              0.2222222222222222,
              "#7201a8"
             ],
             [
              0.3333333333333333,
              "#9c179e"
             ],
             [
              0.4444444444444444,
              "#bd3786"
             ],
             [
              0.5555555555555556,
              "#d8576b"
             ],
             [
              0.6666666666666666,
              "#ed7953"
             ],
             [
              0.7777777777777778,
              "#fb9f3a"
             ],
             [
              0.8888888888888888,
              "#fdca26"
             ],
             [
              1,
              "#f0f921"
             ]
            ],
            "type": "histogram2dcontour"
           }
          ],
          "mesh3d": [
           {
            "colorbar": {
             "outlinewidth": 0,
             "ticks": ""
            },
            "type": "mesh3d"
           }
          ],
          "parcoords": [
           {
            "line": {
             "colorbar": {
              "outlinewidth": 0,
              "ticks": ""
             }
            },
            "type": "parcoords"
           }
          ],
          "pie": [
           {
            "automargin": true,
            "type": "pie"
           }
          ],
          "scatter": [
           {
            "fillpattern": {
             "fillmode": "overlay",
             "size": 10,
             "solidity": 0.2
            },
            "type": "scatter"
           }
          ],
          "scatter3d": [
           {
            "line": {
             "colorbar": {
              "outlinewidth": 0,
              "ticks": ""
             }
            },
            "marker": {
             "colorbar": {
              "outlinewidth": 0,
              "ticks": ""
             }
            },
            "type": "scatter3d"
           }
          ],
          "scattercarpet": [
           {
            "marker": {
             "colorbar": {
              "outlinewidth": 0,
              "ticks": ""
             }
            },
            "type": "scattercarpet"
           }
          ],
          "scattergeo": [
           {
            "marker": {
             "colorbar": {
              "outlinewidth": 0,
              "ticks": ""
             }
            },
            "type": "scattergeo"
           }
          ],
          "scattergl": [
           {
            "marker": {
             "colorbar": {
              "outlinewidth": 0,
              "ticks": ""
             }
            },
            "type": "scattergl"
           }
          ],
          "scattermap": [
           {
            "marker": {
             "colorbar": {
              "outlinewidth": 0,
              "ticks": ""
             }
            },
            "type": "scattermap"
           }
          ],
          "scattermapbox": [
           {
            "marker": {
             "colorbar": {
              "outlinewidth": 0,
              "ticks": ""
             }
            },
            "type": "scattermapbox"
           }
          ],
          "scatterpolar": [
           {
            "marker": {
             "colorbar": {
              "outlinewidth": 0,
              "ticks": ""
             }
            },
            "type": "scatterpolar"
           }
          ],
          "scatterpolargl": [
           {
            "marker": {
             "colorbar": {
              "outlinewidth": 0,
              "ticks": ""
             }
            },
            "type": "scatterpolargl"
           }
          ],
          "scatterternary": [
           {
            "marker": {
             "colorbar": {
              "outlinewidth": 0,
              "ticks": ""
             }
            },
            "type": "scatterternary"
           }
          ],
          "surface": [
           {
            "colorbar": {
             "outlinewidth": 0,
             "ticks": ""
            },
            "colorscale": [
             [
              0,
              "#0d0887"
             ],
             [
              0.1111111111111111,
              "#46039f"
             ],
             [
              0.2222222222222222,
              "#7201a8"
             ],
             [
              0.3333333333333333,
              "#9c179e"
             ],
             [
              0.4444444444444444,
              "#bd3786"
             ],
             [
              0.5555555555555556,
              "#d8576b"
             ],
             [
              0.6666666666666666,
              "#ed7953"
             ],
             [
              0.7777777777777778,
              "#fb9f3a"
             ],
             [
              0.8888888888888888,
              "#fdca26"
             ],
             [
              1,
              "#f0f921"
             ]
            ],
            "type": "surface"
           }
          ],
          "table": [
           {
            "cells": {
             "fill": {
              "color": "#EBF0F8"
             },
             "line": {
              "color": "white"
             }
            },
            "header": {
             "fill": {
              "color": "#C8D4E3"
             },
             "line": {
              "color": "white"
             }
            },
            "type": "table"
           }
          ]
         },
         "layout": {
          "annotationdefaults": {
           "arrowcolor": "#2a3f5f",
           "arrowhead": 0,
           "arrowwidth": 1
          },
          "autotypenumbers": "strict",
          "coloraxis": {
           "colorbar": {
            "outlinewidth": 0,
            "ticks": ""
           }
          },
          "colorscale": {
           "diverging": [
            [
             0,
             "#8e0152"
            ],
            [
             0.1,
             "#c51b7d"
            ],
            [
             0.2,
             "#de77ae"
            ],
            [
             0.3,
             "#f1b6da"
            ],
            [
             0.4,
             "#fde0ef"
            ],
            [
             0.5,
             "#f7f7f7"
            ],
            [
             0.6,
             "#e6f5d0"
            ],
            [
             0.7,
             "#b8e186"
            ],
            [
             0.8,
             "#7fbc41"
            ],
            [
             0.9,
             "#4d9221"
            ],
            [
             1,
             "#276419"
            ]
           ],
           "sequential": [
            [
             0,
             "#0d0887"
            ],
            [
             0.1111111111111111,
             "#46039f"
            ],
            [
             0.2222222222222222,
             "#7201a8"
            ],
            [
             0.3333333333333333,
             "#9c179e"
            ],
            [
             0.4444444444444444,
             "#bd3786"
            ],
            [
             0.5555555555555556,
             "#d8576b"
            ],
            [
             0.6666666666666666,
             "#ed7953"
            ],
            [
             0.7777777777777778,
             "#fb9f3a"
            ],
            [
             0.8888888888888888,
             "#fdca26"
            ],
            [
             1,
             "#f0f921"
            ]
           ],
           "sequentialminus": [
            [
             0,
             "#0d0887"
            ],
            [
             0.1111111111111111,
             "#46039f"
            ],
            [
             0.2222222222222222,
             "#7201a8"
            ],
            [
             0.3333333333333333,
             "#9c179e"
            ],
            [
             0.4444444444444444,
             "#bd3786"
            ],
            [
             0.5555555555555556,
             "#d8576b"
            ],
            [
             0.6666666666666666,
             "#ed7953"
            ],
            [
             0.7777777777777778,
             "#fb9f3a"
            ],
            [
             0.8888888888888888,
             "#fdca26"
            ],
            [
             1,
             "#f0f921"
            ]
           ]
          },
          "colorway": [
           "#636efa",
           "#EF553B",
           "#00cc96",
           "#ab63fa",
           "#FFA15A",
           "#19d3f3",
           "#FF6692",
           "#B6E880",
           "#FF97FF",
           "#FECB52"
          ],
          "font": {
           "color": "#2a3f5f"
          },
          "geo": {
           "bgcolor": "white",
           "lakecolor": "white",
           "landcolor": "#E5ECF6",
           "showlakes": true,
           "showland": true,
           "subunitcolor": "white"
          },
          "hoverlabel": {
           "align": "left"
          },
          "hovermode": "closest",
          "mapbox": {
           "style": "light"
          },
          "paper_bgcolor": "white",
          "plot_bgcolor": "#E5ECF6",
          "polar": {
           "angularaxis": {
            "gridcolor": "white",
            "linecolor": "white",
            "ticks": ""
           },
           "bgcolor": "#E5ECF6",
           "radialaxis": {
            "gridcolor": "white",
            "linecolor": "white",
            "ticks": ""
           }
          },
          "scene": {
           "xaxis": {
            "backgroundcolor": "#E5ECF6",
            "gridcolor": "white",
            "gridwidth": 2,
            "linecolor": "white",
            "showbackground": true,
            "ticks": "",
            "zerolinecolor": "white"
           },
           "yaxis": {
            "backgroundcolor": "#E5ECF6",
            "gridcolor": "white",
            "gridwidth": 2,
            "linecolor": "white",
            "showbackground": true,
            "ticks": "",
            "zerolinecolor": "white"
           },
           "zaxis": {
            "backgroundcolor": "#E5ECF6",
            "gridcolor": "white",
            "gridwidth": 2,
            "linecolor": "white",
            "showbackground": true,
            "ticks": "",
            "zerolinecolor": "white"
           }
          },
          "shapedefaults": {
           "line": {
            "color": "#2a3f5f"
           }
          },
          "ternary": {
           "aaxis": {
            "gridcolor": "white",
            "linecolor": "white",
            "ticks": ""
           },
           "baxis": {
            "gridcolor": "white",
            "linecolor": "white",
            "ticks": ""
           },
           "bgcolor": "#E5ECF6",
           "caxis": {
            "gridcolor": "white",
            "linecolor": "white",
            "ticks": ""
           }
          },
          "title": {
           "x": 0.05
          },
          "xaxis": {
           "automargin": true,
           "gridcolor": "white",
           "linecolor": "white",
           "ticks": "",
           "title": {
            "standoff": 15
           },
           "zerolinecolor": "white",
           "zerolinewidth": 2
          },
          "yaxis": {
           "automargin": true,
           "gridcolor": "white",
           "linecolor": "white",
           "ticks": "",
           "title": {
            "standoff": 15
           },
           "zerolinecolor": "white",
           "zerolinewidth": 2
          }
         }
        },
        "title": {
         "text": "Number of Ratings Over Time"
        },
        "xaxis": {
         "anchor": "y",
         "domain": [
          0,
          1
         ],
         "title": {
          "text": "Year"
         }
        },
        "yaxis": {
         "anchor": "x",
         "domain": [
          0,
          1
         ],
         "title": {
          "text": "Number of Ratings"
         }
        }
       }
      }
     },
     "metadata": {},
     "output_type": "display_data"
    }
   ],
   "source": [
    "df['Datetime'] = pd.to_datetime(df['Timestamp'], unit='s')\n",
    "\n",
    "# Extract Year\n",
    "df['Year'] = df['Datetime'].dt.year\n",
    "\n",
    "# Group by Year and count ratings\n",
    "ratings_per_year = df['Year'].value_counts().sort_index()\n",
    "\n",
    "# Plot using plotly\n",
    "fig = px.line(\n",
    "    x=ratings_per_year.index,\n",
    "    y=ratings_per_year.values,\n",
    "    title=\"Number of Ratings Over Time\",\n",
    "    labels={\"x\": \"Year\", \"y\": \"Number of Ratings\"},\n",
    ")\n",
    "\n",
    "fig.show()\n"
   ]
  },
  {
   "cell_type": "code",
   "execution_count": null,
   "id": "b891e4c2",
   "metadata": {},
   "outputs": [
    {
     "data": {
      "application/vnd.plotly.v1+json": {
       "config": {
        "plotlyServerURL": "https://plot.ly"
       },
       "data": [
        {
         "hovertemplate": "Month=%{x}<br>Number of Ratings=%{y}<extra></extra>",
         "legendgroup": "",
         "line": {
          "color": "#636efa",
          "dash": "solid"
         },
         "marker": {
          "symbol": "circle"
         },
         "mode": "lines",
         "name": "",
         "orientation": "v",
         "showlegend": false,
         "type": "scatter",
         "x": [
          "2000-04",
          "2000-05",
          "2000-06",
          "2000-07",
          "2000-08",
          "2000-09",
          "2000-10",
          "2000-11",
          "2000-12",
          "2001-01",
          "2001-02",
          "2001-03",
          "2001-04",
          "2001-05",
          "2001-06",
          "2001-07",
          "2001-08",
          "2001-09",
          "2001-10",
          "2001-11",
          "2001-12",
          "2002-01",
          "2002-02",
          "2002-03",
          "2002-04",
          "2002-05",
          "2002-06",
          "2002-07",
          "2002-08",
          "2002-09",
          "2002-10",
          "2002-11",
          "2002-12",
          "2003-01",
          "2003-02"
         ],
         "xaxis": "x",
         "y": {
          "bdata": "hCwAAG0HAQDW1AAA3mABAF3HAgDFzAAANqUAAOlvBABPuwEAVEYAAMgfAADDFwAAMxQAAEsTAAB1EwAAnRIAAGYRAAAFDAAAkAgAAMgKAACoDQAAkAwAAMAJAACWCQAAGAsAAG4HAABrBgAAcQcAAD8IAAANBQAA9gMAAHQHAADwBAAAPAcAANgFAAA=",
          "dtype": "i4"
         },
         "yaxis": "y"
        }
       ],
       "layout": {
        "legend": {
         "tracegroupgap": 0
        },
        "template": {
         "data": {
          "bar": [
           {
            "error_x": {
             "color": "#2a3f5f"
            },
            "error_y": {
             "color": "#2a3f5f"
            },
            "marker": {
             "line": {
              "color": "#E5ECF6",
              "width": 0.5
             },
             "pattern": {
              "fillmode": "overlay",
              "size": 10,
              "solidity": 0.2
             }
            },
            "type": "bar"
           }
          ],
          "barpolar": [
           {
            "marker": {
             "line": {
              "color": "#E5ECF6",
              "width": 0.5
             },
             "pattern": {
              "fillmode": "overlay",
              "size": 10,
              "solidity": 0.2
             }
            },
            "type": "barpolar"
           }
          ],
          "carpet": [
           {
            "aaxis": {
             "endlinecolor": "#2a3f5f",
             "gridcolor": "white",
             "linecolor": "white",
             "minorgridcolor": "white",
             "startlinecolor": "#2a3f5f"
            },
            "baxis": {
             "endlinecolor": "#2a3f5f",
             "gridcolor": "white",
             "linecolor": "white",
             "minorgridcolor": "white",
             "startlinecolor": "#2a3f5f"
            },
            "type": "carpet"
           }
          ],
          "choropleth": [
           {
            "colorbar": {
             "outlinewidth": 0,
             "ticks": ""
            },
            "type": "choropleth"
           }
          ],
          "contour": [
           {
            "colorbar": {
             "outlinewidth": 0,
             "ticks": ""
            },
            "colorscale": [
             [
              0,
              "#0d0887"
             ],
             [
              0.1111111111111111,
              "#46039f"
             ],
             [
              0.2222222222222222,
              "#7201a8"
             ],
             [
              0.3333333333333333,
              "#9c179e"
             ],
             [
              0.4444444444444444,
              "#bd3786"
             ],
             [
              0.5555555555555556,
              "#d8576b"
             ],
             [
              0.6666666666666666,
              "#ed7953"
             ],
             [
              0.7777777777777778,
              "#fb9f3a"
             ],
             [
              0.8888888888888888,
              "#fdca26"
             ],
             [
              1,
              "#f0f921"
             ]
            ],
            "type": "contour"
           }
          ],
          "contourcarpet": [
           {
            "colorbar": {
             "outlinewidth": 0,
             "ticks": ""
            },
            "type": "contourcarpet"
           }
          ],
          "heatmap": [
           {
            "colorbar": {
             "outlinewidth": 0,
             "ticks": ""
            },
            "colorscale": [
             [
              0,
              "#0d0887"
             ],
             [
              0.1111111111111111,
              "#46039f"
             ],
             [
              0.2222222222222222,
              "#7201a8"
             ],
             [
              0.3333333333333333,
              "#9c179e"
             ],
             [
              0.4444444444444444,
              "#bd3786"
             ],
             [
              0.5555555555555556,
              "#d8576b"
             ],
             [
              0.6666666666666666,
              "#ed7953"
             ],
             [
              0.7777777777777778,
              "#fb9f3a"
             ],
             [
              0.8888888888888888,
              "#fdca26"
             ],
             [
              1,
              "#f0f921"
             ]
            ],
            "type": "heatmap"
           }
          ],
          "histogram": [
           {
            "marker": {
             "pattern": {
              "fillmode": "overlay",
              "size": 10,
              "solidity": 0.2
             }
            },
            "type": "histogram"
           }
          ],
          "histogram2d": [
           {
            "colorbar": {
             "outlinewidth": 0,
             "ticks": ""
            },
            "colorscale": [
             [
              0,
              "#0d0887"
             ],
             [
              0.1111111111111111,
              "#46039f"
             ],
             [
              0.2222222222222222,
              "#7201a8"
             ],
             [
              0.3333333333333333,
              "#9c179e"
             ],
             [
              0.4444444444444444,
              "#bd3786"
             ],
             [
              0.5555555555555556,
              "#d8576b"
             ],
             [
              0.6666666666666666,
              "#ed7953"
             ],
             [
              0.7777777777777778,
              "#fb9f3a"
             ],
             [
              0.8888888888888888,
              "#fdca26"
             ],
             [
              1,
              "#f0f921"
             ]
            ],
            "type": "histogram2d"
           }
          ],
          "histogram2dcontour": [
           {
            "colorbar": {
             "outlinewidth": 0,
             "ticks": ""
            },
            "colorscale": [
             [
              0,
              "#0d0887"
             ],
             [
              0.1111111111111111,
              "#46039f"
             ],
             [
              0.2222222222222222,
              "#7201a8"
             ],
             [
              0.3333333333333333,
              "#9c179e"
             ],
             [
              0.4444444444444444,
              "#bd3786"
             ],
             [
              0.5555555555555556,
              "#d8576b"
             ],
             [
              0.6666666666666666,
              "#ed7953"
             ],
             [
              0.7777777777777778,
              "#fb9f3a"
             ],
             [
              0.8888888888888888,
              "#fdca26"
             ],
             [
              1,
              "#f0f921"
             ]
            ],
            "type": "histogram2dcontour"
           }
          ],
          "mesh3d": [
           {
            "colorbar": {
             "outlinewidth": 0,
             "ticks": ""
            },
            "type": "mesh3d"
           }
          ],
          "parcoords": [
           {
            "line": {
             "colorbar": {
              "outlinewidth": 0,
              "ticks": ""
             }
            },
            "type": "parcoords"
           }
          ],
          "pie": [
           {
            "automargin": true,
            "type": "pie"
           }
          ],
          "scatter": [
           {
            "fillpattern": {
             "fillmode": "overlay",
             "size": 10,
             "solidity": 0.2
            },
            "type": "scatter"
           }
          ],
          "scatter3d": [
           {
            "line": {
             "colorbar": {
              "outlinewidth": 0,
              "ticks": ""
             }
            },
            "marker": {
             "colorbar": {
              "outlinewidth": 0,
              "ticks": ""
             }
            },
            "type": "scatter3d"
           }
          ],
          "scattercarpet": [
           {
            "marker": {
             "colorbar": {
              "outlinewidth": 0,
              "ticks": ""
             }
            },
            "type": "scattercarpet"
           }
          ],
          "scattergeo": [
           {
            "marker": {
             "colorbar": {
              "outlinewidth": 0,
              "ticks": ""
             }
            },
            "type": "scattergeo"
           }
          ],
          "scattergl": [
           {
            "marker": {
             "colorbar": {
              "outlinewidth": 0,
              "ticks": ""
             }
            },
            "type": "scattergl"
           }
          ],
          "scattermap": [
           {
            "marker": {
             "colorbar": {
              "outlinewidth": 0,
              "ticks": ""
             }
            },
            "type": "scattermap"
           }
          ],
          "scattermapbox": [
           {
            "marker": {
             "colorbar": {
              "outlinewidth": 0,
              "ticks": ""
             }
            },
            "type": "scattermapbox"
           }
          ],
          "scatterpolar": [
           {
            "marker": {
             "colorbar": {
              "outlinewidth": 0,
              "ticks": ""
             }
            },
            "type": "scatterpolar"
           }
          ],
          "scatterpolargl": [
           {
            "marker": {
             "colorbar": {
              "outlinewidth": 0,
              "ticks": ""
             }
            },
            "type": "scatterpolargl"
           }
          ],
          "scatterternary": [
           {
            "marker": {
             "colorbar": {
              "outlinewidth": 0,
              "ticks": ""
             }
            },
            "type": "scatterternary"
           }
          ],
          "surface": [
           {
            "colorbar": {
             "outlinewidth": 0,
             "ticks": ""
            },
            "colorscale": [
             [
              0,
              "#0d0887"
             ],
             [
              0.1111111111111111,
              "#46039f"
             ],
             [
              0.2222222222222222,
              "#7201a8"
             ],
             [
              0.3333333333333333,
              "#9c179e"
             ],
             [
              0.4444444444444444,
              "#bd3786"
             ],
             [
              0.5555555555555556,
              "#d8576b"
             ],
             [
              0.6666666666666666,
              "#ed7953"
             ],
             [
              0.7777777777777778,
              "#fb9f3a"
             ],
             [
              0.8888888888888888,
              "#fdca26"
             ],
             [
              1,
              "#f0f921"
             ]
            ],
            "type": "surface"
           }
          ],
          "table": [
           {
            "cells": {
             "fill": {
              "color": "#EBF0F8"
             },
             "line": {
              "color": "white"
             }
            },
            "header": {
             "fill": {
              "color": "#C8D4E3"
             },
             "line": {
              "color": "white"
             }
            },
            "type": "table"
           }
          ]
         },
         "layout": {
          "annotationdefaults": {
           "arrowcolor": "#2a3f5f",
           "arrowhead": 0,
           "arrowwidth": 1
          },
          "autotypenumbers": "strict",
          "coloraxis": {
           "colorbar": {
            "outlinewidth": 0,
            "ticks": ""
           }
          },
          "colorscale": {
           "diverging": [
            [
             0,
             "#8e0152"
            ],
            [
             0.1,
             "#c51b7d"
            ],
            [
             0.2,
             "#de77ae"
            ],
            [
             0.3,
             "#f1b6da"
            ],
            [
             0.4,
             "#fde0ef"
            ],
            [
             0.5,
             "#f7f7f7"
            ],
            [
             0.6,
             "#e6f5d0"
            ],
            [
             0.7,
             "#b8e186"
            ],
            [
             0.8,
             "#7fbc41"
            ],
            [
             0.9,
             "#4d9221"
            ],
            [
             1,
             "#276419"
            ]
           ],
           "sequential": [
            [
             0,
             "#0d0887"
            ],
            [
             0.1111111111111111,
             "#46039f"
            ],
            [
             0.2222222222222222,
             "#7201a8"
            ],
            [
             0.3333333333333333,
             "#9c179e"
            ],
            [
             0.4444444444444444,
             "#bd3786"
            ],
            [
             0.5555555555555556,
             "#d8576b"
            ],
            [
             0.6666666666666666,
             "#ed7953"
            ],
            [
             0.7777777777777778,
             "#fb9f3a"
            ],
            [
             0.8888888888888888,
             "#fdca26"
            ],
            [
             1,
             "#f0f921"
            ]
           ],
           "sequentialminus": [
            [
             0,
             "#0d0887"
            ],
            [
             0.1111111111111111,
             "#46039f"
            ],
            [
             0.2222222222222222,
             "#7201a8"
            ],
            [
             0.3333333333333333,
             "#9c179e"
            ],
            [
             0.4444444444444444,
             "#bd3786"
            ],
            [
             0.5555555555555556,
             "#d8576b"
            ],
            [
             0.6666666666666666,
             "#ed7953"
            ],
            [
             0.7777777777777778,
             "#fb9f3a"
            ],
            [
             0.8888888888888888,
             "#fdca26"
            ],
            [
             1,
             "#f0f921"
            ]
           ]
          },
          "colorway": [
           "#636efa",
           "#EF553B",
           "#00cc96",
           "#ab63fa",
           "#FFA15A",
           "#19d3f3",
           "#FF6692",
           "#B6E880",
           "#FF97FF",
           "#FECB52"
          ],
          "font": {
           "color": "#2a3f5f"
          },
          "geo": {
           "bgcolor": "white",
           "lakecolor": "white",
           "landcolor": "#E5ECF6",
           "showlakes": true,
           "showland": true,
           "subunitcolor": "white"
          },
          "hoverlabel": {
           "align": "left"
          },
          "hovermode": "closest",
          "mapbox": {
           "style": "light"
          },
          "paper_bgcolor": "white",
          "plot_bgcolor": "#E5ECF6",
          "polar": {
           "angularaxis": {
            "gridcolor": "white",
            "linecolor": "white",
            "ticks": ""
           },
           "bgcolor": "#E5ECF6",
           "radialaxis": {
            "gridcolor": "white",
            "linecolor": "white",
            "ticks": ""
           }
          },
          "scene": {
           "xaxis": {
            "backgroundcolor": "#E5ECF6",
            "gridcolor": "white",
            "gridwidth": 2,
            "linecolor": "white",
            "showbackground": true,
            "ticks": "",
            "zerolinecolor": "white"
           },
           "yaxis": {
            "backgroundcolor": "#E5ECF6",
            "gridcolor": "white",
            "gridwidth": 2,
            "linecolor": "white",
            "showbackground": true,
            "ticks": "",
            "zerolinecolor": "white"
           },
           "zaxis": {
            "backgroundcolor": "#E5ECF6",
            "gridcolor": "white",
            "gridwidth": 2,
            "linecolor": "white",
            "showbackground": true,
            "ticks": "",
            "zerolinecolor": "white"
           }
          },
          "shapedefaults": {
           "line": {
            "color": "#2a3f5f"
           }
          },
          "ternary": {
           "aaxis": {
            "gridcolor": "white",
            "linecolor": "white",
            "ticks": ""
           },
           "baxis": {
            "gridcolor": "white",
            "linecolor": "white",
            "ticks": ""
           },
           "bgcolor": "#E5ECF6",
           "caxis": {
            "gridcolor": "white",
            "linecolor": "white",
            "ticks": ""
           }
          },
          "title": {
           "x": 0.05
          },
          "xaxis": {
           "automargin": true,
           "gridcolor": "white",
           "linecolor": "white",
           "ticks": "",
           "title": {
            "standoff": 15
           },
           "zerolinecolor": "white",
           "zerolinewidth": 2
          },
          "yaxis": {
           "automargin": true,
           "gridcolor": "white",
           "linecolor": "white",
           "ticks": "",
           "title": {
            "standoff": 15
           },
           "zerolinecolor": "white",
           "zerolinewidth": 2
          }
         }
        },
        "title": {
         "text": "Number of Ratings Over Time (by Month)"
        },
        "xaxis": {
         "anchor": "y",
         "domain": [
          0,
          1
         ],
         "title": {
          "text": "Month"
         }
        },
        "yaxis": {
         "anchor": "x",
         "domain": [
          0,
          1
         ],
         "title": {
          "text": "Number of Ratings"
         }
        }
       }
      }
     },
     "metadata": {},
     "output_type": "display_data"
    }
   ],
   "source": [
    "df['Year_Month'] = df['Datetime'].dt.to_period('M')\n",
    "ratings_per_month = df['Year_Month'].value_counts().sort_index()\n",
    "fig = px.line(\n",
    "    x=ratings_per_month.index.astype(str),\n",
    "    y=ratings_per_month.values,\n",
    "    title=\"Number of Ratings Over Time (by Month)\",\n",
    "    labels={\"x\": \"Month\", \"y\": \"Number of Ratings\"},\n",
    ")\n",
    "fig.show()"
   ]
  },
  {
   "cell_type": "code",
   "execution_count": 111,
   "id": "0624d1de",
   "metadata": {},
   "outputs": [
    {
     "data": {
      "application/vnd.plotly.v1+json": {
       "config": {
        "plotlyServerURL": "https://plot.ly"
       },
       "data": [
        {
         "hovertemplate": "Day of the Week=%{x}<br>Number of Ratings=%{y}<extra></extra>",
         "legendgroup": "",
         "marker": {
          "color": "#636efa",
          "pattern": {
           "shape": ""
          }
         },
         "name": "",
         "orientation": "v",
         "showlegend": false,
         "textposition": "auto",
         "type": "bar",
         "x": [
          "Monday",
          "Tuesday",
          "Wednesday",
          "Thursday",
          "Friday",
          "Saturday",
          "Sunday"
         ],
         "xaxis": "x",
         "y": {
          "bdata": "a6cCAChuAgB4JwIAgi0CAJ75AQCUqAEAUjYCAA==",
          "dtype": "i4"
         },
         "yaxis": "y"
        }
       ],
       "layout": {
        "barmode": "relative",
        "legend": {
         "tracegroupgap": 0
        },
        "template": {
         "data": {
          "bar": [
           {
            "error_x": {
             "color": "#2a3f5f"
            },
            "error_y": {
             "color": "#2a3f5f"
            },
            "marker": {
             "line": {
              "color": "#E5ECF6",
              "width": 0.5
             },
             "pattern": {
              "fillmode": "overlay",
              "size": 10,
              "solidity": 0.2
             }
            },
            "type": "bar"
           }
          ],
          "barpolar": [
           {
            "marker": {
             "line": {
              "color": "#E5ECF6",
              "width": 0.5
             },
             "pattern": {
              "fillmode": "overlay",
              "size": 10,
              "solidity": 0.2
             }
            },
            "type": "barpolar"
           }
          ],
          "carpet": [
           {
            "aaxis": {
             "endlinecolor": "#2a3f5f",
             "gridcolor": "white",
             "linecolor": "white",
             "minorgridcolor": "white",
             "startlinecolor": "#2a3f5f"
            },
            "baxis": {
             "endlinecolor": "#2a3f5f",
             "gridcolor": "white",
             "linecolor": "white",
             "minorgridcolor": "white",
             "startlinecolor": "#2a3f5f"
            },
            "type": "carpet"
           }
          ],
          "choropleth": [
           {
            "colorbar": {
             "outlinewidth": 0,
             "ticks": ""
            },
            "type": "choropleth"
           }
          ],
          "contour": [
           {
            "colorbar": {
             "outlinewidth": 0,
             "ticks": ""
            },
            "colorscale": [
             [
              0,
              "#0d0887"
             ],
             [
              0.1111111111111111,
              "#46039f"
             ],
             [
              0.2222222222222222,
              "#7201a8"
             ],
             [
              0.3333333333333333,
              "#9c179e"
             ],
             [
              0.4444444444444444,
              "#bd3786"
             ],
             [
              0.5555555555555556,
              "#d8576b"
             ],
             [
              0.6666666666666666,
              "#ed7953"
             ],
             [
              0.7777777777777778,
              "#fb9f3a"
             ],
             [
              0.8888888888888888,
              "#fdca26"
             ],
             [
              1,
              "#f0f921"
             ]
            ],
            "type": "contour"
           }
          ],
          "contourcarpet": [
           {
            "colorbar": {
             "outlinewidth": 0,
             "ticks": ""
            },
            "type": "contourcarpet"
           }
          ],
          "heatmap": [
           {
            "colorbar": {
             "outlinewidth": 0,
             "ticks": ""
            },
            "colorscale": [
             [
              0,
              "#0d0887"
             ],
             [
              0.1111111111111111,
              "#46039f"
             ],
             [
              0.2222222222222222,
              "#7201a8"
             ],
             [
              0.3333333333333333,
              "#9c179e"
             ],
             [
              0.4444444444444444,
              "#bd3786"
             ],
             [
              0.5555555555555556,
              "#d8576b"
             ],
             [
              0.6666666666666666,
              "#ed7953"
             ],
             [
              0.7777777777777778,
              "#fb9f3a"
             ],
             [
              0.8888888888888888,
              "#fdca26"
             ],
             [
              1,
              "#f0f921"
             ]
            ],
            "type": "heatmap"
           }
          ],
          "histogram": [
           {
            "marker": {
             "pattern": {
              "fillmode": "overlay",
              "size": 10,
              "solidity": 0.2
             }
            },
            "type": "histogram"
           }
          ],
          "histogram2d": [
           {
            "colorbar": {
             "outlinewidth": 0,
             "ticks": ""
            },
            "colorscale": [
             [
              0,
              "#0d0887"
             ],
             [
              0.1111111111111111,
              "#46039f"
             ],
             [
              0.2222222222222222,
              "#7201a8"
             ],
             [
              0.3333333333333333,
              "#9c179e"
             ],
             [
              0.4444444444444444,
              "#bd3786"
             ],
             [
              0.5555555555555556,
              "#d8576b"
             ],
             [
              0.6666666666666666,
              "#ed7953"
             ],
             [
              0.7777777777777778,
              "#fb9f3a"
             ],
             [
              0.8888888888888888,
              "#fdca26"
             ],
             [
              1,
              "#f0f921"
             ]
            ],
            "type": "histogram2d"
           }
          ],
          "histogram2dcontour": [
           {
            "colorbar": {
             "outlinewidth": 0,
             "ticks": ""
            },
            "colorscale": [
             [
              0,
              "#0d0887"
             ],
             [
              0.1111111111111111,
              "#46039f"
             ],
             [
              0.2222222222222222,
              "#7201a8"
             ],
             [
              0.3333333333333333,
              "#9c179e"
             ],
             [
              0.4444444444444444,
              "#bd3786"
             ],
             [
              0.5555555555555556,
              "#d8576b"
             ],
             [
              0.6666666666666666,
              "#ed7953"
             ],
             [
              0.7777777777777778,
              "#fb9f3a"
             ],
             [
              0.8888888888888888,
              "#fdca26"
             ],
             [
              1,
              "#f0f921"
             ]
            ],
            "type": "histogram2dcontour"
           }
          ],
          "mesh3d": [
           {
            "colorbar": {
             "outlinewidth": 0,
             "ticks": ""
            },
            "type": "mesh3d"
           }
          ],
          "parcoords": [
           {
            "line": {
             "colorbar": {
              "outlinewidth": 0,
              "ticks": ""
             }
            },
            "type": "parcoords"
           }
          ],
          "pie": [
           {
            "automargin": true,
            "type": "pie"
           }
          ],
          "scatter": [
           {
            "fillpattern": {
             "fillmode": "overlay",
             "size": 10,
             "solidity": 0.2
            },
            "type": "scatter"
           }
          ],
          "scatter3d": [
           {
            "line": {
             "colorbar": {
              "outlinewidth": 0,
              "ticks": ""
             }
            },
            "marker": {
             "colorbar": {
              "outlinewidth": 0,
              "ticks": ""
             }
            },
            "type": "scatter3d"
           }
          ],
          "scattercarpet": [
           {
            "marker": {
             "colorbar": {
              "outlinewidth": 0,
              "ticks": ""
             }
            },
            "type": "scattercarpet"
           }
          ],
          "scattergeo": [
           {
            "marker": {
             "colorbar": {
              "outlinewidth": 0,
              "ticks": ""
             }
            },
            "type": "scattergeo"
           }
          ],
          "scattergl": [
           {
            "marker": {
             "colorbar": {
              "outlinewidth": 0,
              "ticks": ""
             }
            },
            "type": "scattergl"
           }
          ],
          "scattermap": [
           {
            "marker": {
             "colorbar": {
              "outlinewidth": 0,
              "ticks": ""
             }
            },
            "type": "scattermap"
           }
          ],
          "scattermapbox": [
           {
            "marker": {
             "colorbar": {
              "outlinewidth": 0,
              "ticks": ""
             }
            },
            "type": "scattermapbox"
           }
          ],
          "scatterpolar": [
           {
            "marker": {
             "colorbar": {
              "outlinewidth": 0,
              "ticks": ""
             }
            },
            "type": "scatterpolar"
           }
          ],
          "scatterpolargl": [
           {
            "marker": {
             "colorbar": {
              "outlinewidth": 0,
              "ticks": ""
             }
            },
            "type": "scatterpolargl"
           }
          ],
          "scatterternary": [
           {
            "marker": {
             "colorbar": {
              "outlinewidth": 0,
              "ticks": ""
             }
            },
            "type": "scatterternary"
           }
          ],
          "surface": [
           {
            "colorbar": {
             "outlinewidth": 0,
             "ticks": ""
            },
            "colorscale": [
             [
              0,
              "#0d0887"
             ],
             [
              0.1111111111111111,
              "#46039f"
             ],
             [
              0.2222222222222222,
              "#7201a8"
             ],
             [
              0.3333333333333333,
              "#9c179e"
             ],
             [
              0.4444444444444444,
              "#bd3786"
             ],
             [
              0.5555555555555556,
              "#d8576b"
             ],
             [
              0.6666666666666666,
              "#ed7953"
             ],
             [
              0.7777777777777778,
              "#fb9f3a"
             ],
             [
              0.8888888888888888,
              "#fdca26"
             ],
             [
              1,
              "#f0f921"
             ]
            ],
            "type": "surface"
           }
          ],
          "table": [
           {
            "cells": {
             "fill": {
              "color": "#EBF0F8"
             },
             "line": {
              "color": "white"
             }
            },
            "header": {
             "fill": {
              "color": "#C8D4E3"
             },
             "line": {
              "color": "white"
             }
            },
            "type": "table"
           }
          ]
         },
         "layout": {
          "annotationdefaults": {
           "arrowcolor": "#2a3f5f",
           "arrowhead": 0,
           "arrowwidth": 1
          },
          "autotypenumbers": "strict",
          "coloraxis": {
           "colorbar": {
            "outlinewidth": 0,
            "ticks": ""
           }
          },
          "colorscale": {
           "diverging": [
            [
             0,
             "#8e0152"
            ],
            [
             0.1,
             "#c51b7d"
            ],
            [
             0.2,
             "#de77ae"
            ],
            [
             0.3,
             "#f1b6da"
            ],
            [
             0.4,
             "#fde0ef"
            ],
            [
             0.5,
             "#f7f7f7"
            ],
            [
             0.6,
             "#e6f5d0"
            ],
            [
             0.7,
             "#b8e186"
            ],
            [
             0.8,
             "#7fbc41"
            ],
            [
             0.9,
             "#4d9221"
            ],
            [
             1,
             "#276419"
            ]
           ],
           "sequential": [
            [
             0,
             "#0d0887"
            ],
            [
             0.1111111111111111,
             "#46039f"
            ],
            [
             0.2222222222222222,
             "#7201a8"
            ],
            [
             0.3333333333333333,
             "#9c179e"
            ],
            [
             0.4444444444444444,
             "#bd3786"
            ],
            [
             0.5555555555555556,
             "#d8576b"
            ],
            [
             0.6666666666666666,
             "#ed7953"
            ],
            [
             0.7777777777777778,
             "#fb9f3a"
            ],
            [
             0.8888888888888888,
             "#fdca26"
            ],
            [
             1,
             "#f0f921"
            ]
           ],
           "sequentialminus": [
            [
             0,
             "#0d0887"
            ],
            [
             0.1111111111111111,
             "#46039f"
            ],
            [
             0.2222222222222222,
             "#7201a8"
            ],
            [
             0.3333333333333333,
             "#9c179e"
            ],
            [
             0.4444444444444444,
             "#bd3786"
            ],
            [
             0.5555555555555556,
             "#d8576b"
            ],
            [
             0.6666666666666666,
             "#ed7953"
            ],
            [
             0.7777777777777778,
             "#fb9f3a"
            ],
            [
             0.8888888888888888,
             "#fdca26"
            ],
            [
             1,
             "#f0f921"
            ]
           ]
          },
          "colorway": [
           "#636efa",
           "#EF553B",
           "#00cc96",
           "#ab63fa",
           "#FFA15A",
           "#19d3f3",
           "#FF6692",
           "#B6E880",
           "#FF97FF",
           "#FECB52"
          ],
          "font": {
           "color": "#2a3f5f"
          },
          "geo": {
           "bgcolor": "white",
           "lakecolor": "white",
           "landcolor": "#E5ECF6",
           "showlakes": true,
           "showland": true,
           "subunitcolor": "white"
          },
          "hoverlabel": {
           "align": "left"
          },
          "hovermode": "closest",
          "mapbox": {
           "style": "light"
          },
          "paper_bgcolor": "white",
          "plot_bgcolor": "#E5ECF6",
          "polar": {
           "angularaxis": {
            "gridcolor": "white",
            "linecolor": "white",
            "ticks": ""
           },
           "bgcolor": "#E5ECF6",
           "radialaxis": {
            "gridcolor": "white",
            "linecolor": "white",
            "ticks": ""
           }
          },
          "scene": {
           "xaxis": {
            "backgroundcolor": "#E5ECF6",
            "gridcolor": "white",
            "gridwidth": 2,
            "linecolor": "white",
            "showbackground": true,
            "ticks": "",
            "zerolinecolor": "white"
           },
           "yaxis": {
            "backgroundcolor": "#E5ECF6",
            "gridcolor": "white",
            "gridwidth": 2,
            "linecolor": "white",
            "showbackground": true,
            "ticks": "",
            "zerolinecolor": "white"
           },
           "zaxis": {
            "backgroundcolor": "#E5ECF6",
            "gridcolor": "white",
            "gridwidth": 2,
            "linecolor": "white",
            "showbackground": true,
            "ticks": "",
            "zerolinecolor": "white"
           }
          },
          "shapedefaults": {
           "line": {
            "color": "#2a3f5f"
           }
          },
          "ternary": {
           "aaxis": {
            "gridcolor": "white",
            "linecolor": "white",
            "ticks": ""
           },
           "baxis": {
            "gridcolor": "white",
            "linecolor": "white",
            "ticks": ""
           },
           "bgcolor": "#E5ECF6",
           "caxis": {
            "gridcolor": "white",
            "linecolor": "white",
            "ticks": ""
           }
          },
          "title": {
           "x": 0.05
          },
          "xaxis": {
           "automargin": true,
           "gridcolor": "white",
           "linecolor": "white",
           "ticks": "",
           "title": {
            "standoff": 15
           },
           "zerolinecolor": "white",
           "zerolinewidth": 2
          },
          "yaxis": {
           "automargin": true,
           "gridcolor": "white",
           "linecolor": "white",
           "ticks": "",
           "title": {
            "standoff": 15
           },
           "zerolinecolor": "white",
           "zerolinewidth": 2
          }
         }
        },
        "title": {
         "text": "Number of Ratings by Day of the Week"
        },
        "xaxis": {
         "anchor": "y",
         "domain": [
          0,
          1
         ],
         "title": {
          "text": "Day of the Week"
         }
        },
        "yaxis": {
         "anchor": "x",
         "domain": [
          0,
          1
         ],
         "title": {
          "text": "Number of Ratings"
         }
        }
       }
      }
     },
     "metadata": {},
     "output_type": "display_data"
    }
   ],
   "source": [
    "df['DayOfWeek'] = df['Datetime'].dt.day_name()\n",
    "\n",
    "ratings_per_day = df['DayOfWeek'].value_counts()\n",
    "\n",
    "days_of_week = ['Monday', 'Tuesday', 'Wednesday', 'Thursday', 'Friday', 'Saturday', 'Sunday']\n",
    "ratings_per_day = ratings_per_day.reindex(days_of_week)\n",
    "fig = px.bar(\n",
    "    x=ratings_per_day.index,\n",
    "    y=ratings_per_day.values,\n",
    "    title=\"Number of Ratings by Day of the Week\",\n",
    "    labels={\"x\": \"Day of the Week\", \"y\": \"Number of Ratings\"},\n",
    ")\n",
    "fig.show()"
   ]
  },
  {
   "cell_type": "code",
   "execution_count": null,
   "id": "8f985ea3",
   "metadata": {},
   "outputs": [
    {
     "name": "stdout",
     "output_type": "stream",
     "text": [
      "How many ratings do users do?\n",
      "Descriptive statistics:\n",
      "count    6040.000000\n",
      "mean      165.597517\n",
      "std       192.747029\n",
      "min        20.000000\n",
      "25%        44.000000\n",
      "50%        96.000000\n",
      "75%       208.000000\n",
      "max      2314.000000\n",
      "Name: count, dtype: float64\n"
     ]
    }
   ],
   "source": [
    "ratings_per_user = df['UserID'].value_counts()\n",
    "\n",
    "print(\"How many ratings do users do?\")\n",
    "print(\"Descriptive statistics:\")\n",
    "print(ratings_per_user.describe())"
   ]
  },
  {
   "cell_type": "code",
   "execution_count": null,
   "id": "f659e930",
   "metadata": {},
   "outputs": [],
   "source": []
  }
 ],
 "metadata": {
  "kernelspec": {
   "display_name": ".venv",
   "language": "python",
   "name": "python3"
  },
  "language_info": {
   "codemirror_mode": {
    "name": "ipython",
    "version": 3
   },
   "file_extension": ".py",
   "mimetype": "text/x-python",
   "name": "python",
   "nbconvert_exporter": "python",
   "pygments_lexer": "ipython3",
   "version": "3.9.21"
  }
 },
 "nbformat": 4,
 "nbformat_minor": 5
}
