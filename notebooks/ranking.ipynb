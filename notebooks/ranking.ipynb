{
 "cells": [
  {
   "cell_type": "code",
   "execution_count": 44,
   "metadata": {},
   "outputs": [],
   "source": [
    "import pandas as pd\n",
    "import tensorflow as tf\n",
    "import numpy as np\n",
    "import os\n",
    "from tensorflow import keras\n",
    "from tensorflow.keras.layers import Input, Embedding, Flatten, Dense, Concatenate\n",
    "from sklearn.model_selection import train_test_split\n",
    "from tensorflow.keras.callbacks import EarlyStopping\n",
    "from tensorflow.keras.regularizers import l2\n",
    "from tensorflow.keras.layers import Dropout\n",
    "import plotly.graph_objects as go\n",
    "import plotly.express as px\n",
    "from plotly.subplots import make_subplots"
   ]
  },
  {
   "cell_type": "code",
   "execution_count": 65,
   "metadata": {},
   "outputs": [],
   "source": [
    "PROCESSED_DATA_DIR = \"../data/processed/\"\n",
    "MODEL_DIR = \"../models/\"\n",
    "MODEL_PATH = os.path.join(MODEL_DIR, \"recommender_model_02_ranking.keras\")"
   ]
  },
  {
   "cell_type": "code",
   "execution_count": 46,
   "metadata": {},
   "outputs": [],
   "source": [
    "df = pd.read_csv(os.path.join(PROCESSED_DATA_DIR, \"movielens_1m_preprocessed.csv\"), low_memory=False)"
   ]
  },
  {
   "cell_type": "code",
   "execution_count": 47,
   "metadata": {},
   "outputs": [],
   "source": [
    "# Create a new dataframe with renamed columns\n",
    "ratings = df.rename(columns={\n",
    "    'MovieID': 'movie_id',\n",
    "    'UserID': 'user_id', \n",
    "    'Rating': 'user_rating'\n",
    "})\n",
    "ratings = ratings[['user_id', 'movie_id', 'user_rating']]"
   ]
  },
  {
   "cell_type": "markdown",
   "metadata": {},
   "source": [
    "# Per Movie Ratings Distribution\n",
    "\n",
    "Snažíme sa získať perspektívu o distribúcii hodnotení jednotlivých filmov. Dataset MOVIELENS 1M nám garantuje, že každý používateľ ohodnotil aspoň 20 filmov. Nemáme však žiadnu garanciu o tom, či každý film dostal aspoň X hodnotení. \n",
    "Zrejme bude vhodné zbaviť sa filmov, ktoré dostali menej hodnotení ako X, pričom nechceme vybrať X také, aby sme nevyhodnotili príliš veľký počet filmov. Odstránenie filmov s menej  hodnoteniami zabezpečí spoľahlivejšie odporúčania."
   ]
  },
  {
   "cell_type": "code",
   "execution_count": 48,
   "metadata": {},
   "outputs": [
    {
     "data": {
      "application/vnd.plotly.v1+json": {
       "config": {
        "plotlyServerURL": "https://plot.ly"
       },
       "data": [
        {
         "bingroup": "x",
         "hovertemplate": "Number of Ratings=%{x}<br>count=%{y}<extra></extra>",
         "legendgroup": "",
         "marker": {
          "color": "#636efa",
          "pattern": {
           "shape": ""
          }
         },
         "name": "",
         "nbinsx": 100,
         "orientation": "v",
         "showlegend": false,
         "type": "histogram",
         "x": {
          "bdata": "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",
          "dtype": "i2"
         },
         "xaxis": "x",
         "yaxis": "y"
        }
       ],
       "layout": {
        "barmode": "relative",
        "legend": {
         "tracegroupgap": 0
        },
        "template": {
         "data": {
          "bar": [
           {
            "error_x": {
             "color": "#2a3f5f"
            },
            "error_y": {
             "color": "#2a3f5f"
            },
            "marker": {
             "line": {
              "color": "#E5ECF6",
              "width": 0.5
             },
             "pattern": {
              "fillmode": "overlay",
              "size": 10,
              "solidity": 0.2
             }
            },
            "type": "bar"
           }
          ],
          "barpolar": [
           {
            "marker": {
             "line": {
              "color": "#E5ECF6",
              "width": 0.5
             },
             "pattern": {
              "fillmode": "overlay",
              "size": 10,
              "solidity": 0.2
             }
            },
            "type": "barpolar"
           }
          ],
          "carpet": [
           {
            "aaxis": {
             "endlinecolor": "#2a3f5f",
             "gridcolor": "white",
             "linecolor": "white",
             "minorgridcolor": "white",
             "startlinecolor": "#2a3f5f"
            },
            "baxis": {
             "endlinecolor": "#2a3f5f",
             "gridcolor": "white",
             "linecolor": "white",
             "minorgridcolor": "white",
             "startlinecolor": "#2a3f5f"
            },
            "type": "carpet"
           }
          ],
          "choropleth": [
           {
            "colorbar": {
             "outlinewidth": 0,
             "ticks": ""
            },
            "type": "choropleth"
           }
          ],
          "contour": [
           {
            "colorbar": {
             "outlinewidth": 0,
             "ticks": ""
            },
            "colorscale": [
             [
              0,
              "#0d0887"
             ],
             [
              0.1111111111111111,
              "#46039f"
             ],
             [
              0.2222222222222222,
              "#7201a8"
             ],
             [
              0.3333333333333333,
              "#9c179e"
             ],
             [
              0.4444444444444444,
              "#bd3786"
             ],
             [
              0.5555555555555556,
              "#d8576b"
             ],
             [
              0.6666666666666666,
              "#ed7953"
             ],
             [
              0.7777777777777778,
              "#fb9f3a"
             ],
             [
              0.8888888888888888,
              "#fdca26"
             ],
             [
              1,
              "#f0f921"
             ]
            ],
            "type": "contour"
           }
          ],
          "contourcarpet": [
           {
            "colorbar": {
             "outlinewidth": 0,
             "ticks": ""
            },
            "type": "contourcarpet"
           }
          ],
          "heatmap": [
           {
            "colorbar": {
             "outlinewidth": 0,
             "ticks": ""
            },
            "colorscale": [
             [
              0,
              "#0d0887"
             ],
             [
              0.1111111111111111,
              "#46039f"
             ],
             [
              0.2222222222222222,
              "#7201a8"
             ],
             [
              0.3333333333333333,
              "#9c179e"
             ],
             [
              0.4444444444444444,
              "#bd3786"
             ],
             [
              0.5555555555555556,
              "#d8576b"
             ],
             [
              0.6666666666666666,
              "#ed7953"
             ],
             [
              0.7777777777777778,
              "#fb9f3a"
             ],
             [
              0.8888888888888888,
              "#fdca26"
             ],
             [
              1,
              "#f0f921"
             ]
            ],
            "type": "heatmap"
           }
          ],
          "histogram": [
           {
            "marker": {
             "pattern": {
              "fillmode": "overlay",
              "size": 10,
              "solidity": 0.2
             }
            },
            "type": "histogram"
           }
          ],
          "histogram2d": [
           {
            "colorbar": {
             "outlinewidth": 0,
             "ticks": ""
            },
            "colorscale": [
             [
              0,
              "#0d0887"
             ],
             [
              0.1111111111111111,
              "#46039f"
             ],
             [
              0.2222222222222222,
              "#7201a8"
             ],
             [
              0.3333333333333333,
              "#9c179e"
             ],
             [
              0.4444444444444444,
              "#bd3786"
             ],
             [
              0.5555555555555556,
              "#d8576b"
             ],
             [
              0.6666666666666666,
              "#ed7953"
             ],
             [
              0.7777777777777778,
              "#fb9f3a"
             ],
             [
              0.8888888888888888,
              "#fdca26"
             ],
             [
              1,
              "#f0f921"
             ]
            ],
            "type": "histogram2d"
           }
          ],
          "histogram2dcontour": [
           {
            "colorbar": {
             "outlinewidth": 0,
             "ticks": ""
            },
            "colorscale": [
             [
              0,
              "#0d0887"
             ],
             [
              0.1111111111111111,
              "#46039f"
             ],
             [
              0.2222222222222222,
              "#7201a8"
             ],
             [
              0.3333333333333333,
              "#9c179e"
             ],
             [
              0.4444444444444444,
              "#bd3786"
             ],
             [
              0.5555555555555556,
              "#d8576b"
             ],
             [
              0.6666666666666666,
              "#ed7953"
             ],
             [
              0.7777777777777778,
              "#fb9f3a"
             ],
             [
              0.8888888888888888,
              "#fdca26"
             ],
             [
              1,
              "#f0f921"
             ]
            ],
            "type": "histogram2dcontour"
           }
          ],
          "mesh3d": [
           {
            "colorbar": {
             "outlinewidth": 0,
             "ticks": ""
            },
            "type": "mesh3d"
           }
          ],
          "parcoords": [
           {
            "line": {
             "colorbar": {
              "outlinewidth": 0,
              "ticks": ""
             }
            },
            "type": "parcoords"
           }
          ],
          "pie": [
           {
            "automargin": true,
            "type": "pie"
           }
          ],
          "scatter": [
           {
            "fillpattern": {
             "fillmode": "overlay",
             "size": 10,
             "solidity": 0.2
            },
            "type": "scatter"
           }
          ],
          "scatter3d": [
           {
            "line": {
             "colorbar": {
              "outlinewidth": 0,
              "ticks": ""
             }
            },
            "marker": {
             "colorbar": {
              "outlinewidth": 0,
              "ticks": ""
             }
            },
            "type": "scatter3d"
           }
          ],
          "scattercarpet": [
           {
            "marker": {
             "colorbar": {
              "outlinewidth": 0,
              "ticks": ""
             }
            },
            "type": "scattercarpet"
           }
          ],
          "scattergeo": [
           {
            "marker": {
             "colorbar": {
              "outlinewidth": 0,
              "ticks": ""
             }
            },
            "type": "scattergeo"
           }
          ],
          "scattergl": [
           {
            "marker": {
             "colorbar": {
              "outlinewidth": 0,
              "ticks": ""
             }
            },
            "type": "scattergl"
           }
          ],
          "scattermap": [
           {
            "marker": {
             "colorbar": {
              "outlinewidth": 0,
              "ticks": ""
             }
            },
            "type": "scattermap"
           }
          ],
          "scattermapbox": [
           {
            "marker": {
             "colorbar": {
              "outlinewidth": 0,
              "ticks": ""
             }
            },
            "type": "scattermapbox"
           }
          ],
          "scatterpolar": [
           {
            "marker": {
             "colorbar": {
              "outlinewidth": 0,
              "ticks": ""
             }
            },
            "type": "scatterpolar"
           }
          ],
          "scatterpolargl": [
           {
            "marker": {
             "colorbar": {
              "outlinewidth": 0,
              "ticks": ""
             }
            },
            "type": "scatterpolargl"
           }
          ],
          "scatterternary": [
           {
            "marker": {
             "colorbar": {
              "outlinewidth": 0,
              "ticks": ""
             }
            },
            "type": "scatterternary"
           }
          ],
          "surface": [
           {
            "colorbar": {
             "outlinewidth": 0,
             "ticks": ""
            },
            "colorscale": [
             [
              0,
              "#0d0887"
             ],
             [
              0.1111111111111111,
              "#46039f"
             ],
             [
              0.2222222222222222,
              "#7201a8"
             ],
             [
              0.3333333333333333,
              "#9c179e"
             ],
             [
              0.4444444444444444,
              "#bd3786"
             ],
             [
              0.5555555555555556,
              "#d8576b"
             ],
             [
              0.6666666666666666,
              "#ed7953"
             ],
             [
              0.7777777777777778,
              "#fb9f3a"
             ],
             [
              0.8888888888888888,
              "#fdca26"
             ],
             [
              1,
              "#f0f921"
             ]
            ],
            "type": "surface"
           }
          ],
          "table": [
           {
            "cells": {
             "fill": {
              "color": "#EBF0F8"
             },
             "line": {
              "color": "white"
             }
            },
            "header": {
             "fill": {
              "color": "#C8D4E3"
             },
             "line": {
              "color": "white"
             }
            },
            "type": "table"
           }
          ]
         },
         "layout": {
          "annotationdefaults": {
           "arrowcolor": "#2a3f5f",
           "arrowhead": 0,
           "arrowwidth": 1
          },
          "autotypenumbers": "strict",
          "coloraxis": {
           "colorbar": {
            "outlinewidth": 0,
            "ticks": ""
           }
          },
          "colorscale": {
           "diverging": [
            [
             0,
             "#8e0152"
            ],
            [
             0.1,
             "#c51b7d"
            ],
            [
             0.2,
             "#de77ae"
            ],
            [
             0.3,
             "#f1b6da"
            ],
            [
             0.4,
             "#fde0ef"
            ],
            [
             0.5,
             "#f7f7f7"
            ],
            [
             0.6,
             "#e6f5d0"
            ],
            [
             0.7,
             "#b8e186"
            ],
            [
             0.8,
             "#7fbc41"
            ],
            [
             0.9,
             "#4d9221"
            ],
            [
             1,
             "#276419"
            ]
           ],
           "sequential": [
            [
             0,
             "#0d0887"
            ],
            [
             0.1111111111111111,
             "#46039f"
            ],
            [
             0.2222222222222222,
             "#7201a8"
            ],
            [
             0.3333333333333333,
             "#9c179e"
            ],
            [
             0.4444444444444444,
             "#bd3786"
            ],
            [
             0.5555555555555556,
             "#d8576b"
            ],
            [
             0.6666666666666666,
             "#ed7953"
            ],
            [
             0.7777777777777778,
             "#fb9f3a"
            ],
            [
             0.8888888888888888,
             "#fdca26"
            ],
            [
             1,
             "#f0f921"
            ]
           ],
           "sequentialminus": [
            [
             0,
             "#0d0887"
            ],
            [
             0.1111111111111111,
             "#46039f"
            ],
            [
             0.2222222222222222,
             "#7201a8"
            ],
            [
             0.3333333333333333,
             "#9c179e"
            ],
            [
             0.4444444444444444,
             "#bd3786"
            ],
            [
             0.5555555555555556,
             "#d8576b"
            ],
            [
             0.6666666666666666,
             "#ed7953"
            ],
            [
             0.7777777777777778,
             "#fb9f3a"
            ],
            [
             0.8888888888888888,
             "#fdca26"
            ],
            [
             1,
             "#f0f921"
            ]
           ]
          },
          "colorway": [
           "#636efa",
           "#EF553B",
           "#00cc96",
           "#ab63fa",
           "#FFA15A",
           "#19d3f3",
           "#FF6692",
           "#B6E880",
           "#FF97FF",
           "#FECB52"
          ],
          "font": {
           "color": "#2a3f5f"
          },
          "geo": {
           "bgcolor": "white",
           "lakecolor": "white",
           "landcolor": "#E5ECF6",
           "showlakes": true,
           "showland": true,
           "subunitcolor": "white"
          },
          "hoverlabel": {
           "align": "left"
          },
          "hovermode": "closest",
          "mapbox": {
           "style": "light"
          },
          "paper_bgcolor": "white",
          "plot_bgcolor": "#E5ECF6",
          "polar": {
           "angularaxis": {
            "gridcolor": "white",
            "linecolor": "white",
            "ticks": ""
           },
           "bgcolor": "#E5ECF6",
           "radialaxis": {
            "gridcolor": "white",
            "linecolor": "white",
            "ticks": ""
           }
          },
          "scene": {
           "xaxis": {
            "backgroundcolor": "#E5ECF6",
            "gridcolor": "white",
            "gridwidth": 2,
            "linecolor": "white",
            "showbackground": true,
            "ticks": "",
            "zerolinecolor": "white"
           },
           "yaxis": {
            "backgroundcolor": "#E5ECF6",
            "gridcolor": "white",
            "gridwidth": 2,
            "linecolor": "white",
            "showbackground": true,
            "ticks": "",
            "zerolinecolor": "white"
           },
           "zaxis": {
            "backgroundcolor": "#E5ECF6",
            "gridcolor": "white",
            "gridwidth": 2,
            "linecolor": "white",
            "showbackground": true,
            "ticks": "",
            "zerolinecolor": "white"
           }
          },
          "shapedefaults": {
           "line": {
            "color": "#2a3f5f"
           }
          },
          "ternary": {
           "aaxis": {
            "gridcolor": "white",
            "linecolor": "white",
            "ticks": ""
           },
           "baxis": {
            "gridcolor": "white",
            "linecolor": "white",
            "ticks": ""
           },
           "bgcolor": "#E5ECF6",
           "caxis": {
            "gridcolor": "white",
            "linecolor": "white",
            "ticks": ""
           }
          },
          "title": {
           "x": 0.05
          },
          "xaxis": {
           "automargin": true,
           "gridcolor": "white",
           "linecolor": "white",
           "ticks": "",
           "title": {
            "standoff": 15
           },
           "zerolinecolor": "white",
           "zerolinewidth": 2
          },
          "yaxis": {
           "automargin": true,
           "gridcolor": "white",
           "linecolor": "white",
           "ticks": "",
           "title": {
            "standoff": 15
           },
           "zerolinecolor": "white",
           "zerolinewidth": 2
          }
         }
        },
        "title": {
         "text": "Distribution of Ratings per Movie"
        },
        "xaxis": {
         "anchor": "y",
         "domain": [
          0,
          1
         ],
         "title": {
          "text": "Number of Ratings"
         }
        },
        "yaxis": {
         "anchor": "x",
         "domain": [
          0,
          1
         ],
         "title": {
          "text": "count"
         }
        }
       }
      }
     },
     "metadata": {},
     "output_type": "display_data"
    },
    {
     "name": "stdout",
     "output_type": "stream",
     "text": [
      "Rating count statistics:\n",
      "count    3706.000000\n",
      "mean      269.889099\n",
      "std       384.047838\n",
      "min         1.000000\n",
      "25%        33.000000\n",
      "50%       123.500000\n",
      "75%       350.000000\n",
      "max      3428.000000\n",
      "Name: rating_count, dtype: float64\n",
      "\n",
      "Total movie count: 3706\n",
      "\n",
      "Movies with less than 5 ratings: 290 - 7.83%\n",
      "\n",
      "Movies with less than 10 ratings: 446 - 12.03%\n",
      "\n",
      "Movies with less than 15 ratings: 572 - 15.43%\n",
      "\n",
      "Movies with less than 20 ratings: 663 - 17.89%\n",
      "\n",
      "Movies with less than 25 ratings: 772 - 20.83%\n",
      "\n",
      "Movies with less than 30 ratings: 870 - 23.48%\n"
     ]
    }
   ],
   "source": [
    "# Get rating counts per movie\n",
    "movie_rating_counts = ratings.groupby('movie_id')['user_rating'].count().reset_index()\n",
    "movie_rating_counts = movie_rating_counts.rename(columns={'user_rating': 'rating_count'})\n",
    "\n",
    "# Create interactive histogram\n",
    "fig = px.histogram(\n",
    "    movie_rating_counts, \n",
    "    x='rating_count',\n",
    "    title='Distribution of Ratings per Movie',\n",
    "    labels={'rating_count': 'Number of Ratings', 'count': 'Number of Movies'},\n",
    "    nbins=100\n",
    ")\n",
    "fig.show()\n",
    "\n",
    "# Print some statistics\n",
    "print(\"Rating count statistics:\")\n",
    "print(movie_rating_counts['rating_count'].describe())\n",
    "\n",
    "# Get movies with very few ratings (e.g., less than 10)\n",
    "print(f\"\\nTotal movie count: {len(movie_rating_counts)}\")\n",
    "low_rated_movies = movie_rating_counts[movie_rating_counts['rating_count'] < 5]\n",
    "print(f\"\\nMovies with less than 5 ratings: {len(low_rated_movies)} - {len(low_rated_movies)/len(movie_rating_counts)*100:.2f}%\")\n",
    "low_rated_movies = movie_rating_counts[movie_rating_counts['rating_count'] < 10]\n",
    "print(f\"\\nMovies with less than 10 ratings: {len(low_rated_movies)} - {len(low_rated_movies)/len(movie_rating_counts)*100:.2f}%\")\n",
    "low_rated_movies = movie_rating_counts[movie_rating_counts['rating_count'] < 15]\n",
    "print(f\"\\nMovies with less than 15 ratings: {len(low_rated_movies)} - {len(low_rated_movies)/len(movie_rating_counts)*100:.2f}%\")\n",
    "low_rated_movies = movie_rating_counts[movie_rating_counts['rating_count'] < 20]\n",
    "print(f\"\\nMovies with less than 20 ratings: {len(low_rated_movies)} - {len(low_rated_movies)/len(movie_rating_counts)*100:.2f}%\")\n",
    "low_rated_movies = movie_rating_counts[movie_rating_counts['rating_count'] < 25]\n",
    "print(f\"\\nMovies with less than 25 ratings: {len(low_rated_movies)} - {len(low_rated_movies)/len(movie_rating_counts)*100:.2f}%\")\n",
    "low_rated_movies = movie_rating_counts[movie_rating_counts['rating_count'] < 30]\n",
    "print(f\"\\nMovies with less than 30 ratings: {len(low_rated_movies)} - {len(low_rated_movies)/len(movie_rating_counts)*100:.2f}%\")"
   ]
  },
  {
   "cell_type": "markdown",
   "metadata": {},
   "source": [
    "## Odstránenie málo hodnotených filmov\n",
    "\n",
    "Vhodný hodnota thersholdu minima hodnotení filmu sa javí byť 10. Ak odstránime všetky filmy, ktoré majú menej hodnotení ako 10 ostane nám stále 88% filmov a zbavíme sa menej výzbnamných filmov."
   ]
  },
  {
   "cell_type": "code",
   "execution_count": 49,
   "metadata": {},
   "outputs": [
    {
     "name": "stdout",
     "output_type": "stream",
     "text": [
      "Original ratings count: 1000209\n",
      "Filtered ratings count: 998539\n",
      "Removed movies: 1670\n"
     ]
    }
   ],
   "source": [
    "MIN_RATINGS = 10\n",
    "valid_movies = movie_rating_counts[movie_rating_counts['rating_count'] >= MIN_RATINGS]['movie_id']\n",
    "filtered_ratings = ratings[ratings['movie_id'].isin(valid_movies)]\n",
    "\n",
    "print(f\"Original ratings count: {len(ratings)}\")\n",
    "print(f\"Filtered ratings count: {len(filtered_ratings)}\")\n",
    "print(f\"Removed movies: {len(ratings) - len(filtered_ratings)}\")"
   ]
  },
  {
   "cell_type": "code",
   "execution_count": 50,
   "metadata": {},
   "outputs": [],
   "source": [
    "original_ratings = ratings.copy()\n",
    "ratings = filtered_ratings.copy()"
   ]
  },
  {
   "cell_type": "code",
   "execution_count": 51,
   "metadata": {},
   "outputs": [],
   "source": [
    "unique_user_ids = ratings['user_id'].unique()\n",
    "unique_movie_ids = ratings['movie_id'].unique()\n",
    "\n",
    "user_id_to_index = {user_id: i for i, user_id in enumerate(unique_user_ids)}\n",
    "movie_id_to_index = {movie_id: i for i, movie_id in enumerate(unique_movie_ids)}\n",
    "ratings[\"user_id\"] = ratings[\"user_id\"].map(user_id_to_index)\n",
    "ratings[\"movie_id\"] = ratings[\"movie_id\"].map(movie_id_to_index)"
   ]
  },
  {
   "cell_type": "code",
   "execution_count": 52,
   "metadata": {},
   "outputs": [],
   "source": [
    "tf.random.set_seed(42)\n",
    "train, test = train_test_split(ratings, test_size=0.2, random_state=42)"
   ]
  },
  {
   "cell_type": "code",
   "execution_count": 58,
   "metadata": {},
   "outputs": [],
   "source": [
    "class RankingModel(tf.keras.Model):\n",
    "\n",
    "  def __init__(self):\n",
    "    super().__init__()\n",
    "    embedding_dimension = 64\n",
    "\n",
    "    initializer = tf.keras.initializers.RandomUniform(minval=0.5, maxval=1.0)\n",
    "    self.user_embeddings = tf.keras.layers.Embedding(\n",
    "        len(unique_user_ids) + 1, embedding_dimension, embeddings_initializer=initializer\n",
    "    )\n",
    "    self.movie_embeddings = tf.keras.layers.Embedding(\n",
    "        len(unique_movie_ids) + 1, embedding_dimension, embeddings_initializer=initializer\n",
    "    )\n",
    "\n",
    "    self.mlp = tf.keras.Sequential([\n",
    "      tf.keras.layers.Dense(256, activation=\"relu\", kernel_regularizer=l2(1e-6)),\n",
    "      tf.keras.layers.Dropout(0.5),\n",
    "      tf.keras.layers.Dense(256, activation=\"relu\", kernel_regularizer=l2(1e-6)),\n",
    "      tf.keras.layers.Dropout(0.5),\n",
    "      tf.keras.layers.Dense(256, activation=\"relu\", kernel_regularizer=l2(1e-6)),\n",
    "      tf.keras.layers.Dropout(0.5),\n",
    "      tf.keras.layers.Dense(64, activation=\"relu\", kernel_regularizer=l2(1e-6)),\n",
    "      tf.keras.layers.Dropout(0.5),\n",
    "      tf.keras.layers.Dense(1),\n",
    "    ])\n",
    "\n",
    "    # self.final_dense = tf.keras.layers.Dense(1)\n",
    "\n",
    "  def call(self, inputs):\n",
    "    user_id, movie_id = inputs\n",
    "\n",
    "    user_embedding = tf.nn.l2_normalize(self.user_embeddings(user_id), axis=1)\n",
    "    movie_embedding = tf.nn.l2_normalize(self.movie_embeddings(movie_id), axis=1)\n",
    "\n",
    "    mlp_output = self.mlp(tf.concat([user_embedding, movie_embedding], axis=1))\n",
    "    # dot_product = tf.reduce_sum(user_embedding * movie_embedding, axis=1, keepdims=True)\n",
    "\n",
    "    # combined = tf.concat([mlp_output, dot_product], axis=1)\n",
    "    # return self.final_dense(combined)\n",
    "    return mlp_output\n"
   ]
  },
  {
   "cell_type": "code",
   "execution_count": 59,
   "metadata": {},
   "outputs": [
    {
     "name": "stdout",
     "output_type": "stream",
     "text": [
      "(1,)\n"
     ]
    },
    {
     "data": {
      "text/plain": [
       "<tf.Tensor: shape=(1, 1), dtype=float32, numpy=array([[-0.00720191]], dtype=float32)>"
      ]
     },
     "execution_count": 59,
     "metadata": {},
     "output_type": "execute_result"
    }
   ],
   "source": [
    "user_id = tf.convert_to_tensor([ratings.iloc[0]['user_id']])\n",
    "movie_id = tf.convert_to_tensor([ratings.iloc[0]['movie_id']])\n",
    "\n",
    "print(user_id.shape)\n",
    "RankingModel()((user_id, movie_id))"
   ]
  },
  {
   "cell_type": "code",
   "execution_count": 60,
   "metadata": {},
   "outputs": [],
   "source": [
    "model = RankingModel()\n",
    "\n",
    "model.compile(\n",
    "    optimizer=tf.keras.optimizers.Adagrad(learning_rate=0.01),\n",
    "    loss=tf.keras.losses.MeanSquaredError(),\n",
    "    metrics=[tf.keras.metrics.RootMeanSquaredError()]\n",
    ")\n",
    "\n",
    "train_features = {\n",
    "    'user_id': tf.convert_to_tensor(train['user_id'].values, dtype=tf.int64),\n",
    "    'movie_id': tf.convert_to_tensor(train['movie_id'].values, dtype=tf.int64)\n",
    "}\n",
    "train_labels = tf.convert_to_tensor(train['user_rating'].values, dtype=tf.float32)\n",
    "\n",
    "test_features = {\n",
    "    'user_id': tf.convert_to_tensor(test['user_id'].values, dtype=tf.int64),\n",
    "    'movie_id': tf.convert_to_tensor(test['movie_id'].values, dtype=tf.int64)\n",
    "}\n",
    "test_labels = tf.convert_to_tensor(test['user_rating'].values, dtype=tf.float32)"
   ]
  },
  {
   "cell_type": "code",
   "execution_count": 61,
   "metadata": {},
   "outputs": [
    {
     "name": "stdout",
     "output_type": "stream",
     "text": [
      "Max user ID: 6039 6039\n",
      "Max movie ID: 3259\n"
     ]
    }
   ],
   "source": [
    "print(\"Max user ID:\", ratings['user_id'].max(), test['user_id'].max())\n",
    "print(\"Max movie ID:\", max(ratings['movie_id'].max(), test['movie_id'].max()))"
   ]
  },
  {
   "cell_type": "code",
   "execution_count": 62,
   "metadata": {},
   "outputs": [
    {
     "name": "stdout",
     "output_type": "stream",
     "text": [
      "Epoch 1/30\n"
     ]
    },
    {
     "name": "stdout",
     "output_type": "stream",
     "text": [
      "\u001b[1m12482/12482\u001b[0m \u001b[32m━━━━━━━━━━━━━━━━━━━━\u001b[0m\u001b[37m\u001b[0m \u001b[1m49s\u001b[0m 4ms/step - loss: 1.2650 - root_mean_squared_error: 1.1220 - val_loss: 1.0606 - val_root_mean_squared_error: 1.0295\n",
      "Epoch 2/30\n",
      "\u001b[1m12482/12482\u001b[0m \u001b[32m━━━━━━━━━━━━━━━━━━━━\u001b[0m\u001b[37m\u001b[0m \u001b[1m45s\u001b[0m 4ms/step - loss: 0.9903 - root_mean_squared_error: 0.9946 - val_loss: 0.9202 - val_root_mean_squared_error: 0.9589\n",
      "Epoch 3/30\n",
      "\u001b[1m12482/12482\u001b[0m \u001b[32m━━━━━━━━━━━━━━━━━━━━\u001b[0m\u001b[37m\u001b[0m \u001b[1m45s\u001b[0m 4ms/step - loss: 0.8834 - root_mean_squared_error: 0.9395 - val_loss: 0.8794 - val_root_mean_squared_error: 0.9373\n",
      "Epoch 4/30\n",
      "\u001b[1m12482/12482\u001b[0m \u001b[32m━━━━━━━━━━━━━━━━━━━━\u001b[0m\u001b[37m\u001b[0m \u001b[1m49s\u001b[0m 4ms/step - loss: 0.8493 - root_mean_squared_error: 0.9211 - val_loss: 0.8612 - val_root_mean_squared_error: 0.9276\n",
      "Epoch 5/30\n",
      "\u001b[1m12482/12482\u001b[0m \u001b[32m━━━━━━━━━━━━━━━━━━━━\u001b[0m\u001b[37m\u001b[0m \u001b[1m44s\u001b[0m 4ms/step - loss: 0.8333 - root_mean_squared_error: 0.9124 - val_loss: 0.8509 - val_root_mean_squared_error: 0.9220\n",
      "Epoch 6/30\n",
      "\u001b[1m12482/12482\u001b[0m \u001b[32m━━━━━━━━━━━━━━━━━━━━\u001b[0m\u001b[37m\u001b[0m \u001b[1m45s\u001b[0m 4ms/step - loss: 0.8241 - root_mean_squared_error: 0.9074 - val_loss: 0.8445 - val_root_mean_squared_error: 0.9185\n",
      "Epoch 7/30\n",
      "\u001b[1m12482/12482\u001b[0m \u001b[32m━━━━━━━━━━━━━━━━━━━━\u001b[0m\u001b[37m\u001b[0m \u001b[1m44s\u001b[0m 4ms/step - loss: 0.8183 - root_mean_squared_error: 0.9041 - val_loss: 0.8401 - val_root_mean_squared_error: 0.9161\n",
      "Epoch 8/30\n",
      "\u001b[1m12482/12482\u001b[0m \u001b[32m━━━━━━━━━━━━━━━━━━━━\u001b[0m\u001b[37m\u001b[0m \u001b[1m44s\u001b[0m 4ms/step - loss: 0.8143 - root_mean_squared_error: 0.9019 - val_loss: 0.8367 - val_root_mean_squared_error: 0.9143\n",
      "Epoch 9/30\n",
      "\u001b[1m12482/12482\u001b[0m \u001b[32m━━━━━━━━━━━━━━━━━━━━\u001b[0m\u001b[37m\u001b[0m \u001b[1m45s\u001b[0m 4ms/step - loss: 0.8113 - root_mean_squared_error: 0.9003 - val_loss: 0.8339 - val_root_mean_squared_error: 0.9127\n",
      "Epoch 10/30\n",
      "\u001b[1m12482/12482\u001b[0m \u001b[32m━━━━━━━━━━━━━━━━━━━━\u001b[0m\u001b[37m\u001b[0m \u001b[1m42s\u001b[0m 3ms/step - loss: 0.8089 - root_mean_squared_error: 0.8990 - val_loss: 0.8317 - val_root_mean_squared_error: 0.9115\n",
      "Epoch 11/30\n",
      "\u001b[1m12482/12482\u001b[0m \u001b[32m━━━━━━━━━━━━━━━━━━━━\u001b[0m\u001b[37m\u001b[0m \u001b[1m43s\u001b[0m 3ms/step - loss: 0.8070 - root_mean_squared_error: 0.8979 - val_loss: 0.8299 - val_root_mean_squared_error: 0.9105\n",
      "Epoch 12/30\n",
      "\u001b[1m12482/12482\u001b[0m \u001b[32m━━━━━━━━━━━━━━━━━━━━\u001b[0m\u001b[37m\u001b[0m \u001b[1m50s\u001b[0m 4ms/step - loss: 0.8053 - root_mean_squared_error: 0.8969 - val_loss: 0.8284 - val_root_mean_squared_error: 0.9097\n",
      "Epoch 13/30\n",
      "\u001b[1m12482/12482\u001b[0m \u001b[32m━━━━━━━━━━━━━━━━━━━━\u001b[0m\u001b[37m\u001b[0m \u001b[1m50s\u001b[0m 4ms/step - loss: 0.8037 - root_mean_squared_error: 0.8961 - val_loss: 0.8269 - val_root_mean_squared_error: 0.9089\n",
      "Epoch 14/30\n",
      "\u001b[1m12482/12482\u001b[0m \u001b[32m━━━━━━━━━━━━━━━━━━━━\u001b[0m\u001b[37m\u001b[0m \u001b[1m46s\u001b[0m 4ms/step - loss: 0.8022 - root_mean_squared_error: 0.8952 - val_loss: 0.8254 - val_root_mean_squared_error: 0.9081\n",
      "Epoch 15/30\n",
      "\u001b[1m12482/12482\u001b[0m \u001b[32m━━━━━━━━━━━━━━━━━━━━\u001b[0m\u001b[37m\u001b[0m \u001b[1m43s\u001b[0m 3ms/step - loss: 0.8007 - root_mean_squared_error: 0.8943 - val_loss: 0.8243 - val_root_mean_squared_error: 0.9075\n",
      "Epoch 16/30\n",
      "\u001b[1m12482/12482\u001b[0m \u001b[32m━━━━━━━━━━━━━━━━━━━━\u001b[0m\u001b[37m\u001b[0m \u001b[1m44s\u001b[0m 4ms/step - loss: 0.7991 - root_mean_squared_error: 0.8935 - val_loss: 0.8224 - val_root_mean_squared_error: 0.9064\n",
      "Epoch 17/30\n",
      "\u001b[1m12482/12482\u001b[0m \u001b[32m━━━━━━━━━━━━━━━━━━━━\u001b[0m\u001b[37m\u001b[0m \u001b[1m45s\u001b[0m 4ms/step - loss: 0.7974 - root_mean_squared_error: 0.8925 - val_loss: 0.8210 - val_root_mean_squared_error: 0.9056\n",
      "Epoch 18/30\n",
      "\u001b[1m12482/12482\u001b[0m \u001b[32m━━━━━━━━━━━━━━━━━━━━\u001b[0m\u001b[37m\u001b[0m \u001b[1m46s\u001b[0m 4ms/step - loss: 0.7957 - root_mean_squared_error: 0.8916 - val_loss: 0.8197 - val_root_mean_squared_error: 0.9049\n",
      "Epoch 19/30\n",
      "\u001b[1m12482/12482\u001b[0m \u001b[32m━━━━━━━━━━━━━━━━━━━━\u001b[0m\u001b[37m\u001b[0m \u001b[1m45s\u001b[0m 4ms/step - loss: 0.7939 - root_mean_squared_error: 0.8906 - val_loss: 0.8182 - val_root_mean_squared_error: 0.9041\n",
      "Epoch 20/30\n",
      "\u001b[1m12482/12482\u001b[0m \u001b[32m━━━━━━━━━━━━━━━━━━━━\u001b[0m\u001b[37m\u001b[0m \u001b[1m45s\u001b[0m 4ms/step - loss: 0.7922 - root_mean_squared_error: 0.8896 - val_loss: 0.8167 - val_root_mean_squared_error: 0.9033\n",
      "Epoch 21/30\n",
      "\u001b[1m12482/12482\u001b[0m \u001b[32m━━━━━━━━━━━━━━━━━━━━\u001b[0m\u001b[37m\u001b[0m \u001b[1m47s\u001b[0m 4ms/step - loss: 0.7904 - root_mean_squared_error: 0.8886 - val_loss: 0.8155 - val_root_mean_squared_error: 0.9026\n",
      "Epoch 22/30\n",
      "\u001b[1m12482/12482\u001b[0m \u001b[32m━━━━━━━━━━━━━━━━━━━━\u001b[0m\u001b[37m\u001b[0m \u001b[1m47s\u001b[0m 4ms/step - loss: 0.7887 - root_mean_squared_error: 0.8876 - val_loss: 0.8146 - val_root_mean_squared_error: 0.9021\n",
      "Epoch 23/30\n",
      "\u001b[1m12482/12482\u001b[0m \u001b[32m━━━━━━━━━━━━━━━━━━━━\u001b[0m\u001b[37m\u001b[0m \u001b[1m50s\u001b[0m 4ms/step - loss: 0.7871 - root_mean_squared_error: 0.8867 - val_loss: 0.8137 - val_root_mean_squared_error: 0.9016\n",
      "Epoch 24/30\n",
      "\u001b[1m12482/12482\u001b[0m \u001b[32m━━━━━━━━━━━━━━━━━━━━\u001b[0m\u001b[37m\u001b[0m \u001b[1m44s\u001b[0m 4ms/step - loss: 0.7854 - root_mean_squared_error: 0.8858 - val_loss: 0.8125 - val_root_mean_squared_error: 0.9010\n",
      "Epoch 25/30\n",
      "\u001b[1m12482/12482\u001b[0m \u001b[32m━━━━━━━━━━━━━━━━━━━━\u001b[0m\u001b[37m\u001b[0m \u001b[1m50s\u001b[0m 4ms/step - loss: 0.7839 - root_mean_squared_error: 0.8849 - val_loss: 0.8117 - val_root_mean_squared_error: 0.9005\n",
      "Epoch 26/30\n",
      "\u001b[1m12482/12482\u001b[0m \u001b[32m━━━━━━━━━━━━━━━━━━━━\u001b[0m\u001b[37m\u001b[0m \u001b[1m43s\u001b[0m 3ms/step - loss: 0.7824 - root_mean_squared_error: 0.8841 - val_loss: 0.8108 - val_root_mean_squared_error: 0.9000\n",
      "Epoch 27/30\n",
      "\u001b[1m12482/12482\u001b[0m \u001b[32m━━━━━━━━━━━━━━━━━━━━\u001b[0m\u001b[37m\u001b[0m \u001b[1m47s\u001b[0m 4ms/step - loss: 0.7810 - root_mean_squared_error: 0.8833 - val_loss: 0.8097 - val_root_mean_squared_error: 0.8994\n",
      "Epoch 28/30\n",
      "\u001b[1m12482/12482\u001b[0m \u001b[32m━━━━━━━━━━━━━━━━━━━━\u001b[0m\u001b[37m\u001b[0m \u001b[1m48s\u001b[0m 4ms/step - loss: 0.7797 - root_mean_squared_error: 0.8825 - val_loss: 0.8088 - val_root_mean_squared_error: 0.8989\n",
      "Epoch 29/30\n",
      "\u001b[1m12482/12482\u001b[0m \u001b[32m━━━━━━━━━━━━━━━━━━━━\u001b[0m\u001b[37m\u001b[0m \u001b[1m52s\u001b[0m 4ms/step - loss: 0.7783 - root_mean_squared_error: 0.8818 - val_loss: 0.8082 - val_root_mean_squared_error: 0.8985\n",
      "Epoch 30/30\n",
      "\u001b[1m12482/12482\u001b[0m \u001b[32m━━━━━━━━━━━━━━━━━━━━\u001b[0m\u001b[37m\u001b[0m \u001b[1m47s\u001b[0m 4ms/step - loss: 0.7770 - root_mean_squared_error: 0.8810 - val_loss: 0.8075 - val_root_mean_squared_error: 0.8981\n"
     ]
    }
   ],
   "source": [
    "history = model.fit(\n",
    "    x=(train_features['user_id'], train_features['movie_id']),\n",
    "    y=train_labels,\n",
    "    batch_size=64,\n",
    "    epochs=30,\n",
    "    validation_data=((test_features['user_id'], test_features['movie_id']), test_labels),\n",
    "    # callbacks=[\n",
    "    #     tf.keras.callbacks.EarlyStopping(\n",
    "    #         monitor='val_root_mean_squared_error',\n",
    "    #         patience=3,\n",
    "    #         restore_best_weights=True\n",
    "    #     )\n",
    "    # ]\n",
    ")"
   ]
  },
  {
   "cell_type": "code",
   "execution_count": 63,
   "metadata": {},
   "outputs": [
    {
     "data": {
      "application/vnd.plotly.v1+json": {
       "config": {
        "plotlyServerURL": "https://plot.ly"
       },
       "data": [
        {
         "mode": "lines",
         "name": "Training Loss",
         "type": "scatter",
         "xaxis": "x",
         "y": [
          1.1857517957687378,
          0.9541175365447998,
          0.8737946152687073,
          0.845771849155426,
          0.8319054841995239,
          0.8237757086753845,
          0.8184648752212524,
          0.8147487044334412,
          0.8119596838951111,
          0.8097460269927979,
          0.8078972697257996,
          0.8062463998794556,
          0.8047074675559998,
          0.8032247424125671,
          0.8017085790634155,
          0.8001439571380615,
          0.7985088229179382,
          0.7968196868896484,
          0.7951072454452515,
          0.7933896780014038,
          0.7916612029075623,
          0.7899884581565857,
          0.7883774042129517,
          0.7868225574493408,
          0.7853079438209534,
          0.7838910818099976,
          0.7825149297714233,
          0.781181812286377,
          0.7799030542373657,
          0.7786309123039246
         ],
         "yaxis": "y"
        },
        {
         "mode": "lines",
         "name": "Validation Loss",
         "type": "scatter",
         "xaxis": "x",
         "y": [
          1.0605953931808472,
          0.9202213883399963,
          0.8794286251068115,
          0.8612046837806702,
          0.8508725166320801,
          0.8445272445678711,
          0.8400762677192688,
          0.8367043733596802,
          0.8338671326637268,
          0.8316629528999329,
          0.8298523426055908,
          0.8283634185791016,
          0.8269084095954895,
          0.8254227638244629,
          0.824323296546936,
          0.8223520517349243,
          0.8209927678108215,
          0.819671630859375,
          0.8181501030921936,
          0.8167458176612854,
          0.8154823780059814,
          0.8145604133605957,
          0.8136927485466003,
          0.8125401139259338,
          0.8116766214370728,
          0.8108065724372864,
          0.8097493648529053,
          0.8088212013244629,
          0.8081815242767334,
          0.8074737787246704
         ],
         "yaxis": "y"
        },
        {
         "mode": "lines",
         "name": "Training RMSE",
         "type": "scatter",
         "xaxis": "x2",
         "y": [
          1.088557243347168,
          0.976375162601471,
          0.9343376755714417,
          0.919220507144928,
          0.9116474390029907,
          0.9071764945983887,
          0.9042454361915588,
          0.9021872282028198,
          0.9006423354148865,
          0.8994113802909851,
          0.898380696773529,
          0.8974655270576477,
          0.8966080546379089,
          0.8957800269126892,
          0.894931972026825,
          0.8940570950508118,
          0.8931418657302856,
          0.892196536064148,
          0.8912373781204224,
          0.8902712464332581,
          0.8893012404441833,
          0.8883610963821411,
          0.8874536752700806,
          0.886574387550354,
          0.8857203125953674,
          0.8849204778671265,
          0.8841427564620972,
          0.8833900690078735,
          0.8826647996902466,
          0.8819430470466614
         ],
         "yaxis": "y2"
        },
        {
         "mode": "lines",
         "name": "Validation RMSE",
         "type": "scatter",
         "xaxis": "x2",
         "y": [
          1.0294612646102905,
          0.9588605761528015,
          0.937347948551178,
          0.9275752305984497,
          0.9219900369644165,
          0.9185428619384766,
          0.9161167740821838,
          0.914275050163269,
          0.9127224683761597,
          0.9115147590637207,
          0.9105203151702881,
          0.909704327583313,
          0.908903956413269,
          0.9080849289894104,
          0.9074802398681641,
          0.9063932299613953,
          0.9056429266929626,
          0.9049142003059387,
          0.9040710926055908,
          0.903294563293457,
          0.9025959968566895,
          0.9020848274230957,
          0.9016023874282837,
          0.9009624123573303,
          0.9004839658737183,
          0.8999992609024048,
          0.899412214756012,
          0.8988959789276123,
          0.8985406160354614,
          0.8981457352638245
         ],
         "yaxis": "y2"
        }
       ],
       "layout": {
        "annotations": [
         {
          "font": {
           "size": 16
          },
          "showarrow": false,
          "text": "Model Loss",
          "x": 0.225,
          "xanchor": "center",
          "xref": "paper",
          "y": 1,
          "yanchor": "bottom",
          "yref": "paper"
         },
         {
          "font": {
           "size": 16
          },
          "showarrow": false,
          "text": "Model RMSE",
          "x": 0.775,
          "xanchor": "center",
          "xref": "paper",
          "y": 1,
          "yanchor": "bottom",
          "yref": "paper"
         }
        ],
        "height": 500,
        "showlegend": true,
        "template": {
         "data": {
          "bar": [
           {
            "error_x": {
             "color": "#2a3f5f"
            },
            "error_y": {
             "color": "#2a3f5f"
            },
            "marker": {
             "line": {
              "color": "#E5ECF6",
              "width": 0.5
             },
             "pattern": {
              "fillmode": "overlay",
              "size": 10,
              "solidity": 0.2
             }
            },
            "type": "bar"
           }
          ],
          "barpolar": [
           {
            "marker": {
             "line": {
              "color": "#E5ECF6",
              "width": 0.5
             },
             "pattern": {
              "fillmode": "overlay",
              "size": 10,
              "solidity": 0.2
             }
            },
            "type": "barpolar"
           }
          ],
          "carpet": [
           {
            "aaxis": {
             "endlinecolor": "#2a3f5f",
             "gridcolor": "white",
             "linecolor": "white",
             "minorgridcolor": "white",
             "startlinecolor": "#2a3f5f"
            },
            "baxis": {
             "endlinecolor": "#2a3f5f",
             "gridcolor": "white",
             "linecolor": "white",
             "minorgridcolor": "white",
             "startlinecolor": "#2a3f5f"
            },
            "type": "carpet"
           }
          ],
          "choropleth": [
           {
            "colorbar": {
             "outlinewidth": 0,
             "ticks": ""
            },
            "type": "choropleth"
           }
          ],
          "contour": [
           {
            "colorbar": {
             "outlinewidth": 0,
             "ticks": ""
            },
            "colorscale": [
             [
              0,
              "#0d0887"
             ],
             [
              0.1111111111111111,
              "#46039f"
             ],
             [
              0.2222222222222222,
              "#7201a8"
             ],
             [
              0.3333333333333333,
              "#9c179e"
             ],
             [
              0.4444444444444444,
              "#bd3786"
             ],
             [
              0.5555555555555556,
              "#d8576b"
             ],
             [
              0.6666666666666666,
              "#ed7953"
             ],
             [
              0.7777777777777778,
              "#fb9f3a"
             ],
             [
              0.8888888888888888,
              "#fdca26"
             ],
             [
              1,
              "#f0f921"
             ]
            ],
            "type": "contour"
           }
          ],
          "contourcarpet": [
           {
            "colorbar": {
             "outlinewidth": 0,
             "ticks": ""
            },
            "type": "contourcarpet"
           }
          ],
          "heatmap": [
           {
            "colorbar": {
             "outlinewidth": 0,
             "ticks": ""
            },
            "colorscale": [
             [
              0,
              "#0d0887"
             ],
             [
              0.1111111111111111,
              "#46039f"
             ],
             [
              0.2222222222222222,
              "#7201a8"
             ],
             [
              0.3333333333333333,
              "#9c179e"
             ],
             [
              0.4444444444444444,
              "#bd3786"
             ],
             [
              0.5555555555555556,
              "#d8576b"
             ],
             [
              0.6666666666666666,
              "#ed7953"
             ],
             [
              0.7777777777777778,
              "#fb9f3a"
             ],
             [
              0.8888888888888888,
              "#fdca26"
             ],
             [
              1,
              "#f0f921"
             ]
            ],
            "type": "heatmap"
           }
          ],
          "histogram": [
           {
            "marker": {
             "pattern": {
              "fillmode": "overlay",
              "size": 10,
              "solidity": 0.2
             }
            },
            "type": "histogram"
           }
          ],
          "histogram2d": [
           {
            "colorbar": {
             "outlinewidth": 0,
             "ticks": ""
            },
            "colorscale": [
             [
              0,
              "#0d0887"
             ],
             [
              0.1111111111111111,
              "#46039f"
             ],
             [
              0.2222222222222222,
              "#7201a8"
             ],
             [
              0.3333333333333333,
              "#9c179e"
             ],
             [
              0.4444444444444444,
              "#bd3786"
             ],
             [
              0.5555555555555556,
              "#d8576b"
             ],
             [
              0.6666666666666666,
              "#ed7953"
             ],
             [
              0.7777777777777778,
              "#fb9f3a"
             ],
             [
              0.8888888888888888,
              "#fdca26"
             ],
             [
              1,
              "#f0f921"
             ]
            ],
            "type": "histogram2d"
           }
          ],
          "histogram2dcontour": [
           {
            "colorbar": {
             "outlinewidth": 0,
             "ticks": ""
            },
            "colorscale": [
             [
              0,
              "#0d0887"
             ],
             [
              0.1111111111111111,
              "#46039f"
             ],
             [
              0.2222222222222222,
              "#7201a8"
             ],
             [
              0.3333333333333333,
              "#9c179e"
             ],
             [
              0.4444444444444444,
              "#bd3786"
             ],
             [
              0.5555555555555556,
              "#d8576b"
             ],
             [
              0.6666666666666666,
              "#ed7953"
             ],
             [
              0.7777777777777778,
              "#fb9f3a"
             ],
             [
              0.8888888888888888,
              "#fdca26"
             ],
             [
              1,
              "#f0f921"
             ]
            ],
            "type": "histogram2dcontour"
           }
          ],
          "mesh3d": [
           {
            "colorbar": {
             "outlinewidth": 0,
             "ticks": ""
            },
            "type": "mesh3d"
           }
          ],
          "parcoords": [
           {
            "line": {
             "colorbar": {
              "outlinewidth": 0,
              "ticks": ""
             }
            },
            "type": "parcoords"
           }
          ],
          "pie": [
           {
            "automargin": true,
            "type": "pie"
           }
          ],
          "scatter": [
           {
            "fillpattern": {
             "fillmode": "overlay",
             "size": 10,
             "solidity": 0.2
            },
            "type": "scatter"
           }
          ],
          "scatter3d": [
           {
            "line": {
             "colorbar": {
              "outlinewidth": 0,
              "ticks": ""
             }
            },
            "marker": {
             "colorbar": {
              "outlinewidth": 0,
              "ticks": ""
             }
            },
            "type": "scatter3d"
           }
          ],
          "scattercarpet": [
           {
            "marker": {
             "colorbar": {
              "outlinewidth": 0,
              "ticks": ""
             }
            },
            "type": "scattercarpet"
           }
          ],
          "scattergeo": [
           {
            "marker": {
             "colorbar": {
              "outlinewidth": 0,
              "ticks": ""
             }
            },
            "type": "scattergeo"
           }
          ],
          "scattergl": [
           {
            "marker": {
             "colorbar": {
              "outlinewidth": 0,
              "ticks": ""
             }
            },
            "type": "scattergl"
           }
          ],
          "scattermap": [
           {
            "marker": {
             "colorbar": {
              "outlinewidth": 0,
              "ticks": ""
             }
            },
            "type": "scattermap"
           }
          ],
          "scattermapbox": [
           {
            "marker": {
             "colorbar": {
              "outlinewidth": 0,
              "ticks": ""
             }
            },
            "type": "scattermapbox"
           }
          ],
          "scatterpolar": [
           {
            "marker": {
             "colorbar": {
              "outlinewidth": 0,
              "ticks": ""
             }
            },
            "type": "scatterpolar"
           }
          ],
          "scatterpolargl": [
           {
            "marker": {
             "colorbar": {
              "outlinewidth": 0,
              "ticks": ""
             }
            },
            "type": "scatterpolargl"
           }
          ],
          "scatterternary": [
           {
            "marker": {
             "colorbar": {
              "outlinewidth": 0,
              "ticks": ""
             }
            },
            "type": "scatterternary"
           }
          ],
          "surface": [
           {
            "colorbar": {
             "outlinewidth": 0,
             "ticks": ""
            },
            "colorscale": [
             [
              0,
              "#0d0887"
             ],
             [
              0.1111111111111111,
              "#46039f"
             ],
             [
              0.2222222222222222,
              "#7201a8"
             ],
             [
              0.3333333333333333,
              "#9c179e"
             ],
             [
              0.4444444444444444,
              "#bd3786"
             ],
             [
              0.5555555555555556,
              "#d8576b"
             ],
             [
              0.6666666666666666,
              "#ed7953"
             ],
             [
              0.7777777777777778,
              "#fb9f3a"
             ],
             [
              0.8888888888888888,
              "#fdca26"
             ],
             [
              1,
              "#f0f921"
             ]
            ],
            "type": "surface"
           }
          ],
          "table": [
           {
            "cells": {
             "fill": {
              "color": "#EBF0F8"
             },
             "line": {
              "color": "white"
             }
            },
            "header": {
             "fill": {
              "color": "#C8D4E3"
             },
             "line": {
              "color": "white"
             }
            },
            "type": "table"
           }
          ]
         },
         "layout": {
          "annotationdefaults": {
           "arrowcolor": "#2a3f5f",
           "arrowhead": 0,
           "arrowwidth": 1
          },
          "autotypenumbers": "strict",
          "coloraxis": {
           "colorbar": {
            "outlinewidth": 0,
            "ticks": ""
           }
          },
          "colorscale": {
           "diverging": [
            [
             0,
             "#8e0152"
            ],
            [
             0.1,
             "#c51b7d"
            ],
            [
             0.2,
             "#de77ae"
            ],
            [
             0.3,
             "#f1b6da"
            ],
            [
             0.4,
             "#fde0ef"
            ],
            [
             0.5,
             "#f7f7f7"
            ],
            [
             0.6,
             "#e6f5d0"
            ],
            [
             0.7,
             "#b8e186"
            ],
            [
             0.8,
             "#7fbc41"
            ],
            [
             0.9,
             "#4d9221"
            ],
            [
             1,
             "#276419"
            ]
           ],
           "sequential": [
            [
             0,
             "#0d0887"
            ],
            [
             0.1111111111111111,
             "#46039f"
            ],
            [
             0.2222222222222222,
             "#7201a8"
            ],
            [
             0.3333333333333333,
             "#9c179e"
            ],
            [
             0.4444444444444444,
             "#bd3786"
            ],
            [
             0.5555555555555556,
             "#d8576b"
            ],
            [
             0.6666666666666666,
             "#ed7953"
            ],
            [
             0.7777777777777778,
             "#fb9f3a"
            ],
            [
             0.8888888888888888,
             "#fdca26"
            ],
            [
             1,
             "#f0f921"
            ]
           ],
           "sequentialminus": [
            [
             0,
             "#0d0887"
            ],
            [
             0.1111111111111111,
             "#46039f"
            ],
            [
             0.2222222222222222,
             "#7201a8"
            ],
            [
             0.3333333333333333,
             "#9c179e"
            ],
            [
             0.4444444444444444,
             "#bd3786"
            ],
            [
             0.5555555555555556,
             "#d8576b"
            ],
            [
             0.6666666666666666,
             "#ed7953"
            ],
            [
             0.7777777777777778,
             "#fb9f3a"
            ],
            [
             0.8888888888888888,
             "#fdca26"
            ],
            [
             1,
             "#f0f921"
            ]
           ]
          },
          "colorway": [
           "#636efa",
           "#EF553B",
           "#00cc96",
           "#ab63fa",
           "#FFA15A",
           "#19d3f3",
           "#FF6692",
           "#B6E880",
           "#FF97FF",
           "#FECB52"
          ],
          "font": {
           "color": "#2a3f5f"
          },
          "geo": {
           "bgcolor": "white",
           "lakecolor": "white",
           "landcolor": "#E5ECF6",
           "showlakes": true,
           "showland": true,
           "subunitcolor": "white"
          },
          "hoverlabel": {
           "align": "left"
          },
          "hovermode": "closest",
          "mapbox": {
           "style": "light"
          },
          "paper_bgcolor": "white",
          "plot_bgcolor": "#E5ECF6",
          "polar": {
           "angularaxis": {
            "gridcolor": "white",
            "linecolor": "white",
            "ticks": ""
           },
           "bgcolor": "#E5ECF6",
           "radialaxis": {
            "gridcolor": "white",
            "linecolor": "white",
            "ticks": ""
           }
          },
          "scene": {
           "xaxis": {
            "backgroundcolor": "#E5ECF6",
            "gridcolor": "white",
            "gridwidth": 2,
            "linecolor": "white",
            "showbackground": true,
            "ticks": "",
            "zerolinecolor": "white"
           },
           "yaxis": {
            "backgroundcolor": "#E5ECF6",
            "gridcolor": "white",
            "gridwidth": 2,
            "linecolor": "white",
            "showbackground": true,
            "ticks": "",
            "zerolinecolor": "white"
           },
           "zaxis": {
            "backgroundcolor": "#E5ECF6",
            "gridcolor": "white",
            "gridwidth": 2,
            "linecolor": "white",
            "showbackground": true,
            "ticks": "",
            "zerolinecolor": "white"
           }
          },
          "shapedefaults": {
           "line": {
            "color": "#2a3f5f"
           }
          },
          "ternary": {
           "aaxis": {
            "gridcolor": "white",
            "linecolor": "white",
            "ticks": ""
           },
           "baxis": {
            "gridcolor": "white",
            "linecolor": "white",
            "ticks": ""
           },
           "bgcolor": "#E5ECF6",
           "caxis": {
            "gridcolor": "white",
            "linecolor": "white",
            "ticks": ""
           }
          },
          "title": {
           "x": 0.05
          },
          "xaxis": {
           "automargin": true,
           "gridcolor": "white",
           "linecolor": "white",
           "ticks": "",
           "title": {
            "standoff": 15
           },
           "zerolinecolor": "white",
           "zerolinewidth": 2
          },
          "yaxis": {
           "automargin": true,
           "gridcolor": "white",
           "linecolor": "white",
           "ticks": "",
           "title": {
            "standoff": 15
           },
           "zerolinecolor": "white",
           "zerolinewidth": 2
          }
         }
        },
        "title": {
         "text": "Training Metrics Over Time"
        },
        "width": 1200,
        "xaxis": {
         "anchor": "y",
         "domain": [
          0,
          0.45
         ],
         "title": {
          "text": "Epoch"
         }
        },
        "xaxis2": {
         "anchor": "y2",
         "domain": [
          0.55,
          1
         ],
         "title": {
          "text": "Epoch"
         }
        },
        "yaxis": {
         "anchor": "x",
         "domain": [
          0,
          1
         ],
         "title": {
          "text": "Loss"
         }
        },
        "yaxis2": {
         "anchor": "x2",
         "domain": [
          0,
          1
         ],
         "title": {
          "text": "RMSE"
         }
        }
       }
      }
     },
     "metadata": {},
     "output_type": "display_data"
    }
   ],
   "source": [
    "\n",
    "# Create subplots\n",
    "fig = make_subplots(rows=1, cols=2, subplot_titles=('Model Loss', 'Model RMSE'))\n",
    "\n",
    "# Add Loss traces\n",
    "fig.add_trace(\n",
    "    go.Scatter(y=history.history['loss'], name=\"Training Loss\", mode='lines'),\n",
    "    row=1, col=1\n",
    ")\n",
    "fig.add_trace(\n",
    "    go.Scatter(y=history.history['val_loss'], name=\"Validation Loss\", mode='lines'),\n",
    "    row=1, col=1\n",
    ")\n",
    "\n",
    "# Add RMSE traces\n",
    "fig.add_trace(\n",
    "    go.Scatter(y=history.history['root_mean_squared_error'], name=\"Training RMSE\", mode='lines'),\n",
    "    row=1, col=2\n",
    ")\n",
    "fig.add_trace(\n",
    "    go.Scatter(y=history.history['val_root_mean_squared_error'], name=\"Validation RMSE\", mode='lines'),\n",
    "    row=1, col=2\n",
    ")\n",
    "\n",
    "# Update layout\n",
    "fig.update_layout(\n",
    "    height=500,\n",
    "    width=1200,\n",
    "    showlegend=True,\n",
    "    title_text=\"Training Metrics Over Time\"\n",
    ")\n",
    "\n",
    "# Update axes labels\n",
    "fig.update_xaxes(title_text=\"Epoch\", row=1, col=1)\n",
    "fig.update_xaxes(title_text=\"Epoch\", row=1, col=2)\n",
    "fig.update_yaxes(title_text=\"Loss\", row=1, col=1)\n",
    "fig.update_yaxes(title_text=\"RMSE\", row=1, col=2)\n",
    "\n",
    "fig.show()"
   ]
  },
  {
   "cell_type": "code",
   "execution_count": 66,
   "metadata": {},
   "outputs": [
    {
     "name": "stdout",
     "output_type": "stream",
     "text": [
      "Model trained and saved!\n"
     ]
    }
   ],
   "source": [
    "os.makedirs(MODEL_DIR, exist_ok=True)\n",
    "model.save(MODEL_PATH)\n",
    "print(\"Model trained and saved!\")"
   ]
  },
  {
   "cell_type": "code",
   "execution_count": null,
   "metadata": {},
   "outputs": [
    {
     "data": {
      "text/plain": [
       "[0.923197329044342,\n",
       " 0.9144569635391235,\n",
       " 0.9119369387626648,\n",
       " 0.9105700254440308,\n",
       " 0.9095427989959717,\n",
       " 0.9085302352905273,\n",
       " 0.9073735475540161,\n",
       " 0.9059902429580688,\n",
       " 0.9043887257575989,\n",
       " 0.9027706384658813,\n",
       " 0.9012628793716431,\n",
       " 0.899894654750824,\n",
       " 0.8986436128616333,\n",
       " 0.8974978923797607,\n",
       " 0.8964415788650513,\n",
       " 0.8954850435256958,\n",
       " 0.8946393728256226,\n",
       " 0.8938671946525574,\n",
       " 0.8931801319122314,\n",
       " 0.8925918936729431,\n",
       " 0.8920712471008301,\n",
       " 0.8916212916374207,\n",
       " 0.8912313580513,\n",
       " 0.8909320831298828,\n",
       " 0.8907355070114136,\n",
       " 0.8905999660491943,\n",
       " 0.8905472159385681,\n",
       " 0.8905727863311768,\n",
       " 0.8906946182250977,\n",
       " 0.890887975692749]"
      ]
     },
     "execution_count": 86,
     "metadata": {},
     "output_type": "execute_result"
    }
   ],
   "source": []
  },
  {
   "cell_type": "code",
   "execution_count": null,
   "metadata": {},
   "outputs": [],
   "source": []
  }
 ],
 "metadata": {
  "kernelspec": {
   "display_name": ".venv",
   "language": "python",
   "name": "python3"
  },
  "language_info": {
   "codemirror_mode": {
    "name": "ipython",
    "version": 3
   },
   "file_extension": ".py",
   "mimetype": "text/x-python",
   "name": "python",
   "nbconvert_exporter": "python",
   "pygments_lexer": "ipython3",
   "version": "3.9.21"
  }
 },
 "nbformat": 4,
 "nbformat_minor": 2
}
