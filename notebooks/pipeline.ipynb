{
 "cells": [
  {
   "cell_type": "code",
   "execution_count": 1,
   "id": "1d031c03-95a8-4ecd-ba04-2a4d929af45a",
   "metadata": {},
   "outputs": [],
   "source": [
    "import pandas as pd\n",
    "import tensorflow as tf\n",
    "import numpy as np\n",
    "import os\n",
    "from tensorflow import keras\n",
    "from tensorflow.keras.layers import Input, Embedding, Flatten, Dense, Concatenate\n",
    "from sklearn.model_selection import train_test_split\n",
    "from tensorflow.keras.callbacks import EarlyStopping\n",
    "from tensorflow.keras.regularizers import l2\n",
    "from tensorflow.keras.layers import Dropout\n",
    "\n",
    "import plotly.express as px\n",
    "import plotly.io as pio"
   ]
  },
  {
   "cell_type": "markdown",
   "id": "b8b841e3-c5ad-4e9a-b1f1-8a64da1ff07d",
   "metadata": {},
   "source": [
    "# Paths"
   ]
  },
  {
   "cell_type": "code",
   "execution_count": 2,
   "id": "dfca9dea-d8e0-4b48-aef7-29504a803276",
   "metadata": {},
   "outputs": [],
   "source": [
    "\n",
    "RAW_DATA_DIR = \"../data/raw/\"\n",
    "PROCESSED_DATA_DIR = \"../data/processed/\"\n",
    "MODEL_DIR = \"../models/\"\n",
    "MODEL_PATH = os.path.join(MODEL_DIR, \"recommender_model.h5\")\n"
   ]
  },
  {
   "cell_type": "markdown",
   "id": "928361f6-8cc9-4b5c-97fe-45b7ca8e9577",
   "metadata": {},
   "source": [
    "# Load raw datasets"
   ]
  },
  {
   "cell_type": "code",
   "execution_count": 3,
   "id": "920919ea-cdba-45de-bbb0-2de47a5a8fea",
   "metadata": {},
   "outputs": [
    {
     "ename": "FileNotFoundError",
     "evalue": "[Errno 2] No such file or directory: '../data/raw/users.dat'",
     "output_type": "error",
     "traceback": [
      "\u001b[31m---------------------------------------------------------------------------\u001b[39m",
      "\u001b[31mFileNotFoundError\u001b[39m                         Traceback (most recent call last)",
      "\u001b[36mCell\u001b[39m\u001b[36m \u001b[39m\u001b[32mIn[3]\u001b[39m\u001b[32m, line 5\u001b[39m\n\u001b[32m      2\u001b[39m movies_file = os.path.join(RAW_DATA_DIR, \u001b[33m\"\u001b[39m\u001b[33mmovies.dat\u001b[39m\u001b[33m\"\u001b[39m)\n\u001b[32m      3\u001b[39m ratings_file = os.path.join(RAW_DATA_DIR, \u001b[33m\"\u001b[39m\u001b[33mratings.dat\u001b[39m\u001b[33m\"\u001b[39m)\n\u001b[32m----> \u001b[39m\u001b[32m5\u001b[39m users = \u001b[43mpd\u001b[49m\u001b[43m.\u001b[49m\u001b[43mread_csv\u001b[49m\u001b[43m(\u001b[49m\u001b[43musers_file\u001b[49m\u001b[43m,\u001b[49m\u001b[43m \u001b[49m\u001b[43msep\u001b[49m\u001b[43m=\u001b[49m\u001b[33;43m\"\u001b[39;49m\u001b[33;43m::\u001b[39;49m\u001b[33;43m\"\u001b[39;49m\u001b[43m,\u001b[49m\u001b[43m \u001b[49m\u001b[43mengine\u001b[49m\u001b[43m=\u001b[49m\u001b[33;43m\"\u001b[39;49m\u001b[33;43mpython\u001b[39;49m\u001b[33;43m\"\u001b[39;49m\u001b[43m,\u001b[49m\u001b[43m \u001b[49m\u001b[43mnames\u001b[49m\u001b[43m=\u001b[49m\u001b[43m[\u001b[49m\u001b[33;43m\"\u001b[39;49m\u001b[33;43mUserID\u001b[39;49m\u001b[33;43m\"\u001b[39;49m\u001b[43m,\u001b[49m\u001b[43m \u001b[49m\u001b[33;43m\"\u001b[39;49m\u001b[33;43mGender\u001b[39;49m\u001b[33;43m\"\u001b[39;49m\u001b[43m,\u001b[49m\u001b[43m \u001b[49m\u001b[33;43m\"\u001b[39;49m\u001b[33;43mAge\u001b[39;49m\u001b[33;43m\"\u001b[39;49m\u001b[43m,\u001b[49m\u001b[43m \u001b[49m\u001b[33;43m\"\u001b[39;49m\u001b[33;43mOccupation\u001b[39;49m\u001b[33;43m\"\u001b[39;49m\u001b[43m,\u001b[49m\u001b[43m \u001b[49m\u001b[33;43m\"\u001b[39;49m\u001b[33;43mZip-code\u001b[39;49m\u001b[33;43m\"\u001b[39;49m\u001b[43m]\u001b[49m\u001b[43m)\u001b[49m\n\u001b[32m      6\u001b[39m movies = pd.read_csv(movies_file, sep=\u001b[33m\"\u001b[39m\u001b[33m::\u001b[39m\u001b[33m\"\u001b[39m, engine=\u001b[33m\"\u001b[39m\u001b[33mpython\u001b[39m\u001b[33m\"\u001b[39m, names=[\u001b[33m\"\u001b[39m\u001b[33mMovieID\u001b[39m\u001b[33m\"\u001b[39m, \u001b[33m\"\u001b[39m\u001b[33mTitle\u001b[39m\u001b[33m\"\u001b[39m, \u001b[33m\"\u001b[39m\u001b[33mGenres\u001b[39m\u001b[33m\"\u001b[39m], encoding=\u001b[33m\"\u001b[39m\u001b[33mlatin1\u001b[39m\u001b[33m\"\u001b[39m)\n\u001b[32m      7\u001b[39m ratings = pd.read_csv(ratings_file, sep=\u001b[33m\"\u001b[39m\u001b[33m::\u001b[39m\u001b[33m\"\u001b[39m, engine=\u001b[33m\"\u001b[39m\u001b[33mpython\u001b[39m\u001b[33m\"\u001b[39m, names=[\u001b[33m\"\u001b[39m\u001b[33mUserID\u001b[39m\u001b[33m\"\u001b[39m, \u001b[33m\"\u001b[39m\u001b[33mMovieID\u001b[39m\u001b[33m\"\u001b[39m, \u001b[33m\"\u001b[39m\u001b[33mRating\u001b[39m\u001b[33m\"\u001b[39m, \u001b[33m\"\u001b[39m\u001b[33mTimestamp\u001b[39m\u001b[33m\"\u001b[39m])\n",
      "\u001b[36mFile \u001b[39m\u001b[32mD:\\Study\\Ing\\2LS\\ISA\\Projekty\\1\\MovieRecommendationSystem-ISA-\\venv\\Lib\\site-packages\\pandas\\io\\parsers\\readers.py:1026\u001b[39m, in \u001b[36mread_csv\u001b[39m\u001b[34m(filepath_or_buffer, sep, delimiter, header, names, index_col, usecols, dtype, engine, converters, true_values, false_values, skipinitialspace, skiprows, skipfooter, nrows, na_values, keep_default_na, na_filter, verbose, skip_blank_lines, parse_dates, infer_datetime_format, keep_date_col, date_parser, date_format, dayfirst, cache_dates, iterator, chunksize, compression, thousands, decimal, lineterminator, quotechar, quoting, doublequote, escapechar, comment, encoding, encoding_errors, dialect, on_bad_lines, delim_whitespace, low_memory, memory_map, float_precision, storage_options, dtype_backend)\u001b[39m\n\u001b[32m   1013\u001b[39m kwds_defaults = _refine_defaults_read(\n\u001b[32m   1014\u001b[39m     dialect,\n\u001b[32m   1015\u001b[39m     delimiter,\n\u001b[32m   (...)\u001b[39m\u001b[32m   1022\u001b[39m     dtype_backend=dtype_backend,\n\u001b[32m   1023\u001b[39m )\n\u001b[32m   1024\u001b[39m kwds.update(kwds_defaults)\n\u001b[32m-> \u001b[39m\u001b[32m1026\u001b[39m \u001b[38;5;28;01mreturn\u001b[39;00m \u001b[43m_read\u001b[49m\u001b[43m(\u001b[49m\u001b[43mfilepath_or_buffer\u001b[49m\u001b[43m,\u001b[49m\u001b[43m \u001b[49m\u001b[43mkwds\u001b[49m\u001b[43m)\u001b[49m\n",
      "\u001b[36mFile \u001b[39m\u001b[32mD:\\Study\\Ing\\2LS\\ISA\\Projekty\\1\\MovieRecommendationSystem-ISA-\\venv\\Lib\\site-packages\\pandas\\io\\parsers\\readers.py:620\u001b[39m, in \u001b[36m_read\u001b[39m\u001b[34m(filepath_or_buffer, kwds)\u001b[39m\n\u001b[32m    617\u001b[39m _validate_names(kwds.get(\u001b[33m\"\u001b[39m\u001b[33mnames\u001b[39m\u001b[33m\"\u001b[39m, \u001b[38;5;28;01mNone\u001b[39;00m))\n\u001b[32m    619\u001b[39m \u001b[38;5;66;03m# Create the parser.\u001b[39;00m\n\u001b[32m--> \u001b[39m\u001b[32m620\u001b[39m parser = \u001b[43mTextFileReader\u001b[49m\u001b[43m(\u001b[49m\u001b[43mfilepath_or_buffer\u001b[49m\u001b[43m,\u001b[49m\u001b[43m \u001b[49m\u001b[43m*\u001b[49m\u001b[43m*\u001b[49m\u001b[43mkwds\u001b[49m\u001b[43m)\u001b[49m\n\u001b[32m    622\u001b[39m \u001b[38;5;28;01mif\u001b[39;00m chunksize \u001b[38;5;129;01mor\u001b[39;00m iterator:\n\u001b[32m    623\u001b[39m     \u001b[38;5;28;01mreturn\u001b[39;00m parser\n",
      "\u001b[36mFile \u001b[39m\u001b[32mD:\\Study\\Ing\\2LS\\ISA\\Projekty\\1\\MovieRecommendationSystem-ISA-\\venv\\Lib\\site-packages\\pandas\\io\\parsers\\readers.py:1620\u001b[39m, in \u001b[36mTextFileReader.__init__\u001b[39m\u001b[34m(self, f, engine, **kwds)\u001b[39m\n\u001b[32m   1617\u001b[39m     \u001b[38;5;28mself\u001b[39m.options[\u001b[33m\"\u001b[39m\u001b[33mhas_index_names\u001b[39m\u001b[33m\"\u001b[39m] = kwds[\u001b[33m\"\u001b[39m\u001b[33mhas_index_names\u001b[39m\u001b[33m\"\u001b[39m]\n\u001b[32m   1619\u001b[39m \u001b[38;5;28mself\u001b[39m.handles: IOHandles | \u001b[38;5;28;01mNone\u001b[39;00m = \u001b[38;5;28;01mNone\u001b[39;00m\n\u001b[32m-> \u001b[39m\u001b[32m1620\u001b[39m \u001b[38;5;28mself\u001b[39m._engine = \u001b[38;5;28;43mself\u001b[39;49m\u001b[43m.\u001b[49m\u001b[43m_make_engine\u001b[49m\u001b[43m(\u001b[49m\u001b[43mf\u001b[49m\u001b[43m,\u001b[49m\u001b[43m \u001b[49m\u001b[38;5;28;43mself\u001b[39;49m\u001b[43m.\u001b[49m\u001b[43mengine\u001b[49m\u001b[43m)\u001b[49m\n",
      "\u001b[36mFile \u001b[39m\u001b[32mD:\\Study\\Ing\\2LS\\ISA\\Projekty\\1\\MovieRecommendationSystem-ISA-\\venv\\Lib\\site-packages\\pandas\\io\\parsers\\readers.py:1880\u001b[39m, in \u001b[36mTextFileReader._make_engine\u001b[39m\u001b[34m(self, f, engine)\u001b[39m\n\u001b[32m   1878\u001b[39m     \u001b[38;5;28;01mif\u001b[39;00m \u001b[33m\"\u001b[39m\u001b[33mb\u001b[39m\u001b[33m\"\u001b[39m \u001b[38;5;129;01mnot\u001b[39;00m \u001b[38;5;129;01min\u001b[39;00m mode:\n\u001b[32m   1879\u001b[39m         mode += \u001b[33m\"\u001b[39m\u001b[33mb\u001b[39m\u001b[33m\"\u001b[39m\n\u001b[32m-> \u001b[39m\u001b[32m1880\u001b[39m \u001b[38;5;28mself\u001b[39m.handles = \u001b[43mget_handle\u001b[49m\u001b[43m(\u001b[49m\n\u001b[32m   1881\u001b[39m \u001b[43m    \u001b[49m\u001b[43mf\u001b[49m\u001b[43m,\u001b[49m\n\u001b[32m   1882\u001b[39m \u001b[43m    \u001b[49m\u001b[43mmode\u001b[49m\u001b[43m,\u001b[49m\n\u001b[32m   1883\u001b[39m \u001b[43m    \u001b[49m\u001b[43mencoding\u001b[49m\u001b[43m=\u001b[49m\u001b[38;5;28;43mself\u001b[39;49m\u001b[43m.\u001b[49m\u001b[43moptions\u001b[49m\u001b[43m.\u001b[49m\u001b[43mget\u001b[49m\u001b[43m(\u001b[49m\u001b[33;43m\"\u001b[39;49m\u001b[33;43mencoding\u001b[39;49m\u001b[33;43m\"\u001b[39;49m\u001b[43m,\u001b[49m\u001b[43m \u001b[49m\u001b[38;5;28;43;01mNone\u001b[39;49;00m\u001b[43m)\u001b[49m\u001b[43m,\u001b[49m\n\u001b[32m   1884\u001b[39m \u001b[43m    \u001b[49m\u001b[43mcompression\u001b[49m\u001b[43m=\u001b[49m\u001b[38;5;28;43mself\u001b[39;49m\u001b[43m.\u001b[49m\u001b[43moptions\u001b[49m\u001b[43m.\u001b[49m\u001b[43mget\u001b[49m\u001b[43m(\u001b[49m\u001b[33;43m\"\u001b[39;49m\u001b[33;43mcompression\u001b[39;49m\u001b[33;43m\"\u001b[39;49m\u001b[43m,\u001b[49m\u001b[43m \u001b[49m\u001b[38;5;28;43;01mNone\u001b[39;49;00m\u001b[43m)\u001b[49m\u001b[43m,\u001b[49m\n\u001b[32m   1885\u001b[39m \u001b[43m    \u001b[49m\u001b[43mmemory_map\u001b[49m\u001b[43m=\u001b[49m\u001b[38;5;28;43mself\u001b[39;49m\u001b[43m.\u001b[49m\u001b[43moptions\u001b[49m\u001b[43m.\u001b[49m\u001b[43mget\u001b[49m\u001b[43m(\u001b[49m\u001b[33;43m\"\u001b[39;49m\u001b[33;43mmemory_map\u001b[39;49m\u001b[33;43m\"\u001b[39;49m\u001b[43m,\u001b[49m\u001b[43m \u001b[49m\u001b[38;5;28;43;01mFalse\u001b[39;49;00m\u001b[43m)\u001b[49m\u001b[43m,\u001b[49m\n\u001b[32m   1886\u001b[39m \u001b[43m    \u001b[49m\u001b[43mis_text\u001b[49m\u001b[43m=\u001b[49m\u001b[43mis_text\u001b[49m\u001b[43m,\u001b[49m\n\u001b[32m   1887\u001b[39m \u001b[43m    \u001b[49m\u001b[43merrors\u001b[49m\u001b[43m=\u001b[49m\u001b[38;5;28;43mself\u001b[39;49m\u001b[43m.\u001b[49m\u001b[43moptions\u001b[49m\u001b[43m.\u001b[49m\u001b[43mget\u001b[49m\u001b[43m(\u001b[49m\u001b[33;43m\"\u001b[39;49m\u001b[33;43mencoding_errors\u001b[39;49m\u001b[33;43m\"\u001b[39;49m\u001b[43m,\u001b[49m\u001b[43m \u001b[49m\u001b[33;43m\"\u001b[39;49m\u001b[33;43mstrict\u001b[39;49m\u001b[33;43m\"\u001b[39;49m\u001b[43m)\u001b[49m\u001b[43m,\u001b[49m\n\u001b[32m   1888\u001b[39m \u001b[43m    \u001b[49m\u001b[43mstorage_options\u001b[49m\u001b[43m=\u001b[49m\u001b[38;5;28;43mself\u001b[39;49m\u001b[43m.\u001b[49m\u001b[43moptions\u001b[49m\u001b[43m.\u001b[49m\u001b[43mget\u001b[49m\u001b[43m(\u001b[49m\u001b[33;43m\"\u001b[39;49m\u001b[33;43mstorage_options\u001b[39;49m\u001b[33;43m\"\u001b[39;49m\u001b[43m,\u001b[49m\u001b[43m \u001b[49m\u001b[38;5;28;43;01mNone\u001b[39;49;00m\u001b[43m)\u001b[49m\u001b[43m,\u001b[49m\n\u001b[32m   1889\u001b[39m \u001b[43m\u001b[49m\u001b[43m)\u001b[49m\n\u001b[32m   1890\u001b[39m \u001b[38;5;28;01massert\u001b[39;00m \u001b[38;5;28mself\u001b[39m.handles \u001b[38;5;129;01mis\u001b[39;00m \u001b[38;5;129;01mnot\u001b[39;00m \u001b[38;5;28;01mNone\u001b[39;00m\n\u001b[32m   1891\u001b[39m f = \u001b[38;5;28mself\u001b[39m.handles.handle\n",
      "\u001b[36mFile \u001b[39m\u001b[32mD:\\Study\\Ing\\2LS\\ISA\\Projekty\\1\\MovieRecommendationSystem-ISA-\\venv\\Lib\\site-packages\\pandas\\io\\common.py:873\u001b[39m, in \u001b[36mget_handle\u001b[39m\u001b[34m(path_or_buf, mode, encoding, compression, memory_map, is_text, errors, storage_options)\u001b[39m\n\u001b[32m    868\u001b[39m \u001b[38;5;28;01melif\u001b[39;00m \u001b[38;5;28misinstance\u001b[39m(handle, \u001b[38;5;28mstr\u001b[39m):\n\u001b[32m    869\u001b[39m     \u001b[38;5;66;03m# Check whether the filename is to be opened in binary mode.\u001b[39;00m\n\u001b[32m    870\u001b[39m     \u001b[38;5;66;03m# Binary mode does not support 'encoding' and 'newline'.\u001b[39;00m\n\u001b[32m    871\u001b[39m     \u001b[38;5;28;01mif\u001b[39;00m ioargs.encoding \u001b[38;5;129;01mand\u001b[39;00m \u001b[33m\"\u001b[39m\u001b[33mb\u001b[39m\u001b[33m\"\u001b[39m \u001b[38;5;129;01mnot\u001b[39;00m \u001b[38;5;129;01min\u001b[39;00m ioargs.mode:\n\u001b[32m    872\u001b[39m         \u001b[38;5;66;03m# Encoding\u001b[39;00m\n\u001b[32m--> \u001b[39m\u001b[32m873\u001b[39m         handle = \u001b[38;5;28;43mopen\u001b[39;49m\u001b[43m(\u001b[49m\n\u001b[32m    874\u001b[39m \u001b[43m            \u001b[49m\u001b[43mhandle\u001b[49m\u001b[43m,\u001b[49m\n\u001b[32m    875\u001b[39m \u001b[43m            \u001b[49m\u001b[43mioargs\u001b[49m\u001b[43m.\u001b[49m\u001b[43mmode\u001b[49m\u001b[43m,\u001b[49m\n\u001b[32m    876\u001b[39m \u001b[43m            \u001b[49m\u001b[43mencoding\u001b[49m\u001b[43m=\u001b[49m\u001b[43mioargs\u001b[49m\u001b[43m.\u001b[49m\u001b[43mencoding\u001b[49m\u001b[43m,\u001b[49m\n\u001b[32m    877\u001b[39m \u001b[43m            \u001b[49m\u001b[43merrors\u001b[49m\u001b[43m=\u001b[49m\u001b[43merrors\u001b[49m\u001b[43m,\u001b[49m\n\u001b[32m    878\u001b[39m \u001b[43m            \u001b[49m\u001b[43mnewline\u001b[49m\u001b[43m=\u001b[49m\u001b[33;43m\"\u001b[39;49m\u001b[33;43m\"\u001b[39;49m\u001b[43m,\u001b[49m\n\u001b[32m    879\u001b[39m \u001b[43m        \u001b[49m\u001b[43m)\u001b[49m\n\u001b[32m    880\u001b[39m     \u001b[38;5;28;01melse\u001b[39;00m:\n\u001b[32m    881\u001b[39m         \u001b[38;5;66;03m# Binary mode\u001b[39;00m\n\u001b[32m    882\u001b[39m         handle = \u001b[38;5;28mopen\u001b[39m(handle, ioargs.mode)\n",
      "\u001b[31mFileNotFoundError\u001b[39m: [Errno 2] No such file or directory: '../data/raw/users.dat'"
     ]
    }
   ],
   "source": [
    "\n",
    "users_file = os.path.join(RAW_DATA_DIR, \"users.dat\")\n",
    "movies_file = os.path.join(RAW_DATA_DIR, \"movies.dat\")\n",
    "ratings_file = os.path.join(RAW_DATA_DIR, \"ratings.dat\")\n",
    "\n",
    "users = pd.read_csv(users_file, sep=\"::\", engine=\"python\", names=[\"UserID\", \"Gender\", \"Age\", \"Occupation\", \"Zip-code\"])\n",
    "movies = pd.read_csv(movies_file, sep=\"::\", engine=\"python\", names=[\"MovieID\", \"Title\", \"Genres\"], encoding=\"latin1\")\n",
    "ratings = pd.read_csv(ratings_file, sep=\"::\", engine=\"python\", names=[\"UserID\", \"MovieID\", \"Rating\", \"Timestamp\"])"
   ]
  },
  {
   "cell_type": "markdown",
   "id": "582aac19-41ca-43e7-8843-a98e806a19a5",
   "metadata": {},
   "source": [
    "# Preprocessing"
   ]
  },
  {
   "cell_type": "markdown",
   "id": "67aa2367-7619-4427-afbf-56a78342c6ca",
   "metadata": {},
   "source": [
    "## File structures and column names\n",
    "\n",
    "The contain :: separated fields. The columns are not obvious, but the original source provides explanation.\n",
    "\n",
    "The columns in\n",
    "\n",
    "user.dat are UserID::Gender::Age::Occupation::Zip-code\n",
    "where gender is F or M\n",
    "and age is on of [1, 18, 25, 35, 45, 50, 56] which divides the users into age groups\n",
    "occupation is from the interval [0,20], explanation prvided in the original source\n",
    "movies.dat are MovieID::Title::Genres\n",
    "where genres are pipe-separated and are one of the listed categories in the original source\n",
    "ratings.dat are UserID::MovieID::Rating::Timestamp\n",
    "where ratings are on the interval [1,5] (stars count based, only whole numbers)"
   ]
  },
  {
   "cell_type": "code",
   "execution_count": 1,
   "id": "8924dd3d-04ac-4bd6-9a4c-8e7ce1971e74",
   "metadata": {},
   "outputs": [
    {
     "name": "stderr",
     "output_type": "stream",
     "text": [
      "'head' is not recognized as an internal or external command,\n",
      "operable program or batch file.\n"
     ]
    }
   ],
   "source": [
    "!head ../data/raw/ratings.dat"
   ]
  },
  {
   "cell_type": "code",
   "execution_count": 4,
   "id": "e9b40373-4a86-4937-b4cc-f7f2a209b785",
   "metadata": {},
   "outputs": [
    {
     "name": "stdout",
     "output_type": "stream",
     "text": [
      "✅ Data preprocessed and saved!\n"
     ]
    }
   ],
   "source": [
    "\n",
    "ratings[\"Timestamp\"] = pd.to_datetime(ratings[\"Timestamp\"], unit=\"s\")\n",
    "users[\"Gender\"] = users[\"Gender\"].map({\"F\": 0, \"M\": 1})\n",
    "\n",
    "genres = movies[\"Genres\"].str.get_dummies(\"|\")\n",
    "movies = pd.concat([movies.drop(columns=[\"Genres\"]), genres], axis=1)\n",
    "\n",
    "merged_df = ratings.merge(users, on=\"UserID\").merge(movies, on=\"MovieID\")\n",
    "os.makedirs(PROCESSED_DATA_DIR, exist_ok=True)\n",
    "merged_df.to_csv(os.path.join(PROCESSED_DATA_DIR, \"movielens_1m_preprocessed.csv\"), index=False)\n",
    "print(\"✅ Data preprocessed and saved!\")"
   ]
  },
  {
   "cell_type": "markdown",
   "id": "7199a84b-a122-47ef-b0b0-b08eb81af700",
   "metadata": {},
   "source": [
    "# Load preprocessed data"
   ]
  },
  {
   "cell_type": "code",
   "execution_count": 5,
   "id": "220fdb73-0219-4cf0-a618-69abfa614ae7",
   "metadata": {},
   "outputs": [],
   "source": [
    "\n",
    "df = pd.read_csv(os.path.join(PROCESSED_DATA_DIR, \"movielens_1m_preprocessed.csv\"), low_memory=False)"
   ]
  },
  {
   "cell_type": "code",
   "execution_count": 6,
   "id": "91d83c6c-0920-4e63-8916-5ae954257fc4",
   "metadata": {},
   "outputs": [
    {
     "data": {
      "text/plain": [
       "Index(['UserID', 'MovieID', 'Rating', 'Timestamp', 'Gender', 'Age',\n",
       "       'Occupation', 'Zip-code', 'Title', 'Action', 'Adventure', 'Animation',\n",
       "       'Children's', 'Comedy', 'Crime', 'Documentary', 'Drama', 'Fantasy',\n",
       "       'Film-Noir', 'Horror', 'Musical', 'Mystery', 'Romance', 'Sci-Fi',\n",
       "       'Thriller', 'War', 'Western'],\n",
       "      dtype='object')"
      ]
     },
     "execution_count": 6,
     "metadata": {},
     "output_type": "execute_result"
    }
   ],
   "source": [
    "df.columns\n"
   ]
  },
  {
   "cell_type": "markdown",
   "id": "b7d46c7f-fe4b-4c3e-87a5-15a5937053cd",
   "metadata": {},
   "source": [
    "# Convert IDs to indexes"
   ]
  },
  {
   "cell_type": "code",
   "execution_count": 7,
   "id": "9585da28-0f10-4fe3-9640-846fe8f25998",
   "metadata": {},
   "outputs": [],
   "source": [
    "\n",
    "user_ids = df[\"UserID\"].unique().tolist()\n",
    "movie_ids = df[\"MovieID\"].unique().tolist()\n",
    "user_id_to_index = {user_id: i for i, user_id in enumerate(user_ids)}\n",
    "movie_id_to_index = {movie_id: i for i, movie_id in enumerate(movie_ids)}\n",
    "df[\"UserID\"] = df[\"UserID\"].map(user_id_to_index)\n",
    "df[\"MovieID\"] = df[\"MovieID\"].map(movie_id_to_index)"
   ]
  },
  {
   "cell_type": "markdown",
   "id": "23689b36-5eb2-451c-8e2a-eadc0848bed5",
   "metadata": {},
   "source": [
    "# Train-test split"
   ]
  },
  {
   "cell_type": "code",
   "execution_count": 8,
   "id": "b7e52b34-470b-41f7-a8db-51629e49fe1b",
   "metadata": {},
   "outputs": [],
   "source": [
    "\n",
    "train, test = train_test_split(df, test_size=0.2, random_state=42)\n",
    "num_users = len(user_ids)\n",
    "num_movies = len(movie_ids)\n",
    "embedding_size = 50"
   ]
  },
  {
   "cell_type": "markdown",
   "id": "e891aa6d-dddb-4dec-9047-774fc0b1f0d0",
   "metadata": {},
   "source": [
    "# Build Model"
   ]
  },
  {
   "cell_type": "code",
   "execution_count": 9,
   "id": "ce5583bf-5515-4f93-bbcb-ec21944a1dd2",
   "metadata": {},
   "outputs": [
    {
     "ename": "NameError",
     "evalue": "name 'num_genres' is not defined",
     "output_type": "error",
     "traceback": [
      "\u001b[1;31m---------------------------------------------------------------------------\u001b[0m",
      "\u001b[1;31mNameError\u001b[0m                                 Traceback (most recent call last)",
      "Cell \u001b[1;32mIn[9], line 11\u001b[0m\n\u001b[0;32m      8\u001b[0m input_occupation \u001b[38;5;241m=\u001b[39m Input(shape\u001b[38;5;241m=\u001b[39m(\u001b[38;5;241m1\u001b[39m,))  \u001b[38;5;66;03m# Needs embedding\u001b[39;00m\n\u001b[0;32m     10\u001b[0m \u001b[38;5;66;03m# Additional movie features\u001b[39;00m\n\u001b[1;32m---> 11\u001b[0m input_genres \u001b[38;5;241m=\u001b[39m Input(shape\u001b[38;5;241m=\u001b[39m(\u001b[43mnum_genres\u001b[49m,))  \u001b[38;5;66;03m# One-hot encoded genres\u001b[39;00m\n\u001b[0;32m     13\u001b[0m \u001b[38;5;66;03m# Time feature\u001b[39;00m\n\u001b[0;32m     14\u001b[0m input_timestamp \u001b[38;5;241m=\u001b[39m Input(shape\u001b[38;5;241m=\u001b[39m(\u001b[38;5;241m1\u001b[39m,))\n",
      "\u001b[1;31mNameError\u001b[0m: name 'num_genres' is not defined"
     ]
    }
   ],
   "source": [
    "\n",
    "# User and movie ID inputs\n",
    "input_user = Input(shape=(1,))\n",
    "input_movie = Input(shape=(1,))\n",
    "\n",
    "# Additional user features\n",
    "input_gender = Input(shape=(1,))      # Binary (M/F)\n",
    "input_age = Input(shape=(1,))         # Categorized age\n",
    "input_occupation = Input(shape=(1,))  # Needs embedding\n",
    "\n",
    "# Additional movie features\n",
    "input_genres = Input(shape=(num_genres,))  # One-hot encoded genres\n",
    "\n",
    "# Time feature\n",
    "input_timestamp = Input(shape=(1,))\n",
    "\n",
    "\n",
    "user_embedding = Embedding(input_dim=num_users, output_dim=embedding_size)(input_user)\n",
    "movie_embedding = Embedding(input_dim=num_movies, output_dim=embedding_size)(input_movie)\n",
    "occupation_embedding = Embedding(input_dim=num_occupations, output_dim=embedding_size)(input_occupation)\n",
    "\n",
    "# Flatten embeddings\n",
    "user_vec = Flatten()(user_embedding)\n",
    "movie_vec = Flatten()(movie_embedding)\n",
    "occupation_vec = Flatten()(occupation_embedding)\n",
    "user_vec = Flatten()(user_embedding)\n",
    "movie_vec = Flatten()(movie_embedding)\n",
    "\n",
    "\n",
    "concat = Concatenate()([user_vec, movie_vec, input_gender, input_age, occupation_vec, input_genres, input_timestamp])\n",
    "\n",
    "dense1 = Dense(128, activation=\"relu\", kernel_regularizer=l2(0.001))(concat)\n",
    "drop1 = Dropout(0.2)(dense1)\n",
    "dense2 = Dense(64, activation=\"relu\", kernel_regularizer=l2(0.001))(drop1)\n",
    "drop2 = Dropout(0.2)(dense2)\n",
    "output = Dense(1, activation=\"linear\")(drop2)\n",
    "\n",
    "model = keras.Model(inputs=[input_user, input_movie, input_gender, input_age, input_occupation, input_genres, input_timestamp], \n",
    "                    outputs=output)\n",
    "\n",
    "opt = keras.optimizers.Adam(learning_rate=0.0005)\n",
    "model.compile(optimizer=opt, loss=\"mse\", metrics=[\"mae\"])"
   ]
  },
  {
   "cell_type": "markdown",
   "id": "ad036bc1-f35f-4f35-9749-127ce11413c4",
   "metadata": {},
   "source": [
    "# Train Model"
   ]
  },
  {
   "cell_type": "code",
   "execution_count": null,
   "id": "fcab4314-8999-444c-b1ba-2fe9a813c140",
   "metadata": {},
   "outputs": [],
   "source": [
    "train_X = [train[\"UserID\"].values, train[\"MovieID\"].values, train[\"Gender\"].values, \n",
    "           train[\"Age\"].values, train[\"Occupation\"].values, train[genre_columns].values, \n",
    "           train[\"Timestamp\"].values]\n",
    "\n",
    "test_X = [test[\"UserID\"].values, test[\"MovieID\"].values, test[\"Gender\"].values, \n",
    "          test[\"Age\"].values, test[\"Occupation\"].values, test[genre_columns].values, \n",
    "          test[\"Timestamp\"].values]\n",
    "\n",
    "early_stopping = EarlyStopping(monitor=\"val_loss\", patience=3, restore_best_weights=True)\n",
    "\n",
    "early_stopping = EarlyStopping(monitor=\"val_loss\", patience=3, restore_best_weights=True)\n",
    "\n",
    "model.fit(train_X, train_y, \n",
    "          epochs=20, batch_size=128, \n",
    "          validation_data=(test_X, test_y), \n",
    "          callbacks=[early_stopping])\n",
    "\n",
    "os.makedirs(MODEL_DIR, exist_ok=True)\n",
    "model.save(MODEL_PATH)\n",
    "print(\"✅ Model trained and saved!\")"
   ]
  },
  {
   "cell_type": "markdown",
   "id": "622447a8-0aca-4f73-917a-78a05583f60f",
   "metadata": {},
   "source": [
    "# Load model"
   ]
  },
  {
   "cell_type": "code",
   "execution_count": null,
   "id": "e8c272b5-49ff-4112-be06-18a6632bcd9a",
   "metadata": {},
   "outputs": [],
   "source": [
    "\n",
    "df = pd.read_csv(os.path.join(PROCESSED_DATA_DIR, \"movielens_1m_preprocessed.csv\"), low_memory=False)\n",
    "model = tf.keras.models.load_model(MODEL_PATH)\n",
    "\n",
    "user_id_to_index = {user_id: i for i, user_id in enumerate(user_ids)}\n",
    "movie_id_to_index = {movie_id: i for i, movie_id in enumerate(movie_ids)}\n",
    "index_to_movie_id = {i: movie_id for movie_id, i in movie_id_to_index.items()}\n",
    "movie_id_to_title = df.set_index(\"MovieID\")[\"Title\"].to_dict()"
   ]
  },
  {
   "cell_type": "markdown",
   "id": "8c2596e4-1b4f-4e38-8650-903325dee931",
   "metadata": {},
   "source": [
    "# Recommendation Function"
   ]
  },
  {
   "cell_type": "code",
   "execution_count": null,
   "id": "ca1b31f8-5b5b-44e2-b449-339e54591282",
   "metadata": {},
   "outputs": [],
   "source": [
    "\n",
    "def get_top_n_recommendations(user_id, n=10):\n",
    "    if user_id not in user_id_to_index:\n",
    "        print(f\"⚠️ User id {user_id} not found.\")\n",
    "        return []\n",
    "    \n",
    "    user_index = user_id_to_index[user_id]\n",
    "    rated_movies = df[df[\"UserID\"] == user_id][\"MovieID\"].values\n",
    "    unrated_movie_ids = [m for m in movie_ids if m not in rated_movies]\n",
    "    \n",
    "    if not unrated_movie_ids:\n",
    "        print(f\"🎬 User {user_id} has rated all movies. No new recommendations.\")\n",
    "        return []\n",
    "    \n",
    "    unrated_movie_indices = np.array([movie_id_to_index[m] for m in unrated_movie_ids])\n",
    "    user_indices = np.full_like(unrated_movie_indices, user_index)\n",
    "    predicted_ratings = model.predict([user_indices, unrated_movie_indices]).flatten()\n",
    "    \n",
    "    top_n_indices = np.argsort(predicted_ratings)[-n:][::-1]\n",
    "    top_n_movies = [(index_to_movie_id[unrated_movie_indices[i]], predicted_ratings[i]) for i in top_n_indices]\n",
    "    \n",
    "    return top_n_movies\n"
   ]
  },
  {
   "cell_type": "markdown",
   "id": "7966c391-5c5e-415d-90ad-cf83488de899",
   "metadata": {},
   "source": [
    "# Get User ID"
   ]
  },
  {
   "cell_type": "code",
   "execution_count": null,
   "id": "da04465a-5a42-4607-849b-d21704480fe9",
   "metadata": {},
   "outputs": [],
   "source": [
    "\n",
    "try:\n",
    "    min_id, max_id = min(user_ids), max(user_ids)\n",
    "    print(f\"\\n👥 Available user ids: {min_id} - {max_id}\")\n",
    "    user_id = int(input(\"Enter UserID: \").strip())\n",
    "    recommendations = get_top_n_recommendations(user_id, 10)\n",
    "    \n",
    "    if recommendations:\n",
    "        print(\"\\n🎥 Top 10 movie recommendations:\")\n",
    "        for movie_id, rating in recommendations:\n",
    "            movie_title = movie_id_to_title.get(movie_id, \"Unknown Movie\")\n",
    "            print(f\"⭐ {movie_title} (Predicted rating: {rating:.2f})\")\n",
    "except ValueError:\n",
    "    print(\"❌ Invalid input! Enter a numeric UserID.\")\n"
   ]
  },
  {
   "cell_type": "code",
   "execution_count": null,
   "id": "fa9cad76-afa0-467d-a18f-53da2775ff25",
   "metadata": {},
   "outputs": [],
   "source": []
  }
 ],
 "metadata": {
  "kernelspec": {
   "display_name": "Python 3 (ipykernel)",
   "language": "python",
   "name": "python3"
  },
  "language_info": {
   "codemirror_mode": {
    "name": "ipython",
    "version": 3
   },
   "file_extension": ".py",
   "mimetype": "text/x-python",
   "name": "python",
   "nbconvert_exporter": "python",
   "pygments_lexer": "ipython3",
   "version": "3.11.5"
  }
 },
 "nbformat": 4,
 "nbformat_minor": 5
}
